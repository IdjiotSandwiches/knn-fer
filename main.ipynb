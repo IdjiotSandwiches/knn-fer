{
  "nbformat": 4,
  "nbformat_minor": 0,
  "metadata": {
    "colab": {
      "provenance": [],
      "authorship_tag": "ABX9TyNufs4pphrWr/qHtOamufao",
      "include_colab_link": true
    },
    "kernelspec": {
      "name": "python3",
      "display_name": "Python 3"
    },
    "language_info": {
      "name": "python"
    },
    "widgets": {
      "application/vnd.jupyter.widget-state+json": {
        "65110a990eb64c65907e3eb25d03b6e8": {
          "model_module": "@jupyter-widgets/controls",
          "model_name": "HBoxModel",
          "model_module_version": "1.5.0",
          "state": {
            "_dom_classes": [],
            "_model_module": "@jupyter-widgets/controls",
            "_model_module_version": "1.5.0",
            "_model_name": "HBoxModel",
            "_view_count": null,
            "_view_module": "@jupyter-widgets/controls",
            "_view_module_version": "1.5.0",
            "_view_name": "HBoxView",
            "box_style": "",
            "children": [
              "IPY_MODEL_bfcce43f620849e38ec8ff8eb314b7d1",
              "IPY_MODEL_70a327899e0a4209b490a0e405b28d04",
              "IPY_MODEL_5ecc811399a24b859eb71f1c5def10e2"
            ],
            "layout": "IPY_MODEL_7cebfe55e3294ad694c6410e8ca71d93"
          }
        },
        "bfcce43f620849e38ec8ff8eb314b7d1": {
          "model_module": "@jupyter-widgets/controls",
          "model_name": "HTMLModel",
          "model_module_version": "1.5.0",
          "state": {
            "_dom_classes": [],
            "_model_module": "@jupyter-widgets/controls",
            "_model_module_version": "1.5.0",
            "_model_name": "HTMLModel",
            "_view_count": null,
            "_view_module": "@jupyter-widgets/controls",
            "_view_module_version": "1.5.0",
            "_view_name": "HTMLView",
            "description": "",
            "description_tooltip": null,
            "layout": "IPY_MODEL_359b914587604010bfcd75d359299dab",
            "placeholder": "​",
            "style": "IPY_MODEL_aaa42a9bee32489189837356b1b5879e",
            "value": "Downloading artifacts: 100%"
          }
        },
        "70a327899e0a4209b490a0e405b28d04": {
          "model_module": "@jupyter-widgets/controls",
          "model_name": "FloatProgressModel",
          "model_module_version": "1.5.0",
          "state": {
            "_dom_classes": [],
            "_model_module": "@jupyter-widgets/controls",
            "_model_module_version": "1.5.0",
            "_model_name": "FloatProgressModel",
            "_view_count": null,
            "_view_module": "@jupyter-widgets/controls",
            "_view_module_version": "1.5.0",
            "_view_name": "ProgressView",
            "bar_style": "success",
            "description": "",
            "description_tooltip": null,
            "layout": "IPY_MODEL_075a96abc4f64986957444f170d55b4d",
            "max": 7,
            "min": 0,
            "orientation": "horizontal",
            "style": "IPY_MODEL_e4d91f27fa534a4f908e6f6e4609d208",
            "value": 7
          }
        },
        "5ecc811399a24b859eb71f1c5def10e2": {
          "model_module": "@jupyter-widgets/controls",
          "model_name": "HTMLModel",
          "model_module_version": "1.5.0",
          "state": {
            "_dom_classes": [],
            "_model_module": "@jupyter-widgets/controls",
            "_model_module_version": "1.5.0",
            "_model_name": "HTMLModel",
            "_view_count": null,
            "_view_module": "@jupyter-widgets/controls",
            "_view_module_version": "1.5.0",
            "_view_name": "HTMLView",
            "description": "",
            "description_tooltip": null,
            "layout": "IPY_MODEL_9c119f6587d74afbb0107c7f5fc35c7a",
            "placeholder": "​",
            "style": "IPY_MODEL_0ef02f4dee4e47b9985d0a63d81b7674",
            "value": " 7/7 [12:27&lt;00:00, 234.47s/it]"
          }
        },
        "7cebfe55e3294ad694c6410e8ca71d93": {
          "model_module": "@jupyter-widgets/base",
          "model_name": "LayoutModel",
          "model_module_version": "1.2.0",
          "state": {
            "_model_module": "@jupyter-widgets/base",
            "_model_module_version": "1.2.0",
            "_model_name": "LayoutModel",
            "_view_count": null,
            "_view_module": "@jupyter-widgets/base",
            "_view_module_version": "1.2.0",
            "_view_name": "LayoutView",
            "align_content": null,
            "align_items": null,
            "align_self": null,
            "border": null,
            "bottom": null,
            "display": null,
            "flex": null,
            "flex_flow": null,
            "grid_area": null,
            "grid_auto_columns": null,
            "grid_auto_flow": null,
            "grid_auto_rows": null,
            "grid_column": null,
            "grid_gap": null,
            "grid_row": null,
            "grid_template_areas": null,
            "grid_template_columns": null,
            "grid_template_rows": null,
            "height": null,
            "justify_content": null,
            "justify_items": null,
            "left": null,
            "margin": null,
            "max_height": null,
            "max_width": null,
            "min_height": null,
            "min_width": null,
            "object_fit": null,
            "object_position": null,
            "order": null,
            "overflow": null,
            "overflow_x": null,
            "overflow_y": null,
            "padding": null,
            "right": null,
            "top": null,
            "visibility": null,
            "width": null
          }
        },
        "359b914587604010bfcd75d359299dab": {
          "model_module": "@jupyter-widgets/base",
          "model_name": "LayoutModel",
          "model_module_version": "1.2.0",
          "state": {
            "_model_module": "@jupyter-widgets/base",
            "_model_module_version": "1.2.0",
            "_model_name": "LayoutModel",
            "_view_count": null,
            "_view_module": "@jupyter-widgets/base",
            "_view_module_version": "1.2.0",
            "_view_name": "LayoutView",
            "align_content": null,
            "align_items": null,
            "align_self": null,
            "border": null,
            "bottom": null,
            "display": null,
            "flex": null,
            "flex_flow": null,
            "grid_area": null,
            "grid_auto_columns": null,
            "grid_auto_flow": null,
            "grid_auto_rows": null,
            "grid_column": null,
            "grid_gap": null,
            "grid_row": null,
            "grid_template_areas": null,
            "grid_template_columns": null,
            "grid_template_rows": null,
            "height": null,
            "justify_content": null,
            "justify_items": null,
            "left": null,
            "margin": null,
            "max_height": null,
            "max_width": null,
            "min_height": null,
            "min_width": null,
            "object_fit": null,
            "object_position": null,
            "order": null,
            "overflow": null,
            "overflow_x": null,
            "overflow_y": null,
            "padding": null,
            "right": null,
            "top": null,
            "visibility": null,
            "width": null
          }
        },
        "aaa42a9bee32489189837356b1b5879e": {
          "model_module": "@jupyter-widgets/controls",
          "model_name": "DescriptionStyleModel",
          "model_module_version": "1.5.0",
          "state": {
            "_model_module": "@jupyter-widgets/controls",
            "_model_module_version": "1.5.0",
            "_model_name": "DescriptionStyleModel",
            "_view_count": null,
            "_view_module": "@jupyter-widgets/base",
            "_view_module_version": "1.2.0",
            "_view_name": "StyleView",
            "description_width": ""
          }
        },
        "075a96abc4f64986957444f170d55b4d": {
          "model_module": "@jupyter-widgets/base",
          "model_name": "LayoutModel",
          "model_module_version": "1.2.0",
          "state": {
            "_model_module": "@jupyter-widgets/base",
            "_model_module_version": "1.2.0",
            "_model_name": "LayoutModel",
            "_view_count": null,
            "_view_module": "@jupyter-widgets/base",
            "_view_module_version": "1.2.0",
            "_view_name": "LayoutView",
            "align_content": null,
            "align_items": null,
            "align_self": null,
            "border": null,
            "bottom": null,
            "display": null,
            "flex": null,
            "flex_flow": null,
            "grid_area": null,
            "grid_auto_columns": null,
            "grid_auto_flow": null,
            "grid_auto_rows": null,
            "grid_column": null,
            "grid_gap": null,
            "grid_row": null,
            "grid_template_areas": null,
            "grid_template_columns": null,
            "grid_template_rows": null,
            "height": null,
            "justify_content": null,
            "justify_items": null,
            "left": null,
            "margin": null,
            "max_height": null,
            "max_width": null,
            "min_height": null,
            "min_width": null,
            "object_fit": null,
            "object_position": null,
            "order": null,
            "overflow": null,
            "overflow_x": null,
            "overflow_y": null,
            "padding": null,
            "right": null,
            "top": null,
            "visibility": null,
            "width": null
          }
        },
        "e4d91f27fa534a4f908e6f6e4609d208": {
          "model_module": "@jupyter-widgets/controls",
          "model_name": "ProgressStyleModel",
          "model_module_version": "1.5.0",
          "state": {
            "_model_module": "@jupyter-widgets/controls",
            "_model_module_version": "1.5.0",
            "_model_name": "ProgressStyleModel",
            "_view_count": null,
            "_view_module": "@jupyter-widgets/base",
            "_view_module_version": "1.2.0",
            "_view_name": "StyleView",
            "bar_color": null,
            "description_width": ""
          }
        },
        "9c119f6587d74afbb0107c7f5fc35c7a": {
          "model_module": "@jupyter-widgets/base",
          "model_name": "LayoutModel",
          "model_module_version": "1.2.0",
          "state": {
            "_model_module": "@jupyter-widgets/base",
            "_model_module_version": "1.2.0",
            "_model_name": "LayoutModel",
            "_view_count": null,
            "_view_module": "@jupyter-widgets/base",
            "_view_module_version": "1.2.0",
            "_view_name": "LayoutView",
            "align_content": null,
            "align_items": null,
            "align_self": null,
            "border": null,
            "bottom": null,
            "display": null,
            "flex": null,
            "flex_flow": null,
            "grid_area": null,
            "grid_auto_columns": null,
            "grid_auto_flow": null,
            "grid_auto_rows": null,
            "grid_column": null,
            "grid_gap": null,
            "grid_row": null,
            "grid_template_areas": null,
            "grid_template_columns": null,
            "grid_template_rows": null,
            "height": null,
            "justify_content": null,
            "justify_items": null,
            "left": null,
            "margin": null,
            "max_height": null,
            "max_width": null,
            "min_height": null,
            "min_width": null,
            "object_fit": null,
            "object_position": null,
            "order": null,
            "overflow": null,
            "overflow_x": null,
            "overflow_y": null,
            "padding": null,
            "right": null,
            "top": null,
            "visibility": null,
            "width": null
          }
        },
        "0ef02f4dee4e47b9985d0a63d81b7674": {
          "model_module": "@jupyter-widgets/controls",
          "model_name": "DescriptionStyleModel",
          "model_module_version": "1.5.0",
          "state": {
            "_model_module": "@jupyter-widgets/controls",
            "_model_module_version": "1.5.0",
            "_model_name": "DescriptionStyleModel",
            "_view_count": null,
            "_view_module": "@jupyter-widgets/base",
            "_view_module_version": "1.2.0",
            "_view_name": "StyleView",
            "description_width": ""
          }
        }
      }
    }
  },
  "cells": [
    {
      "cell_type": "markdown",
      "metadata": {
        "id": "view-in-github",
        "colab_type": "text"
      },
      "source": [
        "<a href=\"https://colab.research.google.com/github/IdjiotSandwiches/knn-fer/blob/create-model/main.ipynb\" target=\"_parent\"><img src=\"https://colab.research.google.com/assets/colab-badge.svg\" alt=\"Open In Colab\"/></a>"
      ]
    },
    {
      "cell_type": "code",
      "source": [
        "!pip install dagshub --quiet\n",
        "!pip install mlflow --quiet"
      ],
      "metadata": {
        "id": "W6hUfuo0aRiN",
        "outputId": "43a03e05-6435-492e-95d2-063e755f7111",
        "colab": {
          "base_uri": "https://localhost:8080/"
        }
      },
      "execution_count": 1,
      "outputs": [
        {
          "output_type": "stream",
          "name": "stdout",
          "text": [
            "\u001b[2K   \u001b[90m━━━━━━━━━━━━━━━━━━━━━━━━━━━━━━━━━━━━━━━━\u001b[0m \u001b[32m252.2/252.2 kB\u001b[0m \u001b[31m6.3 MB/s\u001b[0m eta \u001b[36m0:00:00\u001b[0m\n",
            "\u001b[2K   \u001b[90m━━━━━━━━━━━━━━━━━━━━━━━━━━━━━━━━━━━━━━━━\u001b[0m \u001b[32m139.2/139.2 kB\u001b[0m \u001b[31m5.6 MB/s\u001b[0m eta \u001b[36m0:00:00\u001b[0m\n",
            "\u001b[2K   \u001b[90m━━━━━━━━━━━━━━━━━━━━━━━━━━━━━━━━━━━━━━━━\u001b[0m \u001b[32m13.2/13.2 MB\u001b[0m \u001b[31m52.0 MB/s\u001b[0m eta \u001b[36m0:00:00\u001b[0m\n",
            "\u001b[2K   \u001b[90m━━━━━━━━━━━━━━━━━━━━━━━━━━━━━━━━━━━━━━━━\u001b[0m \u001b[32m203.2/203.2 kB\u001b[0m \u001b[31m11.6 MB/s\u001b[0m eta \u001b[36m0:00:00\u001b[0m\n",
            "\u001b[2K   \u001b[90m━━━━━━━━━━━━━━━━━━━━━━━━━━━━━━━━━━━━━━━━\u001b[0m \u001b[32m49.5/49.5 kB\u001b[0m \u001b[31m3.0 MB/s\u001b[0m eta \u001b[36m0:00:00\u001b[0m\n",
            "\u001b[2K   \u001b[90m━━━━━━━━━━━━━━━━━━━━━━━━━━━━━━━━━━━━━━━━\u001b[0m \u001b[32m83.2/83.2 kB\u001b[0m \u001b[31m3.1 MB/s\u001b[0m eta \u001b[36m0:00:00\u001b[0m\n",
            "\u001b[2K   \u001b[90m━━━━━━━━━━━━━━━━━━━━━━━━━━━━━━━━━━━━━━━━\u001b[0m \u001b[32m74.0/74.0 kB\u001b[0m \u001b[31m4.3 MB/s\u001b[0m eta \u001b[36m0:00:00\u001b[0m\n",
            "\u001b[2K   \u001b[90m━━━━━━━━━━━━━━━━━━━━━━━━━━━━━━━━━━━━━━━━\u001b[0m \u001b[32m27.3/27.3 MB\u001b[0m \u001b[31m59.8 MB/s\u001b[0m eta \u001b[36m0:00:00\u001b[0m\n",
            "\u001b[2K   \u001b[90m━━━━━━━━━━━━━━━━━━━━━━━━━━━━━━━━━━━━━━━━\u001b[0m \u001b[32m5.8/5.8 MB\u001b[0m \u001b[31m94.9 MB/s\u001b[0m eta \u001b[36m0:00:00\u001b[0m\n",
            "\u001b[2K   \u001b[90m━━━━━━━━━━━━━━━━━━━━━━━━━━━━━━━━━━━━━━━━\u001b[0m \u001b[32m233.5/233.5 kB\u001b[0m \u001b[31m14.0 MB/s\u001b[0m eta \u001b[36m0:00:00\u001b[0m\n",
            "\u001b[2K   \u001b[90m━━━━━━━━━━━━━━━━━━━━━━━━━━━━━━━━━━━━━━━━\u001b[0m \u001b[32m147.8/147.8 kB\u001b[0m \u001b[31m9.3 MB/s\u001b[0m eta \u001b[36m0:00:00\u001b[0m\n",
            "\u001b[2K   \u001b[90m━━━━━━━━━━━━━━━━━━━━━━━━━━━━━━━━━━━━━━━━\u001b[0m \u001b[32m114.9/114.9 kB\u001b[0m \u001b[31m7.9 MB/s\u001b[0m eta \u001b[36m0:00:00\u001b[0m\n",
            "\u001b[2K   \u001b[90m━━━━━━━━━━━━━━━━━━━━━━━━━━━━━━━━━━━━━━━━\u001b[0m \u001b[32m85.0/85.0 kB\u001b[0m \u001b[31m5.4 MB/s\u001b[0m eta \u001b[36m0:00:00\u001b[0m\n",
            "\u001b[2K   \u001b[90m━━━━━━━━━━━━━━━━━━━━━━━━━━━━━━━━━━━━━━━━\u001b[0m \u001b[32m575.1/575.1 kB\u001b[0m \u001b[31m32.7 MB/s\u001b[0m eta \u001b[36m0:00:00\u001b[0m\n",
            "\u001b[2K   \u001b[90m━━━━━━━━━━━━━━━━━━━━━━━━━━━━━━━━━━━━━━━━\u001b[0m \u001b[32m78.9/78.9 kB\u001b[0m \u001b[31m5.3 MB/s\u001b[0m eta \u001b[36m0:00:00\u001b[0m\n",
            "\u001b[?25h"
          ]
        }
      ]
    },
    {
      "cell_type": "code",
      "execution_count": 1,
      "metadata": {
        "id": "-qnEnkZZokh9"
      },
      "outputs": [],
      "source": [
        "import cv2 as cv\n",
        "import numpy as np\n",
        "import mlflow\n",
        "import dagshub\n",
        "import os\n",
        "import pathlib\n",
        "from sklearn.neighbors import KNeighborsClassifier\n",
        "from sklearn.model_selection import train_test_split\n",
        "from sklearn.metrics import accuracy_score, precision_score, recall_score, f1_score, classification_report\n",
        "from sklearn.calibration import CalibratedClassifierCV\n",
        "from sklearn.model_selection import StratifiedKFold\n",
        "from sklearn.decomposition import PCA"
      ]
    },
    {
      "cell_type": "code",
      "source": [
        "from google.colab import drive\n",
        "drive.mount('/content/drive')\n",
        "\n",
        "%cd \"/content/drive/MyDrive/\""
      ],
      "metadata": {
        "id": "Vu_0Zvd7Uf8S",
        "outputId": "97667654-7075-432e-89b1-eb406d53abad",
        "colab": {
          "base_uri": "https://localhost:8080/"
        }
      },
      "execution_count": 2,
      "outputs": [
        {
          "output_type": "stream",
          "name": "stdout",
          "text": [
            "Drive already mounted at /content/drive; to attempt to forcibly remount, call drive.mount(\"/content/drive\", force_remount=True).\n",
            "/content/drive/MyDrive\n"
          ]
        }
      ]
    },
    {
      "cell_type": "code",
      "source": [
        "PATH = pathlib.Path('facial-emotion-recognition-augmented')\n",
        "LABELS = os.listdir(PATH)"
      ],
      "metadata": {
        "id": "w7tVMC6k2d_C"
      },
      "execution_count": 3,
      "outputs": []
    },
    {
      "cell_type": "code",
      "source": [
        "dagshub.init(repo_owner='IdjiotSandwiches', repo_name='knn-fer', mlflow=True)"
      ],
      "metadata": {
        "id": "0_ZIM-8six15",
        "outputId": "56721d5e-6dd3-4460-d0c7-7f6d6ed5deaa",
        "colab": {
          "base_uri": "https://localhost:8080/",
          "height": 68
        }
      },
      "execution_count": 4,
      "outputs": [
        {
          "output_type": "display_data",
          "data": {
            "text/plain": [
              "Accessing as IdjiotSandwiches\n"
            ],
            "text/html": [
              "<pre style=\"white-space:pre;overflow-x:auto;line-height:normal;font-family:Menlo,'DejaVu Sans Mono',consolas,'Courier New',monospace\">Accessing as IdjiotSandwiches\n",
              "</pre>\n"
            ]
          },
          "metadata": {}
        },
        {
          "output_type": "display_data",
          "data": {
            "text/plain": [
              "Initialized MLflow to track repo \u001b[32m\"IdjiotSandwiches/knn-fer\"\u001b[0m\n"
            ],
            "text/html": [
              "<pre style=\"white-space:pre;overflow-x:auto;line-height:normal;font-family:Menlo,'DejaVu Sans Mono',consolas,'Courier New',monospace\">Initialized MLflow to track repo <span style=\"color: #008000; text-decoration-color: #008000\">\"IdjiotSandwiches/knn-fer\"</span>\n",
              "</pre>\n"
            ]
          },
          "metadata": {}
        },
        {
          "output_type": "display_data",
          "data": {
            "text/plain": [
              "Repository IdjiotSandwiches/knn-fer initialized!\n"
            ],
            "text/html": [
              "<pre style=\"white-space:pre;overflow-x:auto;line-height:normal;font-family:Menlo,'DejaVu Sans Mono',consolas,'Courier New',monospace\">Repository IdjiotSandwiches/knn-fer initialized!\n",
              "</pre>\n"
            ]
          },
          "metadata": {}
        }
      ]
    },
    {
      "cell_type": "code",
      "source": [
        "K_SIZE = (31,31)\n",
        "SIGMA = 4\n",
        "THETA_RANGE = np.arange(0, np.pi, np.pi/32)\n",
        "LAMBD = 10.0\n",
        "GAMMA = 0.5\n",
        "PSI = 0\n",
        "FLOATING_POINT = cv.CV_32F\n",
        "IMAGE_SIZE = (128,128)\n",
        "N_COMPONENTS = 15\n",
        "\n",
        "gabor_params = {\n",
        "    'ksize': K_SIZE,\n",
        "    'sigma': SIGMA,\n",
        "    'lambd': LAMBD,\n",
        "    'gamma': GAMMA,\n",
        "    'psi': PSI\n",
        "}\n",
        "\n",
        "KERNELS = [cv.getGaborKernel(**gabor_params, theta=theta) for theta in THETA_RANGE]"
      ],
      "metadata": {
        "id": "dkTt8IV6c82R"
      },
      "execution_count": 41,
      "outputs": []
    },
    {
      "cell_type": "code",
      "source": [
        "def open_dataset(dir):\n",
        "  images, labels = [], []\n",
        "\n",
        "  for i, label in enumerate(LABELS):\n",
        "    path = f'{dir}/{label}'\n",
        "    for j, img_path in enumerate(os.listdir(path)):\n",
        "      img = cv.imread(f'{path}/{img_path}', cv.IMREAD_GRAYSCALE)\n",
        "      img = cv.resize(img, IMAGE_SIZE)\n",
        "      img = cv.GaussianBlur(img,(5,5),0)\n",
        "      img = cv.equalizeHist(img)\n",
        "      img = img / 255.0\n",
        "      img = gabor_filter(img)\n",
        "\n",
        "      img = img.reshape(img.shape[0],-1)\n",
        "      pca = PCA(n_components=N_COMPONENTS)\n",
        "      img = pca.fit_transform(img)\n",
        "\n",
        "      images.append(img.reshape(-1))\n",
        "      labels.append(i)\n",
        "\n",
        "  return np.array(images), np.array(labels)"
      ],
      "metadata": {
        "id": "nwlypq2AZ0kB"
      },
      "execution_count": 64,
      "outputs": []
    },
    {
      "cell_type": "code",
      "source": [
        "def gabor_filter(img):\n",
        "  return np.array([cv.filter2D(img, FLOATING_POINT, kernel) for kernel in KERNELS])"
      ],
      "metadata": {
        "id": "PsHCDjtqckSM"
      },
      "execution_count": 6,
      "outputs": []
    },
    {
      "cell_type": "code",
      "source": [
        "def save_filtered_img(images, labels):\n",
        "  folder_path = f'/content/drive/MyDrive/gabor-filtered-imgs'\n",
        "  os.makedirs(folder_path, exist_ok=True)\n",
        "\n",
        "  np.save(f'{folder_path}/images.npy', images)\n",
        "  np.save(f'{folder_path}/labels.npy', labels)\n",
        "\n",
        "  print('Ok!')"
      ],
      "metadata": {
        "id": "np5MQV1Spe5A"
      },
      "execution_count": 58,
      "outputs": []
    },
    {
      "cell_type": "code",
      "source": [
        "images, labels = open_dataset(PATH)\n",
        "save_filtered_img(images, labels)"
      ],
      "metadata": {
        "id": "tg7Y6GAw2X73",
        "outputId": "19dd5a4b-b2fa-40fe-ca46-e761eb06c290",
        "colab": {
          "base_uri": "https://localhost:8080/"
        }
      },
      "execution_count": 65,
      "outputs": [
        {
          "output_type": "stream",
          "name": "stdout",
          "text": [
            "Ok!\n"
          ]
        }
      ]
    },
    {
      "cell_type": "code",
      "source": [
        "images = np.load('/content/drive/MyDrive/gabor-filtered-imgs/images.npy')\n",
        "labels = np.load('/content/drive/MyDrive/gabor-filtered-imgs/labels.npy')\n",
        "\n",
        "N_NEIGHBORS = 9\n",
        "WEIGHTS = 'distance'\n",
        "METRIC = 'manhattan'\n",
        "ALGORITHM = 'ball_tree'\n",
        "TEST_SIZE = 0.7\n",
        "RANDOM_STATE = 42\n",
        "N_SPLITS = 10\n",
        "SHUFFLE = True\n",
        "\n",
        "model_params = {\n",
        "  'n_neighbors': N_NEIGHBORS,\n",
        "  'weights': WEIGHTS,\n",
        "  'metric': METRIC,\n",
        "  'algorithm': ALGORITHM\n",
        "}\n",
        "\n",
        "calib_params = {\n",
        "  'test_size': TEST_SIZE,\n",
        "  'random_state': RANDOM_STATE\n",
        "}\n",
        "\n",
        "kfold_params = {\n",
        "    'n_splits': N_SPLITS,\n",
        "    'shuffle': SHUFFLE\n",
        "}\n",
        "\n",
        "skf = StratifiedKFold(**kfold_params)\n",
        "i = 10\n",
        "\n",
        "for train_idx, test_idx in skf.split(images, labels):\n",
        "  X_train, X_test = images[train_idx], images[test_idx]\n",
        "  y_train, y_test = labels[train_idx], labels[test_idx]\n",
        "\n",
        "  X_calib, X_test, y_calib, y_test = train_test_split(X_test, y_test, **calib_params)\n",
        "\n",
        "  model = KNeighborsClassifier(**model_params)\n",
        "  model.fit(X_train, y_train)\n",
        "\n",
        "  calib_model = CalibratedClassifierCV(model, cv=\"prefit\")\n",
        "  calib_model.fit(X_calib, y_calib)\n",
        "\n",
        "  predict = calib_model.predict(X_test)\n",
        "\n",
        "  metrics = {\n",
        "    'accuracy': accuracy_score(y_test, predict),\n",
        "    'precision': precision_score(y_test, predict, average='macro'),\n",
        "    'recall': recall_score(y_test, predict, average='macro'),\n",
        "    'f1': f1_score(y_test, predict, average='macro'),\n",
        "  }\n",
        "\n",
        "  print(f\"Accuracy: {metrics['accuracy']}\\nPrecision: {metrics['precision']}\\nRecall: {metrics['recall']}\\nF1 Score: {metrics['f1']}\")\n",
        "  print(classification_report(y_test, predict))\n",
        "\n",
        "  mlflow.set_experiment(\"KNN_Model Test PCA\")\n",
        "  mlflow.set_tracking_uri(\"https://dagshub.com/IdjiotSandwiches/knn-fer.mlflow\")\n",
        "\n",
        "  with mlflow.start_run(run_name=f'KNN StratifiedKFold={i}'):\n",
        "    mlflow.log_params(gabor_params)\n",
        "    mlflow.log_params(calib_params)\n",
        "    mlflow.log_params(model_params)\n",
        "    mlflow.log_params(kfold_params)\n",
        "    mlflow.log_param('floating_point', FLOATING_POINT)\n",
        "    mlflow.log_param('image_size', IMAGE_SIZE)\n",
        "    mlflow.log_param('PCA_n_components', N_COMPONENTS)\n",
        "    mlflow.log_metrics(metrics)\n",
        "    mlflow.sklearn.log_model(\n",
        "        sk_model=calib_model,\n",
        "        artifact_path='KNN Model',\n",
        "        input_example=X_train[:1]\n",
        "    )\n",
        "  i = i + 1"
      ],
      "metadata": {
        "id": "8XXABw7w8XG_",
        "outputId": "9bdab697-1f52-4a8f-c2a2-d70dea6e5a90",
        "colab": {
          "base_uri": "https://localhost:8080/"
        }
      },
      "execution_count": 66,
      "outputs": [
        {
          "output_type": "stream",
          "name": "stdout",
          "text": [
            "Accuracy: 0.4826086956521739\n",
            "Precision: 0.4952268756658696\n",
            "Recall: 0.4823963687313681\n",
            "F1 Score: 0.48457314223707787\n",
            "              precision    recall  f1-score   support\n",
            "\n",
            "           0       0.49      0.43      0.46       105\n",
            "           1       0.62      0.51      0.56        98\n",
            "           2       0.64      0.62      0.63       101\n",
            "           3       0.54      0.56      0.55       100\n",
            "           4       0.28      0.31      0.30        96\n",
            "           5       0.34      0.49      0.40        85\n",
            "           6       0.57      0.45      0.50       105\n",
            "\n",
            "    accuracy                           0.48       690\n",
            "   macro avg       0.50      0.48      0.48       690\n",
            "weighted avg       0.50      0.48      0.49       690\n",
            "\n"
          ]
        },
        {
          "output_type": "stream",
          "name": "stderr",
          "text": [
            "2024/12/07 16:07:07 INFO mlflow.tracking.fluent: Experiment with name 'KNN_Model Test PCA' does not exist. Creating a new experiment.\n"
          ]
        },
        {
          "output_type": "stream",
          "name": "stdout",
          "text": [
            "🏃 View run KNN StratifiedKFold=10 at: https://dagshub.com/IdjiotSandwiches/knn-fer.mlflow/#/experiments/12/runs/ca1b12c737664d98a4a900cebc254f15\n",
            "🧪 View experiment at: https://dagshub.com/IdjiotSandwiches/knn-fer.mlflow/#/experiments/12\n",
            "Accuracy: 0.4811594202898551\n",
            "Precision: 0.4908831912444037\n",
            "Recall: 0.48027792871038094\n",
            "F1 Score: 0.4826550682257659\n",
            "              precision    recall  f1-score   support\n",
            "\n",
            "           0       0.63      0.50      0.56       105\n",
            "           1       0.56      0.56      0.56        98\n",
            "           2       0.57      0.57      0.57       101\n",
            "           3       0.60      0.53      0.56       100\n",
            "           4       0.34      0.35      0.35        96\n",
            "           5       0.32      0.45      0.37        85\n",
            "           6       0.41      0.39      0.40       105\n",
            "\n",
            "    accuracy                           0.48       690\n",
            "   macro avg       0.49      0.48      0.48       690\n",
            "weighted avg       0.50      0.48      0.49       690\n",
            "\n",
            "🏃 View run KNN StratifiedKFold=11 at: https://dagshub.com/IdjiotSandwiches/knn-fer.mlflow/#/experiments/12/runs/56e23870d5db4eb2b73bb8729505cd3d\n",
            "🧪 View experiment at: https://dagshub.com/IdjiotSandwiches/knn-fer.mlflow/#/experiments/12\n",
            "Accuracy: 0.5166908563134979\n",
            "Precision: 0.5378343772124416\n",
            "Recall: 0.5172007318799726\n",
            "F1 Score: 0.5201607673758343\n",
            "              precision    recall  f1-score   support\n",
            "\n",
            "           0       0.65      0.50      0.56       105\n",
            "           1       0.64      0.48      0.55        97\n",
            "           2       0.63      0.56      0.59       101\n",
            "           3       0.59      0.64      0.61       100\n",
            "           4       0.33      0.42      0.37        96\n",
            "           5       0.37      0.55      0.44        85\n",
            "           6       0.56      0.47      0.51       105\n",
            "\n",
            "    accuracy                           0.52       689\n",
            "   macro avg       0.54      0.52      0.52       689\n",
            "weighted avg       0.54      0.52      0.52       689\n",
            "\n",
            "🏃 View run KNN StratifiedKFold=12 at: https://dagshub.com/IdjiotSandwiches/knn-fer.mlflow/#/experiments/12/runs/0bf4648e85f943ffb6c3d673b0c93409\n",
            "🧪 View experiment at: https://dagshub.com/IdjiotSandwiches/knn-fer.mlflow/#/experiments/12\n",
            "Accuracy: 0.4746008708272859\n",
            "Precision: 0.48161332689898106\n",
            "Recall: 0.4742237680006166\n",
            "F1 Score: 0.4732217340461776\n",
            "              precision    recall  f1-score   support\n",
            "\n",
            "           0       0.59      0.46      0.51       105\n",
            "           1       0.54      0.61      0.57        97\n",
            "           2       0.55      0.48      0.51       101\n",
            "           3       0.49      0.57      0.53       100\n",
            "           4       0.35      0.44      0.39        96\n",
            "           5       0.35      0.40      0.38        85\n",
            "           6       0.51      0.37      0.43       105\n",
            "\n",
            "    accuracy                           0.47       689\n",
            "   macro avg       0.48      0.47      0.47       689\n",
            "weighted avg       0.49      0.47      0.48       689\n",
            "\n",
            "🏃 View run KNN StratifiedKFold=13 at: https://dagshub.com/IdjiotSandwiches/knn-fer.mlflow/#/experiments/12/runs/bbd2f00d40e64c85b68053d0ca1f1607\n",
            "🧪 View experiment at: https://dagshub.com/IdjiotSandwiches/knn-fer.mlflow/#/experiments/12\n",
            "Accuracy: 0.5283018867924528\n",
            "Precision: 0.5380744517726493\n",
            "Recall: 0.5302955281837141\n",
            "F1 Score: 0.5290616802941601\n",
            "              precision    recall  f1-score   support\n",
            "\n",
            "           0       0.55      0.50      0.52       105\n",
            "           1       0.62      0.64      0.63        97\n",
            "           2       0.61      0.59      0.60       101\n",
            "           3       0.69      0.60      0.64       100\n",
            "           4       0.39      0.47      0.42        96\n",
            "           5       0.39      0.55      0.46        85\n",
            "           6       0.52      0.36      0.43       105\n",
            "\n",
            "    accuracy                           0.53       689\n",
            "   macro avg       0.54      0.53      0.53       689\n",
            "weighted avg       0.54      0.53      0.53       689\n",
            "\n",
            "🏃 View run KNN StratifiedKFold=14 at: https://dagshub.com/IdjiotSandwiches/knn-fer.mlflow/#/experiments/12/runs/3f38bc6e460e4dedb74dd4918594b95f\n",
            "🧪 View experiment at: https://dagshub.com/IdjiotSandwiches/knn-fer.mlflow/#/experiments/12\n",
            "Accuracy: 0.5036284470246735\n",
            "Precision: 0.5242796839797684\n",
            "Recall: 0.5019088453999545\n",
            "F1 Score: 0.5093104461691219\n",
            "              precision    recall  f1-score   support\n",
            "\n",
            "           0       0.67      0.55      0.60       105\n",
            "           1       0.64      0.60      0.62        97\n",
            "           2       0.65      0.53      0.59       101\n",
            "           3       0.59      0.58      0.59       100\n",
            "           4       0.27      0.38      0.32        96\n",
            "           5       0.35      0.44      0.39        85\n",
            "           6       0.49      0.44      0.46       105\n",
            "\n",
            "    accuracy                           0.50       689\n",
            "   macro avg       0.52      0.50      0.51       689\n",
            "weighted avg       0.53      0.50      0.51       689\n",
            "\n",
            "🏃 View run KNN StratifiedKFold=15 at: https://dagshub.com/IdjiotSandwiches/knn-fer.mlflow/#/experiments/12/runs/24fc0482fa214b56b093f36c35530d70\n",
            "🧪 View experiment at: https://dagshub.com/IdjiotSandwiches/knn-fer.mlflow/#/experiments/12\n",
            "Accuracy: 0.4716981132075472\n",
            "Precision: 0.47335814199230797\n",
            "Recall: 0.4715016070077253\n",
            "F1 Score: 0.468411799390886\n",
            "              precision    recall  f1-score   support\n",
            "\n",
            "           0       0.61      0.50      0.55       104\n",
            "           1       0.50      0.55      0.52        98\n",
            "           2       0.54      0.51      0.53       101\n",
            "           3       0.53      0.63      0.58       100\n",
            "           4       0.34      0.36      0.35        96\n",
            "           5       0.36      0.44      0.39        85\n",
            "           6       0.44      0.30      0.36       105\n",
            "\n",
            "    accuracy                           0.47       689\n",
            "   macro avg       0.47      0.47      0.47       689\n",
            "weighted avg       0.48      0.47      0.47       689\n",
            "\n",
            "🏃 View run KNN StratifiedKFold=16 at: https://dagshub.com/IdjiotSandwiches/knn-fer.mlflow/#/experiments/12/runs/41bb51263bed4d2f95ad4f9264deb0a9\n",
            "🧪 View experiment at: https://dagshub.com/IdjiotSandwiches/knn-fer.mlflow/#/experiments/12\n",
            "Accuracy: 0.5195936139332366\n",
            "Precision: 0.5403296985560891\n",
            "Recall: 0.5193664509651102\n",
            "F1 Score: 0.5220861269623046\n",
            "              precision    recall  f1-score   support\n",
            "\n",
            "           0       0.68      0.50      0.58       104\n",
            "           1       0.63      0.62      0.63        98\n",
            "           2       0.67      0.64      0.66       101\n",
            "           3       0.54      0.59      0.56       100\n",
            "           4       0.30      0.33      0.32        96\n",
            "           5       0.34      0.52      0.41        85\n",
            "           6       0.62      0.43      0.51       105\n",
            "\n",
            "    accuracy                           0.52       689\n",
            "   macro avg       0.54      0.52      0.52       689\n",
            "weighted avg       0.55      0.52      0.53       689\n",
            "\n",
            "🏃 View run KNN StratifiedKFold=17 at: https://dagshub.com/IdjiotSandwiches/knn-fer.mlflow/#/experiments/12/runs/2ed3837ab83f42e3b046a26605acf096\n",
            "🧪 View experiment at: https://dagshub.com/IdjiotSandwiches/knn-fer.mlflow/#/experiments/12\n",
            "Accuracy: 0.49927431059506533\n",
            "Precision: 0.5131253615186899\n",
            "Recall: 0.4996472066141221\n",
            "F1 Score: 0.50157576139719\n",
            "              precision    recall  f1-score   support\n",
            "\n",
            "           0       0.60      0.47      0.53       104\n",
            "           1       0.55      0.51      0.53        98\n",
            "           2       0.62      0.51      0.56       100\n",
            "           3       0.57      0.68      0.62       101\n",
            "           4       0.29      0.40      0.33        96\n",
            "           5       0.46      0.52      0.49        85\n",
            "           6       0.49      0.41      0.45       105\n",
            "\n",
            "    accuracy                           0.50       689\n",
            "   macro avg       0.51      0.50      0.50       689\n",
            "weighted avg       0.52      0.50      0.50       689\n",
            "\n",
            "🏃 View run KNN StratifiedKFold=18 at: https://dagshub.com/IdjiotSandwiches/knn-fer.mlflow/#/experiments/12/runs/2870c32e95f9488381e75b95dab0613f\n",
            "🧪 View experiment at: https://dagshub.com/IdjiotSandwiches/knn-fer.mlflow/#/experiments/12\n",
            "Accuracy: 0.5108853410740203\n",
            "Precision: 0.5442334461714665\n",
            "Recall: 0.5130089846840705\n",
            "F1 Score: 0.5173638675471005\n",
            "              precision    recall  f1-score   support\n",
            "\n",
            "           0       0.62      0.48      0.54       104\n",
            "           1       0.56      0.65      0.60        98\n",
            "           2       0.76      0.59      0.66       100\n",
            "           3       0.69      0.51      0.59       101\n",
            "           4       0.27      0.33      0.30        96\n",
            "           5       0.36      0.60      0.45        85\n",
            "           6       0.55      0.42      0.48       105\n",
            "\n",
            "    accuracy                           0.51       689\n",
            "   macro avg       0.54      0.51      0.52       689\n",
            "weighted avg       0.55      0.51      0.52       689\n",
            "\n",
            "🏃 View run KNN StratifiedKFold=19 at: https://dagshub.com/IdjiotSandwiches/knn-fer.mlflow/#/experiments/12/runs/77f9ddbe2c974eab8358dc627fc4393b\n",
            "🧪 View experiment at: https://dagshub.com/IdjiotSandwiches/knn-fer.mlflow/#/experiments/12\n"
          ]
        }
      ]
    },
    {
      "cell_type": "markdown",
      "source": [
        "## **Load model**"
      ],
      "metadata": {
        "id": "Bc5StLhdTKYC"
      }
    },
    {
      "cell_type": "code",
      "source": [
        "from mlflow.pyfunc import load_model\n",
        "\n",
        "mlflow.set_experiment(\"KNN_Model Augmented StratifiedKFold Calibrated\")\n",
        "mlflow.set_tracking_uri(\"https://dagshub.com/IdjiotSandwiches/knn-fer.mlflow\")\n",
        "\n",
        "model_name = 'KNN FER v1'\n",
        "model_version = '2'\n",
        "\n",
        "model_uri = f'models:/{model_name}/{model_version}'\n",
        "# environment_file = mlflow.pyfunc.get_model_dependencies(model_uri)\n",
        "# model = load_model(model_uri)"
      ],
      "metadata": {
        "id": "p66KLBJezcpk"
      },
      "execution_count": 5,
      "outputs": []
    },
    {
      "cell_type": "code",
      "source": [
        "images = []\n",
        "# img = cv.imread(f'facial-emotion-recognition-augmented/disgust/disgust_1022.png', cv.IMREAD_GRAYSCALE)\n",
        "img = cv.imread(f'test_lewis.png', cv.IMREAD_GRAYSCALE)\n",
        "img = cv.resize(img, (128,128))\n",
        "img = cv.GaussianBlur(img,(5,5),0)\n",
        "img = cv.equalizeHist(img)\n",
        "img = img / 255.0\n",
        "img = gabor_filter(img)\n",
        "img = np.array(img)\n",
        "img = img.reshape(img.shape[0],-1)\n",
        "pca = PCA(n_components=15)\n",
        "img = pca.fit_transform(img)\n",
        "img = img.reshape(-1)\n",
        "images.append(img)\n",
        "images = np.array(images)\n",
        "\n",
        "print(\"Explained variance ratio:\", pca.explained_variance_ratio_)\n",
        "print(\"Cumulative explained variance:\", np.cumsum(pca.explained_variance_ratio_))\n",
        "\n",
        "print(images.shape)"
      ],
      "metadata": {
        "id": "ItH1jRHKHaO8",
        "outputId": "24d7334d-1522-4cce-8ec4-3316eb06e6e1",
        "colab": {
          "base_uri": "https://localhost:8080/"
        }
      },
      "execution_count": 91,
      "outputs": [
        {
          "output_type": "stream",
          "name": "stdout",
          "text": [
            "Explained variance ratio: [4.9034095e-01 2.2327171e-01 1.3480073e-01 8.0273382e-02 2.8260393e-02\n",
            " 2.5420913e-02 7.7179139e-03 6.0758903e-03 1.4340349e-03 1.4117109e-03\n",
            " 6.0278858e-04 2.6186314e-04 4.9588481e-05 4.3792104e-05 2.8224866e-05]\n",
            "Cumulative explained variance: [0.49034095 0.7136127  0.8484134  0.9286868  0.9569472  0.9823681\n",
            " 0.990086   0.99616194 0.99759597 0.9990077  0.9996105  0.9998723\n",
            " 0.9999219  0.9999657  0.999994  ]\n",
            "(1, 480)\n"
          ]
        }
      ]
    },
    {
      "cell_type": "code",
      "source": [
        "predict = model.predict(images)"
      ],
      "metadata": {
        "id": "nGxyJjAVKtI-"
      },
      "execution_count": 92,
      "outputs": []
    },
    {
      "cell_type": "code",
      "source": [
        "for p in predict:\n",
        "  print(LABELS[p])"
      ],
      "metadata": {
        "id": "0yZ55PQxMhHp",
        "outputId": "8bdbd6f4-f5bf-48d6-ce2c-e0aae89eec71",
        "colab": {
          "base_uri": "https://localhost:8080/"
        }
      },
      "execution_count": 93,
      "outputs": [
        {
          "output_type": "stream",
          "name": "stdout",
          "text": [
            "happy\n"
          ]
        }
      ]
    },
    {
      "cell_type": "code",
      "source": [
        "import mlflow\n",
        "logged_model = 'runs:/683384a5cd674d60923c50342ed6a731/KNN Model'\n",
        "\n",
        "# Load model as a PyFuncModel.\n",
        "loaded_model = mlflow.pyfunc.load_model(logged_model)"
      ],
      "metadata": {
        "id": "h_O_5pZiFBWt",
        "outputId": "c71ea0ae-a80d-4f33-8634-63a70b0ebe64",
        "colab": {
          "base_uri": "https://localhost:8080/",
          "height": 173,
          "referenced_widgets": [
            "65110a990eb64c65907e3eb25d03b6e8",
            "bfcce43f620849e38ec8ff8eb314b7d1",
            "70a327899e0a4209b490a0e405b28d04",
            "5ecc811399a24b859eb71f1c5def10e2",
            "7cebfe55e3294ad694c6410e8ca71d93",
            "359b914587604010bfcd75d359299dab",
            "aaa42a9bee32489189837356b1b5879e",
            "075a96abc4f64986957444f170d55b4d",
            "e4d91f27fa534a4f908e6f6e4609d208",
            "9c119f6587d74afbb0107c7f5fc35c7a",
            "0ef02f4dee4e47b9985d0a63d81b7674"
          ]
        }
      },
      "execution_count": 9,
      "outputs": [
        {
          "output_type": "display_data",
          "data": {
            "text/plain": [
              "Downloading artifacts:   0%|          | 0/7 [00:00<?, ?it/s]"
            ],
            "application/vnd.jupyter.widget-view+json": {
              "version_major": 2,
              "version_minor": 0,
              "model_id": "65110a990eb64c65907e3eb25d03b6e8"
            }
          },
          "metadata": {}
        },
        {
          "output_type": "stream",
          "name": "stderr",
          "text": [
            "2024/12/07 12:48:21 WARNING mlflow.utils.requirements_utils: Detected one or more mismatches between the model's dependencies and the current Python environment:\n",
            " - numpy (current: 1.26.4, required: numpy==2.1.3)\n",
            " - pandas (current: 2.2.2, required: pandas==2.2.3)\n",
            " - psutil (current: 5.9.5, required: psutil==5.9.0)\n",
            " - scipy (current: 1.13.1, required: scipy==1.14.1)\n",
            "To fix the mismatches, call `mlflow.pyfunc.get_model_dependencies(model_uri)` to fetch the model's environment and install dependencies using the resulting environment file.\n"
          ]
        }
      ]
    },
    {
      "cell_type": "code",
      "source": [],
      "metadata": {
        "id": "VxyOWZWdGlBf"
      },
      "execution_count": null,
      "outputs": []
    },
    {
      "cell_type": "markdown",
      "source": [
        "## **Tuning**"
      ],
      "metadata": {
        "id": "MZagJKOZm6-M"
      }
    },
    {
      "cell_type": "code",
      "source": [
        "N_NEIGHBORS = 9\n",
        "WEIGHTS = 'distance'\n",
        "METRIC = 'manhattan'\n",
        "ALGORITHM = 'ball_tree'\n",
        "\n",
        "TEST_SIZE = 0.3\n",
        "CALIB_SIZE = 0.5\n",
        "RANDOM_STATE = 42\n",
        "\n",
        "split_params = {\n",
        "    'test_size': TEST_SIZE,\n",
        "    'random_state': RANDOM_STATE\n",
        "}\n",
        "\n",
        "calib_params = {\n",
        "    'test_size': CALIB_SIZE,\n",
        "    'random_state': RANDOM_STATE\n",
        "}\n",
        "\n",
        "X_train, X_test, y_train, y_test = train_test_split(images, labels, **split_params)\n",
        "X_test, X_calib, y_test, y_calib = train_test_split(X_test, y_test, **calib_params)\n",
        "\n",
        "model_params = {\n",
        "  'n_neighbors': N_NEIGHBORS,\n",
        "  'weights': WEIGHTS,\n",
        "  'metric': METRIC,\n",
        "  'algorithm': ALGORITHM\n",
        "}\n",
        "\n",
        "model = KNeighborsClassifier(**model_params)\n",
        "model.fit(X_train, y_train)\n",
        "\n",
        "calib_model = CalibratedClassifierCV(model, cv=\"prefit\")\n",
        "calib_model.fit(X_calib, y_calib)\n",
        "\n",
        "predict = calib_model.predict(X_test)\n",
        "\n",
        "metrics = {\n",
        "  'accuracy': accuracy_score(y_test, predict),\n",
        "  'precision': precision_score(y_test, predict, average='macro'),\n",
        "  'recall': recall_score(y_test, predict, average='macro'),\n",
        "  'f1': f1_score(y_test, predict, average='macro'),\n",
        "}\n",
        "\n",
        "print(f\"Accuracy: {metrics['accuracy']}\\nPrecision: {metrics['precision']}\\nRecall: {metrics['recall']}\\nF1 Score: {metrics['f1']}\")\n",
        "print(classification_report(y_test, predict))\n",
        "\n",
        "mlflow.set_experiment(\"KNN_Model using calibration\")\n",
        "mlflow.set_tracking_uri(\"https://dagshub.com/IdjiotSandwiches/knn-fer.mlflow\")\n",
        "\n",
        "with mlflow.start_run(run_name=f'KNN sigma=5'):\n",
        "  mlflow.log_params(gabor_params)\n",
        "  mlflow.log_params(split_params)\n",
        "  mlflow.log_param('calib_test_size', calib_params['test_size'])\n",
        "  mlflow.log_param('calib_random_state', calib_params['random_state'])\n",
        "  mlflow.log_params(model_params)\n",
        "  mlflow.log_metrics(metrics)\n",
        "  mlflow.sklearn.log_model(\n",
        "      sk_model=calib_model,\n",
        "      artifact_path='KNN Model',\n",
        "      input_example=X_train[:1]\n",
        "  )"
      ],
      "metadata": {
        "id": "kicKUxC8dKeH",
        "outputId": "d859b114-6888-449f-9d28-c9a2126b2251",
        "colab": {
          "base_uri": "https://localhost:8080/",
          "height": 497
        }
      },
      "execution_count": null,
      "outputs": [
        {
          "output_type": "stream",
          "name": "stdout",
          "text": [
            "Accuracy: 0.41271820448877805\n",
            "Precision: 0.35505141285443115\n",
            "Recall: 0.33373441164794554\n",
            "F1 Score: 0.3324115318106068\n"
          ]
        },
        {
          "output_type": "stream",
          "name": "stderr",
          "text": [
            "2024/12/04 03:16:05 INFO mlflow.tracking.fluent: Experiment with name 'KNN_Model using calibration' does not exist. Creating a new experiment.\n"
          ]
        },
        {
          "output_type": "stream",
          "name": "stdout",
          "text": [
            "🏃 View run KNN sigma=5 at: https://dagshub.com/IdjiotSandwiches/knn-fer.mlflow/#/experiments/8/runs/c1b2dcc5917e455fa84e0b57000e5062\n",
            "🧪 View experiment at: https://dagshub.com/IdjiotSandwiches/knn-fer.mlflow/#/experiments/8\n"
          ]
        },
        {
          "output_type": "error",
          "ename": "RestException",
          "evalue": "INVALID_PARAMETER_VALUE: Response: {'error_code': 'INVALID_PARAMETER_VALUE'}",
          "traceback": [
            "\u001b[0;31m---------------------------------------------------------------------------\u001b[0m",
            "\u001b[0;31mRestException\u001b[0m                             Traceback (most recent call last)",
            "\u001b[0;32m<ipython-input-11-f8feac4abe0d>\u001b[0m in \u001b[0;36m<cell line: 34>\u001b[0;34m()\u001b[0m\n\u001b[1;32m     35\u001b[0m   \u001b[0mmlflow\u001b[0m\u001b[0;34m.\u001b[0m\u001b[0mlog_params\u001b[0m\u001b[0;34m(\u001b[0m\u001b[0mgabor_params\u001b[0m\u001b[0;34m)\u001b[0m\u001b[0;34m\u001b[0m\u001b[0;34m\u001b[0m\u001b[0m\n\u001b[1;32m     36\u001b[0m   \u001b[0mmlflow\u001b[0m\u001b[0;34m.\u001b[0m\u001b[0mlog_params\u001b[0m\u001b[0;34m(\u001b[0m\u001b[0msplit_params\u001b[0m\u001b[0;34m)\u001b[0m\u001b[0;34m\u001b[0m\u001b[0;34m\u001b[0m\u001b[0m\n\u001b[0;32m---> 37\u001b[0;31m   \u001b[0mmlflow\u001b[0m\u001b[0;34m.\u001b[0m\u001b[0mlog_params\u001b[0m\u001b[0;34m(\u001b[0m\u001b[0mcalib_params\u001b[0m\u001b[0;34m)\u001b[0m\u001b[0;34m\u001b[0m\u001b[0;34m\u001b[0m\u001b[0m\n\u001b[0m\u001b[1;32m     38\u001b[0m   \u001b[0mmlflow\u001b[0m\u001b[0;34m.\u001b[0m\u001b[0mlog_params\u001b[0m\u001b[0;34m(\u001b[0m\u001b[0mmodel_params\u001b[0m\u001b[0;34m)\u001b[0m\u001b[0;34m\u001b[0m\u001b[0;34m\u001b[0m\u001b[0m\n\u001b[1;32m     39\u001b[0m   \u001b[0mmlflow\u001b[0m\u001b[0;34m.\u001b[0m\u001b[0mlog_metrics\u001b[0m\u001b[0;34m(\u001b[0m\u001b[0mmetrics\u001b[0m\u001b[0;34m)\u001b[0m\u001b[0;34m\u001b[0m\u001b[0;34m\u001b[0m\u001b[0m\n",
            "\u001b[0;32m/usr/local/lib/python3.10/dist-packages/mlflow/tracking/fluent.py\u001b[0m in \u001b[0;36mlog_params\u001b[0;34m(params, synchronous, run_id)\u001b[0m\n\u001b[1;32m   1021\u001b[0m     \u001b[0mparams_arr\u001b[0m \u001b[0;34m=\u001b[0m \u001b[0;34m[\u001b[0m\u001b[0mParam\u001b[0m\u001b[0;34m(\u001b[0m\u001b[0mkey\u001b[0m\u001b[0;34m,\u001b[0m \u001b[0mstr\u001b[0m\u001b[0;34m(\u001b[0m\u001b[0mvalue\u001b[0m\u001b[0;34m)\u001b[0m\u001b[0;34m)\u001b[0m \u001b[0;32mfor\u001b[0m \u001b[0mkey\u001b[0m\u001b[0;34m,\u001b[0m \u001b[0mvalue\u001b[0m \u001b[0;32min\u001b[0m \u001b[0mparams\u001b[0m\u001b[0;34m.\u001b[0m\u001b[0mitems\u001b[0m\u001b[0;34m(\u001b[0m\u001b[0;34m)\u001b[0m\u001b[0;34m]\u001b[0m\u001b[0;34m\u001b[0m\u001b[0;34m\u001b[0m\u001b[0m\n\u001b[1;32m   1022\u001b[0m     \u001b[0msynchronous\u001b[0m \u001b[0;34m=\u001b[0m \u001b[0msynchronous\u001b[0m \u001b[0;32mif\u001b[0m \u001b[0msynchronous\u001b[0m \u001b[0;32mis\u001b[0m \u001b[0;32mnot\u001b[0m \u001b[0;32mNone\u001b[0m \u001b[0;32melse\u001b[0m \u001b[0;32mnot\u001b[0m \u001b[0mMLFLOW_ENABLE_ASYNC_LOGGING\u001b[0m\u001b[0;34m.\u001b[0m\u001b[0mget\u001b[0m\u001b[0;34m(\u001b[0m\u001b[0;34m)\u001b[0m\u001b[0;34m\u001b[0m\u001b[0;34m\u001b[0m\u001b[0m\n\u001b[0;32m-> 1023\u001b[0;31m     return MlflowClient().log_batch(\n\u001b[0m\u001b[1;32m   1024\u001b[0m         \u001b[0mrun_id\u001b[0m\u001b[0;34m=\u001b[0m\u001b[0mrun_id\u001b[0m\u001b[0;34m,\u001b[0m \u001b[0mmetrics\u001b[0m\u001b[0;34m=\u001b[0m\u001b[0;34m[\u001b[0m\u001b[0;34m]\u001b[0m\u001b[0;34m,\u001b[0m \u001b[0mparams\u001b[0m\u001b[0;34m=\u001b[0m\u001b[0mparams_arr\u001b[0m\u001b[0;34m,\u001b[0m \u001b[0mtags\u001b[0m\u001b[0;34m=\u001b[0m\u001b[0;34m[\u001b[0m\u001b[0;34m]\u001b[0m\u001b[0;34m,\u001b[0m \u001b[0msynchronous\u001b[0m\u001b[0;34m=\u001b[0m\u001b[0msynchronous\u001b[0m\u001b[0;34m\u001b[0m\u001b[0;34m\u001b[0m\u001b[0m\n\u001b[1;32m   1025\u001b[0m     )\n",
            "\u001b[0;32m/usr/local/lib/python3.10/dist-packages/mlflow/tracking/client.py\u001b[0m in \u001b[0;36mlog_batch\u001b[0;34m(self, run_id, metrics, params, tags, synchronous)\u001b[0m\n\u001b[1;32m   1861\u001b[0m             \u001b[0msynchronous\u001b[0m \u001b[0;32mif\u001b[0m \u001b[0msynchronous\u001b[0m \u001b[0;32mis\u001b[0m \u001b[0;32mnot\u001b[0m \u001b[0;32mNone\u001b[0m \u001b[0;32melse\u001b[0m \u001b[0;32mnot\u001b[0m \u001b[0mMLFLOW_ENABLE_ASYNC_LOGGING\u001b[0m\u001b[0;34m.\u001b[0m\u001b[0mget\u001b[0m\u001b[0;34m(\u001b[0m\u001b[0;34m)\u001b[0m\u001b[0;34m\u001b[0m\u001b[0;34m\u001b[0m\u001b[0m\n\u001b[1;32m   1862\u001b[0m         )\n\u001b[0;32m-> 1863\u001b[0;31m         return self._tracking_client.log_batch(\n\u001b[0m\u001b[1;32m   1864\u001b[0m             \u001b[0mrun_id\u001b[0m\u001b[0;34m,\u001b[0m \u001b[0mmetrics\u001b[0m\u001b[0;34m,\u001b[0m \u001b[0mparams\u001b[0m\u001b[0;34m,\u001b[0m \u001b[0mtags\u001b[0m\u001b[0;34m,\u001b[0m \u001b[0msynchronous\u001b[0m\u001b[0;34m=\u001b[0m\u001b[0msynchronous\u001b[0m\u001b[0;34m\u001b[0m\u001b[0;34m\u001b[0m\u001b[0m\n\u001b[1;32m   1865\u001b[0m         )\n",
            "\u001b[0;32m/usr/local/lib/python3.10/dist-packages/mlflow/tracking/_tracking_service/client.py\u001b[0m in \u001b[0;36mlog_batch\u001b[0;34m(self, run_id, metrics, params, tags, synchronous)\u001b[0m\n\u001b[1;32m    745\u001b[0m \u001b[0;34m\u001b[0m\u001b[0m\n\u001b[1;32m    746\u001b[0m             \u001b[0;32mif\u001b[0m \u001b[0msynchronous\u001b[0m\u001b[0;34m:\u001b[0m\u001b[0;34m\u001b[0m\u001b[0;34m\u001b[0m\u001b[0m\n\u001b[0;32m--> 747\u001b[0;31m                 self.store.log_batch(\n\u001b[0m\u001b[1;32m    748\u001b[0m                     \u001b[0mrun_id\u001b[0m\u001b[0;34m=\u001b[0m\u001b[0mrun_id\u001b[0m\u001b[0;34m,\u001b[0m \u001b[0mmetrics\u001b[0m\u001b[0;34m=\u001b[0m\u001b[0mmetrics_batch\u001b[0m\u001b[0;34m,\u001b[0m \u001b[0mparams\u001b[0m\u001b[0;34m=\u001b[0m\u001b[0mparams_batch\u001b[0m\u001b[0;34m,\u001b[0m \u001b[0mtags\u001b[0m\u001b[0;34m=\u001b[0m\u001b[0mtags_batch\u001b[0m\u001b[0;34m\u001b[0m\u001b[0;34m\u001b[0m\u001b[0m\n\u001b[1;32m    749\u001b[0m                 )\n",
            "\u001b[0;32m/usr/local/lib/python3.10/dist-packages/mlflow/store/tracking/rest_store.py\u001b[0m in \u001b[0;36mlog_batch\u001b[0;34m(self, run_id, metrics, params, tags)\u001b[0m\n\u001b[1;32m    537\u001b[0m             \u001b[0mLogBatch\u001b[0m\u001b[0;34m(\u001b[0m\u001b[0mmetrics\u001b[0m\u001b[0;34m=\u001b[0m\u001b[0mmetric_protos\u001b[0m\u001b[0;34m,\u001b[0m \u001b[0mparams\u001b[0m\u001b[0;34m=\u001b[0m\u001b[0mparam_protos\u001b[0m\u001b[0;34m,\u001b[0m \u001b[0mtags\u001b[0m\u001b[0;34m=\u001b[0m\u001b[0mtag_protos\u001b[0m\u001b[0;34m,\u001b[0m \u001b[0mrun_id\u001b[0m\u001b[0;34m=\u001b[0m\u001b[0mrun_id\u001b[0m\u001b[0;34m)\u001b[0m\u001b[0;34m\u001b[0m\u001b[0;34m\u001b[0m\u001b[0m\n\u001b[1;32m    538\u001b[0m         )\n\u001b[0;32m--> 539\u001b[0;31m         \u001b[0mself\u001b[0m\u001b[0;34m.\u001b[0m\u001b[0m_call_endpoint\u001b[0m\u001b[0;34m(\u001b[0m\u001b[0mLogBatch\u001b[0m\u001b[0;34m,\u001b[0m \u001b[0mreq_body\u001b[0m\u001b[0;34m)\u001b[0m\u001b[0;34m\u001b[0m\u001b[0;34m\u001b[0m\u001b[0m\n\u001b[0m\u001b[1;32m    540\u001b[0m \u001b[0;34m\u001b[0m\u001b[0m\n\u001b[1;32m    541\u001b[0m     \u001b[0;32mdef\u001b[0m \u001b[0mrecord_logged_model\u001b[0m\u001b[0;34m(\u001b[0m\u001b[0mself\u001b[0m\u001b[0;34m,\u001b[0m \u001b[0mrun_id\u001b[0m\u001b[0;34m,\u001b[0m \u001b[0mmlflow_model\u001b[0m\u001b[0;34m)\u001b[0m\u001b[0;34m:\u001b[0m\u001b[0;34m\u001b[0m\u001b[0;34m\u001b[0m\u001b[0m\n",
            "\u001b[0;32m/usr/local/lib/python3.10/dist-packages/mlflow/store/tracking/rest_store.py\u001b[0m in \u001b[0;36m_call_endpoint\u001b[0;34m(self, api, json_body, endpoint)\u001b[0m\n\u001b[1;32m     80\u001b[0m             \u001b[0mendpoint\u001b[0m\u001b[0;34m,\u001b[0m \u001b[0mmethod\u001b[0m \u001b[0;34m=\u001b[0m \u001b[0m_METHOD_TO_INFO\u001b[0m\u001b[0;34m[\u001b[0m\u001b[0mapi\u001b[0m\u001b[0;34m]\u001b[0m\u001b[0;34m\u001b[0m\u001b[0;34m\u001b[0m\u001b[0m\n\u001b[1;32m     81\u001b[0m         \u001b[0mresponse_proto\u001b[0m \u001b[0;34m=\u001b[0m \u001b[0mapi\u001b[0m\u001b[0;34m.\u001b[0m\u001b[0mResponse\u001b[0m\u001b[0;34m(\u001b[0m\u001b[0;34m)\u001b[0m\u001b[0;34m\u001b[0m\u001b[0;34m\u001b[0m\u001b[0m\n\u001b[0;32m---> 82\u001b[0;31m         \u001b[0;32mreturn\u001b[0m \u001b[0mcall_endpoint\u001b[0m\u001b[0;34m(\u001b[0m\u001b[0mself\u001b[0m\u001b[0;34m.\u001b[0m\u001b[0mget_host_creds\u001b[0m\u001b[0;34m(\u001b[0m\u001b[0;34m)\u001b[0m\u001b[0;34m,\u001b[0m \u001b[0mendpoint\u001b[0m\u001b[0;34m,\u001b[0m \u001b[0mmethod\u001b[0m\u001b[0;34m,\u001b[0m \u001b[0mjson_body\u001b[0m\u001b[0;34m,\u001b[0m \u001b[0mresponse_proto\u001b[0m\u001b[0;34m)\u001b[0m\u001b[0;34m\u001b[0m\u001b[0;34m\u001b[0m\u001b[0m\n\u001b[0m\u001b[1;32m     83\u001b[0m \u001b[0;34m\u001b[0m\u001b[0m\n\u001b[1;32m     84\u001b[0m     def search_experiments(\n",
            "\u001b[0;32m/usr/local/lib/python3.10/dist-packages/mlflow/utils/rest_utils.py\u001b[0m in \u001b[0;36mcall_endpoint\u001b[0;34m(host_creds, endpoint, method, json_body, response_proto, extra_headers)\u001b[0m\n\u001b[1;32m    368\u001b[0m         \u001b[0mresponse\u001b[0m \u001b[0;34m=\u001b[0m \u001b[0mhttp_request\u001b[0m\u001b[0;34m(\u001b[0m\u001b[0;34m**\u001b[0m\u001b[0mcall_kwargs\u001b[0m\u001b[0;34m)\u001b[0m\u001b[0;34m\u001b[0m\u001b[0;34m\u001b[0m\u001b[0m\n\u001b[1;32m    369\u001b[0m \u001b[0;34m\u001b[0m\u001b[0m\n\u001b[0;32m--> 370\u001b[0;31m     \u001b[0mresponse\u001b[0m \u001b[0;34m=\u001b[0m \u001b[0mverify_rest_response\u001b[0m\u001b[0;34m(\u001b[0m\u001b[0mresponse\u001b[0m\u001b[0;34m,\u001b[0m \u001b[0mendpoint\u001b[0m\u001b[0;34m)\u001b[0m\u001b[0;34m\u001b[0m\u001b[0;34m\u001b[0m\u001b[0m\n\u001b[0m\u001b[1;32m    371\u001b[0m     \u001b[0mresponse_to_parse\u001b[0m \u001b[0;34m=\u001b[0m \u001b[0mresponse\u001b[0m\u001b[0;34m.\u001b[0m\u001b[0mtext\u001b[0m\u001b[0;34m\u001b[0m\u001b[0;34m\u001b[0m\u001b[0m\n\u001b[1;32m    372\u001b[0m     \u001b[0mjs_dict\u001b[0m \u001b[0;34m=\u001b[0m \u001b[0mjson\u001b[0m\u001b[0;34m.\u001b[0m\u001b[0mloads\u001b[0m\u001b[0;34m(\u001b[0m\u001b[0mresponse_to_parse\u001b[0m\u001b[0;34m)\u001b[0m\u001b[0;34m\u001b[0m\u001b[0;34m\u001b[0m\u001b[0m\n",
            "\u001b[0;32m/usr/local/lib/python3.10/dist-packages/mlflow/utils/rest_utils.py\u001b[0m in \u001b[0;36mverify_rest_response\u001b[0;34m(response, endpoint)\u001b[0m\n\u001b[1;32m    238\u001b[0m     \u001b[0;32mif\u001b[0m \u001b[0mresponse\u001b[0m\u001b[0;34m.\u001b[0m\u001b[0mstatus_code\u001b[0m \u001b[0;34m!=\u001b[0m \u001b[0;36m200\u001b[0m\u001b[0;34m:\u001b[0m\u001b[0;34m\u001b[0m\u001b[0;34m\u001b[0m\u001b[0m\n\u001b[1;32m    239\u001b[0m         \u001b[0;32mif\u001b[0m \u001b[0m_can_parse_as_json_object\u001b[0m\u001b[0;34m(\u001b[0m\u001b[0mresponse\u001b[0m\u001b[0;34m.\u001b[0m\u001b[0mtext\u001b[0m\u001b[0;34m)\u001b[0m\u001b[0;34m:\u001b[0m\u001b[0;34m\u001b[0m\u001b[0;34m\u001b[0m\u001b[0m\n\u001b[0;32m--> 240\u001b[0;31m             \u001b[0;32mraise\u001b[0m \u001b[0mRestException\u001b[0m\u001b[0;34m(\u001b[0m\u001b[0mjson\u001b[0m\u001b[0;34m.\u001b[0m\u001b[0mloads\u001b[0m\u001b[0;34m(\u001b[0m\u001b[0mresponse\u001b[0m\u001b[0;34m.\u001b[0m\u001b[0mtext\u001b[0m\u001b[0;34m)\u001b[0m\u001b[0;34m)\u001b[0m\u001b[0;34m\u001b[0m\u001b[0;34m\u001b[0m\u001b[0m\n\u001b[0m\u001b[1;32m    241\u001b[0m         \u001b[0;32melse\u001b[0m\u001b[0;34m:\u001b[0m\u001b[0;34m\u001b[0m\u001b[0;34m\u001b[0m\u001b[0m\n\u001b[1;32m    242\u001b[0m             base_msg = (\n",
            "\u001b[0;31mRestException\u001b[0m: INVALID_PARAMETER_VALUE: Response: {'error_code': 'INVALID_PARAMETER_VALUE'}"
          ]
        }
      ]
    },
    {
      "cell_type": "code",
      "source": [
        "for p, y in zip(predict[:20], y_test[:20]):\n",
        "  print(f'Predict: {LABELS[p]} | Real: {LABELS[y]}')"
      ],
      "metadata": {
        "id": "jdWcylVFCQBp",
        "outputId": "0f735825-cbda-4bd5-8bcb-379d20b9cb35",
        "colab": {
          "base_uri": "https://localhost:8080/"
        }
      },
      "execution_count": null,
      "outputs": [
        {
          "output_type": "stream",
          "name": "stdout",
          "text": [
            "Predict: happy | Real: surprise\n",
            "Predict: surprise | Real: surprise\n",
            "Predict: surprise | Real: fear\n",
            "Predict: happy | Real: happy\n",
            "Predict: happy | Real: sad\n",
            "Predict: surprise | Real: neutral\n",
            "Predict: neutral | Real: sad\n",
            "Predict: happy | Real: happy\n",
            "Predict: angry | Real: neutral\n",
            "Predict: sad | Real: happy\n",
            "Predict: happy | Real: angry\n",
            "Predict: sad | Real: sad\n",
            "Predict: happy | Real: angry\n",
            "Predict: sad | Real: angry\n",
            "Predict: happy | Real: angry\n",
            "Predict: disgust | Real: angry\n",
            "Predict: angry | Real: angry\n",
            "Predict: surprise | Real: fear\n",
            "Predict: surprise | Real: surprise\n",
            "Predict: angry | Real: fear\n"
          ]
        }
      ]
    },
    {
      "cell_type": "code",
      "source": [
        "# N_NEIGHBORS = [3,5]\n",
        "# WEIGHTS = ['uniform', 'distance']\n",
        "# METRIC = ['minkowski', 'euclidean', 'manhattan']\n",
        "# ALGORITHM = ['auto', 'ball_tree', 'kd_tree', 'brute']\n",
        "\n",
        "# for n in N_NEIGHBORS:\n",
        "#   for w in WEIGHTS:\n",
        "#     for m in METRIC:\n",
        "#       for a in ALGORITHM:\n",
        "#         model_params = {\n",
        "#             'n_neighbors': n,\n",
        "#             'weights': w,\n",
        "#             'metric': m,\n",
        "#             'algorithm': a\n",
        "#         }\n",
        "\n",
        "#         model = KNeighborsClassifier(**model_params)\n",
        "#         model.fit(X_train, y_train)\n",
        "\n",
        "#         predict = model.predict(X_test)\n",
        "\n",
        "#         metrics = {\n",
        "#           'accuracy': accuracy_score(y_test, predict),\n",
        "#           'precision': precision_score(y_test, predict, average='macro'),\n",
        "#           'recall': recall_score(y_test, predict, average='macro'),\n",
        "#           'f1': f1_score(y_test, predict, average='macro')\n",
        "#         }\n",
        "\n",
        "#         print(f\"Accuracy: {metrics['accuracy']}\\nPrecision: {metrics['precision']}\\nRecall: {metrics['recall']}\\nF1 Score: {metrics['f1']}\")\n",
        "\n",
        "#         mlflow.set_experiment(\"KNN_Model Theta=32\")\n",
        "#         mlflow.set_tracking_uri(\"https://dagshub.com/IdjiotSandwiches/knn-fer.mlflow\")\n",
        "\n",
        "#         with mlflow.start_run(run_name=f'KNN n_neighbors={n}, weights={w}, metric={m}, algorithm={a}'):\n",
        "#           mlflow.log_params(gabor_params)\n",
        "#           mlflow.log_params(split_params)\n",
        "#           mlflow.log_params(model_params)\n",
        "#           mlflow.log_metrics(metrics)\n",
        "#           mlflow.sklearn.log_model(\n",
        "#               sk_model=model,\n",
        "#               artifact_path='KNN Model',\n",
        "#               input_example=X_train[:1]\n",
        "#           )"
      ],
      "metadata": {
        "id": "rinxD5ml1ALw",
        "outputId": "19adf5df-000e-4ac1-b7cb-4f1784af296b",
        "colab": {
          "base_uri": "https://localhost:8080/"
        }
      },
      "execution_count": null,
      "outputs": [
        {
          "metadata": {
            "tags": null
          },
          "name": "stdout",
          "output_type": "stream",
          "text": [
            "Accuracy: 0.3074766355140187\n",
            "Precision: 0.3050938501361262\n",
            "Recall: 0.29387967874509396\n",
            "F1 Score: 0.2783373964588805\n"
          ]
        },
        {
          "metadata": {
            "tags": null
          },
          "name": "stderr",
          "output_type": "stream",
          "text": [
            "2024/11/30 10:59:14 INFO mlflow.tracking.fluent: Experiment with name 'KNN_Model Theta=32' does not exist. Creating a new experiment.\n",
            "WARNING:urllib3.connectionpool:Retrying (Retry(total=4, connect=5, read=5, redirect=5, status=5)) after connection broken by 'SSLEOFError(8, 'EOF occurred in violation of protocol (_ssl.c:2426)')': /IdjiotSandwiches/knn-fer.mlflow/api/2.0/mlflow-artifacts/artifacts/abe48ccf65564288adf7624e9ef9cb3e/b02f353aaeb3491cb74358282af9a0b4/artifacts/KNN%20Model/model.pkl\n"
          ]
        },
        {
          "metadata": {
            "tags": null
          },
          "name": "stdout",
          "output_type": "stream",
          "text": [
            "🏃 View run KNN n_neighbors=3, weights=uniform, metric=minkowski, algorithm=auto at: https://dagshub.com/IdjiotSandwiches/knn-fer.mlflow/#/experiments/4/runs/b02f353aaeb3491cb74358282af9a0b4\n",
            "🧪 View experiment at: https://dagshub.com/IdjiotSandwiches/knn-fer.mlflow/#/experiments/4\n",
            "Accuracy: 0.308411214953271\n",
            "Precision: 0.30554388973180335\n",
            "Recall: 0.2947200148795478\n",
            "F1 Score: 0.27900485072077663\n"
          ]
        },
        {
          "metadata": {
            "tags": null
          },
          "name": "stderr",
          "output_type": "stream",
          "text": [
            "WARNING:urllib3.connectionpool:Retrying (Retry(total=4, connect=5, read=5, redirect=5, status=5)) after connection broken by 'SSLEOFError(8, 'EOF occurred in violation of protocol (_ssl.c:2426)')': /IdjiotSandwiches/knn-fer.mlflow/api/2.0/mlflow-artifacts/artifacts/abe48ccf65564288adf7624e9ef9cb3e/923932c2679642a08150dd7eb2980d57/artifacts/KNN%20Model/model.pkl\n"
          ]
        },
        {
          "metadata": {
            "tags": null
          },
          "name": "stdout",
          "output_type": "stream",
          "text": [
            "🏃 View run KNN n_neighbors=3, weights=uniform, metric=minkowski, algorithm=ball_tree at: https://dagshub.com/IdjiotSandwiches/knn-fer.mlflow/#/experiments/4/runs/923932c2679642a08150dd7eb2980d57\n",
            "🧪 View experiment at: https://dagshub.com/IdjiotSandwiches/knn-fer.mlflow/#/experiments/4\n",
            "Accuracy: 0.308411214953271\n",
            "Precision: 0.30564408809920407\n",
            "Recall: 0.2947200148795478\n",
            "F1 Score: 0.2790072898045715\n",
            "🏃 View run KNN n_neighbors=3, weights=uniform, metric=minkowski, algorithm=kd_tree at: https://dagshub.com/IdjiotSandwiches/knn-fer.mlflow/#/experiments/4/runs/aa15c822146048458410e873536155a7\n",
            "🧪 View experiment at: https://dagshub.com/IdjiotSandwiches/knn-fer.mlflow/#/experiments/4\n",
            "Accuracy: 0.3074766355140187\n",
            "Precision: 0.3050938501361262\n",
            "Recall: 0.29387967874509396\n",
            "F1 Score: 0.2783373964588805\n",
            "🏃 View run KNN n_neighbors=3, weights=uniform, metric=minkowski, algorithm=brute at: https://dagshub.com/IdjiotSandwiches/knn-fer.mlflow/#/experiments/4/runs/df424c2fee9e46bd9b4a31f40bc56106\n",
            "🧪 View experiment at: https://dagshub.com/IdjiotSandwiches/knn-fer.mlflow/#/experiments/4\n",
            "Accuracy: 0.3074766355140187\n",
            "Precision: 0.3050938501361262\n",
            "Recall: 0.29387967874509396\n",
            "F1 Score: 0.2783373964588805\n",
            "🏃 View run KNN n_neighbors=3, weights=uniform, metric=euclidean, algorithm=auto at: https://dagshub.com/IdjiotSandwiches/knn-fer.mlflow/#/experiments/4/runs/2f79df49278f43c893227ddb55800674\n",
            "🧪 View experiment at: https://dagshub.com/IdjiotSandwiches/knn-fer.mlflow/#/experiments/4\n"
          ]
        },
        {
          "metadata": {
            "tags": null
          },
          "name": "stderr",
          "output_type": "stream",
          "text": [
            "WARNING:urllib3.connectionpool:Retrying (Retry(total=4, connect=5, read=4, redirect=5, status=5)) after connection broken by 'RemoteDisconnected('Remote end closed connection without response')': /IdjiotSandwiches/knn-fer.mlflow/api/2.0/mlflow/experiments/get-by-name?experiment_name=KNN_Model+Theta%3D32\n"
          ]
        },
        {
          "metadata": {
            "tags": null
          },
          "name": "stdout",
          "output_type": "stream",
          "text": [
            "Accuracy: 0.308411214953271\n",
            "Precision: 0.30554388973180335\n",
            "Recall: 0.2947200148795478\n",
            "F1 Score: 0.27900485072077663\n"
          ]
        },
        {
          "metadata": {
            "tags": null
          },
          "name": "stderr",
          "output_type": "stream",
          "text": [
            "WARNING:urllib3.connectionpool:Retrying (Retry(total=4, connect=5, read=5, redirect=5, status=5)) after connection broken by 'SSLEOFError(8, 'EOF occurred in violation of protocol (_ssl.c:2426)')': /IdjiotSandwiches/knn-fer.mlflow/api/2.0/mlflow-artifacts/artifacts/abe48ccf65564288adf7624e9ef9cb3e/eec782be7df14b27a88a49477edf3286/artifacts/KNN%20Model/model.pkl\n"
          ]
        },
        {
          "metadata": {
            "tags": null
          },
          "name": "stdout",
          "output_type": "stream",
          "text": [
            "🏃 View run KNN n_neighbors=3, weights=uniform, metric=euclidean, algorithm=ball_tree at: https://dagshub.com/IdjiotSandwiches/knn-fer.mlflow/#/experiments/4/runs/eec782be7df14b27a88a49477edf3286\n",
            "🧪 View experiment at: https://dagshub.com/IdjiotSandwiches/knn-fer.mlflow/#/experiments/4\n",
            "Accuracy: 0.308411214953271\n",
            "Precision: 0.30564408809920407\n",
            "Recall: 0.2947200148795478\n",
            "F1 Score: 0.2790072898045715\n",
            "🏃 View run KNN n_neighbors=3, weights=uniform, metric=euclidean, algorithm=kd_tree at: https://dagshub.com/IdjiotSandwiches/knn-fer.mlflow/#/experiments/4/runs/f6a2dd52f9ad4de7928c6899918adb7c\n",
            "🧪 View experiment at: https://dagshub.com/IdjiotSandwiches/knn-fer.mlflow/#/experiments/4\n",
            "Accuracy: 0.3074766355140187\n",
            "Precision: 0.3050938501361262\n",
            "Recall: 0.29387967874509396\n",
            "F1 Score: 0.2783373964588805\n"
          ]
        },
        {
          "metadata": {
            "tags": null
          },
          "name": "stderr",
          "output_type": "stream",
          "text": [
            "WARNING:urllib3.connectionpool:Retrying (Retry(total=4, connect=5, read=5, redirect=5, status=5)) after connection broken by 'SSLEOFError(8, 'EOF occurred in violation of protocol (_ssl.c:2426)')': /IdjiotSandwiches/knn-fer.mlflow/api/2.0/mlflow-artifacts/artifacts/abe48ccf65564288adf7624e9ef9cb3e/7da638b7f90b4ffc924ca1bba56e99b3/artifacts/KNN%20Model/model.pkl\n"
          ]
        },
        {
          "metadata": {
            "tags": null
          },
          "name": "stdout",
          "output_type": "stream",
          "text": [
            "🏃 View run KNN n_neighbors=3, weights=uniform, metric=euclidean, algorithm=brute at: https://dagshub.com/IdjiotSandwiches/knn-fer.mlflow/#/experiments/4/runs/7da638b7f90b4ffc924ca1bba56e99b3\n",
            "🧪 View experiment at: https://dagshub.com/IdjiotSandwiches/knn-fer.mlflow/#/experiments/4\n",
            "Accuracy: 0.3233644859813084\n",
            "Precision: 0.31787422780360425\n",
            "Recall: 0.30837462993039805\n",
            "F1 Score: 0.2955184378198163\n",
            "🏃 View run KNN n_neighbors=3, weights=uniform, metric=manhattan, algorithm=auto at: https://dagshub.com/IdjiotSandwiches/knn-fer.mlflow/#/experiments/4/runs/c0fe6cc1f71b4d0890cca4f4d474bb7d\n",
            "🧪 View experiment at: https://dagshub.com/IdjiotSandwiches/knn-fer.mlflow/#/experiments/4\n",
            "Accuracy: 0.3233644859813084\n",
            "Precision: 0.3177394374501707\n",
            "Recall: 0.30837462993039805\n",
            "F1 Score: 0.2954523945289038\n",
            "🏃 View run KNN n_neighbors=3, weights=uniform, metric=manhattan, algorithm=ball_tree at: https://dagshub.com/IdjiotSandwiches/knn-fer.mlflow/#/experiments/4/runs/3b8d1d02eaf148a78fbb3c667b6a18ba\n",
            "🧪 View experiment at: https://dagshub.com/IdjiotSandwiches/knn-fer.mlflow/#/experiments/4\n",
            "Accuracy: 0.3233644859813084\n",
            "Precision: 0.31789386738325554\n",
            "Recall: 0.30837462993039805\n",
            "F1 Score: 0.2955186129882777\n",
            "🏃 View run KNN n_neighbors=3, weights=uniform, metric=manhattan, algorithm=kd_tree at: https://dagshub.com/IdjiotSandwiches/knn-fer.mlflow/#/experiments/4/runs/3fe2f0693f6e4ddc914dc99a5c36f475\n",
            "🧪 View experiment at: https://dagshub.com/IdjiotSandwiches/knn-fer.mlflow/#/experiments/4\n",
            "Accuracy: 0.3233644859813084\n",
            "Precision: 0.31787422780360425\n",
            "Recall: 0.30837462993039805\n",
            "F1 Score: 0.2955184378198163\n",
            "🏃 View run KNN n_neighbors=3, weights=uniform, metric=manhattan, algorithm=brute at: https://dagshub.com/IdjiotSandwiches/knn-fer.mlflow/#/experiments/4/runs/8fbe5fd7680d48b5a5ecbbb7dc3ab649\n",
            "🧪 View experiment at: https://dagshub.com/IdjiotSandwiches/knn-fer.mlflow/#/experiments/4\n",
            "Accuracy: 0.34579439252336447\n",
            "Precision: 0.3263228137046797\n",
            "Recall: 0.3106175282484117\n",
            "F1 Score: 0.3123337182888574\n",
            "🏃 View run KNN n_neighbors=3, weights=distance, metric=minkowski, algorithm=auto at: https://dagshub.com/IdjiotSandwiches/knn-fer.mlflow/#/experiments/4/runs/285126e0488e41138872f9055643fb33\n",
            "🧪 View experiment at: https://dagshub.com/IdjiotSandwiches/knn-fer.mlflow/#/experiments/4\n",
            "Accuracy: 0.34766355140186916\n",
            "Precision: 0.3286418668785575\n",
            "Recall: 0.3130277230955814\n",
            "F1 Score: 0.3147611975894672\n"
          ]
        },
        {
          "metadata": {
            "tags": null
          },
          "name": "stderr",
          "output_type": "stream",
          "text": [
            "WARNING:urllib3.connectionpool:Retrying (Retry(total=4, connect=5, read=5, redirect=5, status=5)) after connection broken by 'SSLEOFError(8, 'EOF occurred in violation of protocol (_ssl.c:2426)')': /IdjiotSandwiches/knn-fer.mlflow/api/2.0/mlflow-artifacts/artifacts/abe48ccf65564288adf7624e9ef9cb3e/f055b28fb9714f9fb135bc5babb520f8/artifacts/KNN%20Model/model.pkl\n"
          ]
        },
        {
          "metadata": {
            "tags": null
          },
          "name": "stdout",
          "output_type": "stream",
          "text": [
            "🏃 View run KNN n_neighbors=3, weights=distance, metric=minkowski, algorithm=ball_tree at: https://dagshub.com/IdjiotSandwiches/knn-fer.mlflow/#/experiments/4/runs/f055b28fb9714f9fb135bc5babb520f8\n",
            "🧪 View experiment at: https://dagshub.com/IdjiotSandwiches/knn-fer.mlflow/#/experiments/4\n",
            "Accuracy: 0.34766355140186916\n",
            "Precision: 0.3287131082820621\n",
            "Recall: 0.3130277230955814\n",
            "F1 Score: 0.31473980038813476\n",
            "🏃 View run KNN n_neighbors=3, weights=distance, metric=minkowski, algorithm=kd_tree at: https://dagshub.com/IdjiotSandwiches/knn-fer.mlflow/#/experiments/4/runs/149874b20f7a402a9ec2acd812da0472\n",
            "🧪 View experiment at: https://dagshub.com/IdjiotSandwiches/knn-fer.mlflow/#/experiments/4\n",
            "Accuracy: 0.34579439252336447\n",
            "Precision: 0.3263228137046797\n",
            "Recall: 0.3106175282484117\n",
            "F1 Score: 0.3123337182888574\n",
            "🏃 View run KNN n_neighbors=3, weights=distance, metric=minkowski, algorithm=brute at: https://dagshub.com/IdjiotSandwiches/knn-fer.mlflow/#/experiments/4/runs/dfff4fde858b47119d34d5c534636329\n",
            "🧪 View experiment at: https://dagshub.com/IdjiotSandwiches/knn-fer.mlflow/#/experiments/4\n",
            "Accuracy: 0.34579439252336447\n",
            "Precision: 0.3263228137046797\n",
            "Recall: 0.3106175282484117\n",
            "F1 Score: 0.3123337182888574\n",
            "🏃 View run KNN n_neighbors=3, weights=distance, metric=euclidean, algorithm=auto at: https://dagshub.com/IdjiotSandwiches/knn-fer.mlflow/#/experiments/4/runs/7a9de47b7b074b1eaa9fe41894780820\n",
            "🧪 View experiment at: https://dagshub.com/IdjiotSandwiches/knn-fer.mlflow/#/experiments/4\n"
          ]
        },
        {
          "metadata": {
            "tags": null
          },
          "name": "stderr",
          "output_type": "stream",
          "text": [
            "WARNING:urllib3.connectionpool:Retrying (Retry(total=4, connect=5, read=4, redirect=5, status=5)) after connection broken by 'RemoteDisconnected('Remote end closed connection without response')': /IdjiotSandwiches/knn-fer.mlflow/api/2.0/mlflow/experiments/get-by-name?experiment_name=KNN_Model+Theta%3D32\n"
          ]
        },
        {
          "metadata": {
            "tags": null
          },
          "name": "stdout",
          "output_type": "stream",
          "text": [
            "Accuracy: 0.34766355140186916\n",
            "Precision: 0.3286418668785575\n",
            "Recall: 0.3130277230955814\n",
            "F1 Score: 0.3147611975894672\n",
            "🏃 View run KNN n_neighbors=3, weights=distance, metric=euclidean, algorithm=ball_tree at: https://dagshub.com/IdjiotSandwiches/knn-fer.mlflow/#/experiments/4/runs/42485c29c4e0471089b6564a796b58d6\n",
            "🧪 View experiment at: https://dagshub.com/IdjiotSandwiches/knn-fer.mlflow/#/experiments/4\n"
          ]
        },
        {
          "metadata": {
            "tags": null
          },
          "name": "stderr",
          "output_type": "stream",
          "text": [
            "WARNING:urllib3.connectionpool:Retrying (Retry(total=4, connect=5, read=4, redirect=5, status=5)) after connection broken by 'RemoteDisconnected('Remote end closed connection without response')': /IdjiotSandwiches/knn-fer.mlflow/api/2.0/mlflow/experiments/get-by-name?experiment_name=KNN_Model+Theta%3D32\n"
          ]
        },
        {
          "output_type": "stream",
          "name": "stdout",
          "text": [
            "Accuracy: 0.34766355140186916\n",
            "Precision: 0.3287131082820621\n",
            "Recall: 0.3130277230955814\n",
            "F1 Score: 0.31473980038813476\n",
            "🏃 View run KNN n_neighbors=3, weights=distance, metric=euclidean, algorithm=kd_tree at: https://dagshub.com/IdjiotSandwiches/knn-fer.mlflow/#/experiments/4/runs/344be1df03114619a9efdab34917c339\n",
            "🧪 View experiment at: https://dagshub.com/IdjiotSandwiches/knn-fer.mlflow/#/experiments/4\n",
            "Accuracy: 0.34579439252336447\n",
            "Precision: 0.3263228137046797\n",
            "Recall: 0.3106175282484117\n",
            "F1 Score: 0.3123337182888574\n",
            "🏃 View run KNN n_neighbors=3, weights=distance, metric=euclidean, algorithm=brute at: https://dagshub.com/IdjiotSandwiches/knn-fer.mlflow/#/experiments/4/runs/32696a22a213424999b7f229720bcf01\n",
            "🧪 View experiment at: https://dagshub.com/IdjiotSandwiches/knn-fer.mlflow/#/experiments/4\n",
            "Accuracy: 0.3663551401869159\n",
            "Precision: 0.3502625307532238\n",
            "Recall: 0.3333851627875379\n",
            "F1 Score: 0.33528941745796753\n",
            "🏃 View run KNN n_neighbors=3, weights=distance, metric=manhattan, algorithm=auto at: https://dagshub.com/IdjiotSandwiches/knn-fer.mlflow/#/experiments/4/runs/73e839217e7a41fda438ce6cf6255ab9\n",
            "🧪 View experiment at: https://dagshub.com/IdjiotSandwiches/knn-fer.mlflow/#/experiments/4\n",
            "Accuracy: 0.3663551401869159\n",
            "Precision: 0.3502625307532238\n",
            "Recall: 0.3333851627875379\n",
            "F1 Score: 0.33528941745796753\n",
            "🏃 View run KNN n_neighbors=3, weights=distance, metric=manhattan, algorithm=ball_tree at: https://dagshub.com/IdjiotSandwiches/knn-fer.mlflow/#/experiments/4/runs/eb85904cd922468aae7cc8ff958d2981\n",
            "🧪 View experiment at: https://dagshub.com/IdjiotSandwiches/knn-fer.mlflow/#/experiments/4\n",
            "Accuracy: 0.3663551401869159\n",
            "Precision: 0.3502625307532238\n",
            "Recall: 0.3333851627875379\n",
            "F1 Score: 0.33528941745796753\n",
            "🏃 View run KNN n_neighbors=3, weights=distance, metric=manhattan, algorithm=kd_tree at: https://dagshub.com/IdjiotSandwiches/knn-fer.mlflow/#/experiments/4/runs/63a9cdf905ea4d46bb69f00b14d072b8\n",
            "🧪 View experiment at: https://dagshub.com/IdjiotSandwiches/knn-fer.mlflow/#/experiments/4\n",
            "Accuracy: 0.3663551401869159\n",
            "Precision: 0.3502625307532238\n",
            "Recall: 0.3333851627875379\n",
            "F1 Score: 0.33528941745796753\n",
            "🏃 View run KNN n_neighbors=3, weights=distance, metric=manhattan, algorithm=brute at: https://dagshub.com/IdjiotSandwiches/knn-fer.mlflow/#/experiments/4/runs/edaf731ea2624da0b9e7c5be3b61e5c6\n",
            "🧪 View experiment at: https://dagshub.com/IdjiotSandwiches/knn-fer.mlflow/#/experiments/4\n",
            "Accuracy: 0.32149532710280376\n",
            "Precision: 0.2974186861475799\n",
            "Recall: 0.28356633397364855\n",
            "F1 Score: 0.28050439677949995\n",
            "🏃 View run KNN n_neighbors=5, weights=uniform, metric=minkowski, algorithm=auto at: https://dagshub.com/IdjiotSandwiches/knn-fer.mlflow/#/experiments/4/runs/d4d86dde08584266aef252c40cb2c9bc\n",
            "🧪 View experiment at: https://dagshub.com/IdjiotSandwiches/knn-fer.mlflow/#/experiments/4\n"
          ]
        }
      ]
    }
  ]
}