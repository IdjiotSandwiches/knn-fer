{
  "nbformat": 4,
  "nbformat_minor": 0,
  "metadata": {
    "colab": {
      "provenance": [],
      "authorship_tag": "ABX9TyPd8OTxAQ/FYZIBVKC/OjXH",
      "include_colab_link": true
    },
    "kernelspec": {
      "name": "python3",
      "display_name": "Python 3"
    },
    "language_info": {
      "name": "python"
    }
  },
  "cells": [
    {
      "cell_type": "markdown",
      "metadata": {
        "id": "view-in-github",
        "colab_type": "text"
      },
      "source": [
        "<a href=\"https://colab.research.google.com/github/IdjiotSandwiches/knn-fer/blob/create-model/main.ipynb\" target=\"_parent\"><img src=\"https://colab.research.google.com/assets/colab-badge.svg\" alt=\"Open In Colab\"/></a>"
      ]
    },
    {
      "cell_type": "code",
      "source": [
        "!pip install dagshub --quiet\n",
        "!pip install mlflow --quiet"
      ],
      "metadata": {
        "id": "W6hUfuo0aRiN",
        "colab": {
          "base_uri": "https://localhost:8080/"
        },
        "outputId": "85fd52ee-46e0-4a1a-c7cb-367d59fe608e"
      },
      "execution_count": 1,
      "outputs": [
        {
          "output_type": "stream",
          "name": "stdout",
          "text": [
            "\u001b[2K   \u001b[90m━━━━━━━━━━━━━━━━━━━━━━━━━━━━━━━━━━━━━━━━\u001b[0m \u001b[32m252.2/252.2 kB\u001b[0m \u001b[31m10.1 MB/s\u001b[0m eta \u001b[36m0:00:00\u001b[0m\n",
            "\u001b[2K   \u001b[90m━━━━━━━━━━━━━━━━━━━━━━━━━━━━━━━━━━━━━━━━\u001b[0m \u001b[32m139.2/139.2 kB\u001b[0m \u001b[31m8.8 MB/s\u001b[0m eta \u001b[36m0:00:00\u001b[0m\n",
            "\u001b[2K   \u001b[90m━━━━━━━━━━━━━━━━━━━━━━━━━━━━━━━━━━━━━━━━\u001b[0m \u001b[32m13.2/13.2 MB\u001b[0m \u001b[31m51.1 MB/s\u001b[0m eta \u001b[36m0:00:00\u001b[0m\n",
            "\u001b[2K   \u001b[90m━━━━━━━━━━━━━━━━━━━━━━━━━━━━━━━━━━━━━━━━\u001b[0m \u001b[32m203.2/203.2 kB\u001b[0m \u001b[31m13.7 MB/s\u001b[0m eta \u001b[36m0:00:00\u001b[0m\n",
            "\u001b[2K   \u001b[90m━━━━━━━━━━━━━━━━━━━━━━━━━━━━━━━━━━━━━━━━\u001b[0m \u001b[32m49.5/49.5 kB\u001b[0m \u001b[31m3.4 MB/s\u001b[0m eta \u001b[36m0:00:00\u001b[0m\n",
            "\u001b[2K   \u001b[90m━━━━━━━━━━━━━━━━━━━━━━━━━━━━━━━━━━━━━━━━\u001b[0m \u001b[32m83.2/83.2 kB\u001b[0m \u001b[31m5.1 MB/s\u001b[0m eta \u001b[36m0:00:00\u001b[0m\n",
            "\u001b[2K   \u001b[90m━━━━━━━━━━━━━━━━━━━━━━━━━━━━━━━━━━━━━━━━\u001b[0m \u001b[32m74.0/74.0 kB\u001b[0m \u001b[31m4.2 MB/s\u001b[0m eta \u001b[36m0:00:00\u001b[0m\n",
            "\u001b[2K   \u001b[90m━━━━━━━━━━━━━━━━━━━━━━━━━━━━━━━━━━━━━━━━\u001b[0m \u001b[32m27.3/27.3 MB\u001b[0m \u001b[31m60.6 MB/s\u001b[0m eta \u001b[36m0:00:00\u001b[0m\n",
            "\u001b[2K   \u001b[90m━━━━━━━━━━━━━━━━━━━━━━━━━━━━━━━━━━━━━━━━\u001b[0m \u001b[32m5.8/5.8 MB\u001b[0m \u001b[31m87.2 MB/s\u001b[0m eta \u001b[36m0:00:00\u001b[0m\n",
            "\u001b[2K   \u001b[90m━━━━━━━━━━━━━━━━━━━━━━━━━━━━━━━━━━━━━━━━\u001b[0m \u001b[32m233.5/233.5 kB\u001b[0m \u001b[31m16.4 MB/s\u001b[0m eta \u001b[36m0:00:00\u001b[0m\n",
            "\u001b[2K   \u001b[90m━━━━━━━━━━━━━━━━━━━━━━━━━━━━━━━━━━━━━━━━\u001b[0m \u001b[32m147.8/147.8 kB\u001b[0m \u001b[31m10.9 MB/s\u001b[0m eta \u001b[36m0:00:00\u001b[0m\n",
            "\u001b[2K   \u001b[90m━━━━━━━━━━━━━━━━━━━━━━━━━━━━━━━━━━━━━━━━\u001b[0m \u001b[32m114.9/114.9 kB\u001b[0m \u001b[31m8.1 MB/s\u001b[0m eta \u001b[36m0:00:00\u001b[0m\n",
            "\u001b[2K   \u001b[90m━━━━━━━━━━━━━━━━━━━━━━━━━━━━━━━━━━━━━━━━\u001b[0m \u001b[32m85.0/85.0 kB\u001b[0m \u001b[31m6.4 MB/s\u001b[0m eta \u001b[36m0:00:00\u001b[0m\n",
            "\u001b[2K   \u001b[90m━━━━━━━━━━━━━━━━━━━━━━━━━━━━━━━━━━━━━━━━\u001b[0m \u001b[32m575.1/575.1 kB\u001b[0m \u001b[31m30.7 MB/s\u001b[0m eta \u001b[36m0:00:00\u001b[0m\n",
            "\u001b[2K   \u001b[90m━━━━━━━━━━━━━━━━━━━━━━━━━━━━━━━━━━━━━━━━\u001b[0m \u001b[32m78.9/78.9 kB\u001b[0m \u001b[31m5.8 MB/s\u001b[0m eta \u001b[36m0:00:00\u001b[0m\n",
            "\u001b[?25h"
          ]
        }
      ]
    },
    {
      "cell_type": "code",
      "execution_count": 1,
      "metadata": {
        "id": "-qnEnkZZokh9"
      },
      "outputs": [],
      "source": [
        "import cv2 as cv\n",
        "import numpy as np\n",
        "import matplotlib.pyplot as plt\n",
        "import pandas as pd\n",
        "import mlflow\n",
        "import dagshub\n",
        "import os\n",
        "import pathlib\n",
        "from sklearn.neighbors import KNeighborsClassifier\n",
        "from sklearn.model_selection import train_test_split\n",
        "from sklearn.metrics import accuracy_score, precision_score, recall_score, f1_score, classification_report\n",
        "from sklearn.model_selection import GridSearchCV\n",
        "from sklearn.preprocessing import StandardScaler\n",
        "from sklearn.calibration import CalibratedClassifierCV\n",
        "from sklearn.model_selection import cross_val_score\n",
        "from sklearn.model_selection import StratifiedKFold, KFold"
      ]
    },
    {
      "cell_type": "code",
      "source": [
        "from google.colab import drive\n",
        "drive.mount('/content/drive')\n",
        "\n",
        "%cd \"/content/drive/MyDrive/\""
      ],
      "metadata": {
        "id": "Vu_0Zvd7Uf8S",
        "outputId": "e509c7d2-ec40-4e68-dce6-0c76d6066fa4",
        "colab": {
          "base_uri": "https://localhost:8080/"
        }
      },
      "execution_count": 2,
      "outputs": [
        {
          "output_type": "stream",
          "name": "stdout",
          "text": [
            "Drive already mounted at /content/drive; to attempt to forcibly remount, call drive.mount(\"/content/drive\", force_remount=True).\n",
            "/content/drive/MyDrive\n"
          ]
        }
      ]
    },
    {
      "cell_type": "code",
      "source": [
        "PATH = pathlib.Path('facial-emotion-recognition')\n",
        "LABELS = os.listdir(PATH)"
      ],
      "metadata": {
        "id": "w7tVMC6k2d_C"
      },
      "execution_count": 3,
      "outputs": []
    },
    {
      "cell_type": "code",
      "source": [
        "dagshub.init(repo_owner='IdjiotSandwiches', repo_name='knn-fer', mlflow=True)"
      ],
      "metadata": {
        "id": "0_ZIM-8six15",
        "outputId": "8d54ba74-8284-4e82-c49d-19bceec555f9",
        "colab": {
          "base_uri": "https://localhost:8080/",
          "height": 65
        }
      },
      "execution_count": 4,
      "outputs": [
        {
          "output_type": "display_data",
          "data": {
            "text/plain": [
              "Accessing as IdjiotSandwiches\n"
            ],
            "text/html": [
              "<pre style=\"white-space:pre;overflow-x:auto;line-height:normal;font-family:Menlo,'DejaVu Sans Mono',consolas,'Courier New',monospace\">Accessing as IdjiotSandwiches\n",
              "</pre>\n"
            ]
          },
          "metadata": {}
        },
        {
          "output_type": "display_data",
          "data": {
            "text/plain": [
              "Initialized MLflow to track repo \u001b[32m\"IdjiotSandwiches/knn-fer\"\u001b[0m\n"
            ],
            "text/html": [
              "<pre style=\"white-space:pre;overflow-x:auto;line-height:normal;font-family:Menlo,'DejaVu Sans Mono',consolas,'Courier New',monospace\">Initialized MLflow to track repo <span style=\"color: #008000; text-decoration-color: #008000\">\"IdjiotSandwiches/knn-fer\"</span>\n",
              "</pre>\n"
            ]
          },
          "metadata": {}
        },
        {
          "output_type": "display_data",
          "data": {
            "text/plain": [
              "Repository IdjiotSandwiches/knn-fer initialized!\n"
            ],
            "text/html": [
              "<pre style=\"white-space:pre;overflow-x:auto;line-height:normal;font-family:Menlo,'DejaVu Sans Mono',consolas,'Courier New',monospace\">Repository IdjiotSandwiches/knn-fer initialized!\n",
              "</pre>\n"
            ]
          },
          "metadata": {}
        }
      ]
    },
    {
      "cell_type": "code",
      "source": [
        "K_SIZE = (31,31)\n",
        "SIGMA = 4\n",
        "THETA_RANGE = np.arange(0, np.pi, np.pi/32)\n",
        "LAMBD = 10.0\n",
        "GAMMA = 0.5\n",
        "PSI = 0\n",
        "\n",
        "gabor_params = {\n",
        "    'ksize': K_SIZE,\n",
        "    'sigma': SIGMA,\n",
        "    'lambd': LAMBD,\n",
        "    'gamma': GAMMA,\n",
        "    'psi': PSI\n",
        "}"
      ],
      "metadata": {
        "id": "dkTt8IV6c82R"
      },
      "execution_count": 5,
      "outputs": []
    },
    {
      "cell_type": "code",
      "source": [
        "def gabor_filter(img):\n",
        "  features = []\n",
        "  for theta in THETA_RANGE:\n",
        "    kernel = cv.getGaborKernel(**gabor_params, theta=theta)\n",
        "    filter = cv.filter2D(img, cv.CV_64F, kernel)\n",
        "    features.append(filter)\n",
        "\n",
        "  return features"
      ],
      "metadata": {
        "id": "PsHCDjtqckSM"
      },
      "execution_count": null,
      "outputs": []
    },
    {
      "cell_type": "code",
      "source": [
        "def open_dataset(dir):\n",
        "  images, labels = [], []\n",
        "\n",
        "  for i, label in enumerate(LABELS):\n",
        "    path = f'{dir}/{label}'\n",
        "    for j, img_path in enumerate(os.listdir(path)):\n",
        "      img = cv.imread(f'{path}/{img_path}')\n",
        "      img = cv.resize(img, (48,48))\n",
        "      img = cv.cvtColor(img, cv.COLOR_BGR2GRAY)\n",
        "      img = cv.GaussianBlur(img,(5,5),0)\n",
        "      img = cv.equalizeHist(img)\n",
        "      img = img / 255.0\n",
        "      img = gabor_filter(img)\n",
        "      images.append(img)\n",
        "      labels.append(i)\n",
        "\n",
        "  return np.array(images), np.array(labels)"
      ],
      "metadata": {
        "id": "nwlypq2AZ0kB"
      },
      "execution_count": null,
      "outputs": []
    },
    {
      "cell_type": "code",
      "source": [
        "def save_filtered_img(images, labels):\n",
        "  folder_path = f'/content/drive/MyDrive/gabor-filtered-imgs'\n",
        "  os.makedirs(folder_path, exist_ok=True)\n",
        "\n",
        "  np.save(f'{folder_path}/images.npy', images)\n",
        "  np.save(f'{folder_path}/labels.npy', labels)\n",
        "\n",
        "  print('Ok!')"
      ],
      "metadata": {
        "id": "np5MQV1Spe5A"
      },
      "execution_count": null,
      "outputs": []
    },
    {
      "cell_type": "code",
      "source": [
        "images, labels = open_dataset(PATH)\n",
        "images = images.reshape(images.shape[0], -1)\n",
        "save_filtered_img(images, labels)"
      ],
      "metadata": {
        "id": "tg7Y6GAw2X73"
      },
      "execution_count": null,
      "outputs": []
    },
    {
      "cell_type": "code",
      "source": [
        "images = np.load('/content/drive/MyDrive/gabor-filtered-imgs/images.npy')\n",
        "labels = np.load('/content/drive/MyDrive/gabor-filtered-imgs/labels.npy')"
      ],
      "metadata": {
        "id": "_dBjAGo7qxA2"
      },
      "execution_count": 6,
      "outputs": []
    },
    {
      "cell_type": "code",
      "source": [
        "TEST_SIZE = 0.3\n",
        "CALIB_SIZE = 0.5\n",
        "RANDOM_STATE = 42\n",
        "\n",
        "split_params = {\n",
        "    'test_size': TEST_SIZE,\n",
        "    'random_state': RANDOM_STATE\n",
        "}\n",
        "\n",
        "calib_params = {\n",
        "    'test_size': CALIB_SIZE,\n",
        "    'random_state': RANDOM_STATE\n",
        "}\n",
        "\n",
        "X_train, X_test, y_train, y_test = train_test_split(images, labels, **split_params)\n",
        "X_test, X_calib, y_test, y_calib = train_test_split(X_test, y_test, **calib_params)"
      ],
      "metadata": {
        "id": "gUcAAva_DQjO"
      },
      "execution_count": 9,
      "outputs": []
    },
    {
      "cell_type": "code",
      "source": [
        "N_NEIGHBORS = 9\n",
        "WEIGHTS = 'distance'\n",
        "METRIC = 'manhattan'\n",
        "ALGORITHM = 'ball_tree'\n",
        "\n",
        "model_params = {\n",
        "  'n_neighbors': N_NEIGHBORS,\n",
        "  'weights': WEIGHTS,\n",
        "  'metric': METRIC,\n",
        "  'algorithm': ALGORITHM\n",
        "}\n",
        "\n",
        "model = KNeighborsClassifier(**model_params)\n",
        "scores = cross_val_score(model, images, labels, cv=5)\n",
        "print(scores)"
      ],
      "metadata": {
        "id": "XsljrijZsbah",
        "outputId": "b773feb5-f66a-4b01-d6a0-2782e4c5ff99",
        "colab": {
          "base_uri": "https://localhost:8080/"
        }
      },
      "execution_count": 7,
      "outputs": [
        {
          "output_type": "stream",
          "name": "stdout",
          "text": [
            "[0.39719626 0.42429907 0.39906542 0.43271028 0.41121495]\n"
          ]
        }
      ]
    },
    {
      "cell_type": "code",
      "source": [
        "N_NEIGHBORS = 9\n",
        "WEIGHTS = 'distance'\n",
        "METRIC = 'manhattan'\n",
        "ALGORITHM = 'ball_tree'\n",
        "TEST_SIZE = 0.5\n",
        "RANDOM_STATE = 42\n",
        "N_SPLITS = 10\n",
        "SHUFFLE = True\n",
        "\n",
        "model_params = {\n",
        "  'n_neighbors': N_NEIGHBORS,\n",
        "  'weights': WEIGHTS,\n",
        "  'metric': METRIC,\n",
        "  'algorithm': ALGORITHM\n",
        "}\n",
        "\n",
        "calib_params = {\n",
        "  'test_size': TEST_SIZE,\n",
        "  'random_state': RANDOM_STATE\n",
        "}\n",
        "\n",
        "kfold_params = {\n",
        "    'n_splits': N_SPLITS,\n",
        "    'shuffle': SHUFFLE\n",
        "}\n",
        "\n",
        "skf = StratifiedKFold(**kfold_params)\n",
        "i = 5\n",
        "\n",
        "for train_idx, test_idx in skf.split(images, labels):\n",
        "  X_train, X_test = images[train_idx], images[test_idx]\n",
        "  y_train, y_test = labels[train_idx], labels[test_idx]\n",
        "\n",
        "  X_test, X_calib, y_test, y_calib = train_test_split(X_test, y_test, **calib_params)\n",
        "\n",
        "  model = KNeighborsClassifier(**model_params)\n",
        "  model.fit(X_train, y_train)\n",
        "\n",
        "  calib_model = CalibratedClassifierCV(model, cv=\"prefit\")\n",
        "  calib_model.fit(X_calib, y_calib)\n",
        "\n",
        "  predict = calib_model.predict(X_test)\n",
        "\n",
        "  metrics = {\n",
        "    'accuracy': accuracy_score(y_test, predict),\n",
        "    'precision': precision_score(y_test, predict, average='macro'),\n",
        "    'recall': recall_score(y_test, predict, average='macro'),\n",
        "    'f1': f1_score(y_test, predict, average='macro'),\n",
        "  }\n",
        "\n",
        "  print(f\"Accuracy: {metrics['accuracy']}\\nPrecision: {metrics['precision']}\\nRecall: {metrics['recall']}\\nF1 Score: {metrics['f1']}\")\n",
        "  print(classification_report(y_test, predict))\n",
        "\n",
        "  mlflow.set_experiment(\"KNN_Model StratifiedKFold Calibrated\")\n",
        "  mlflow.set_tracking_uri(\"https://dagshub.com/IdjiotSandwiches/knn-fer.mlflow\")\n",
        "\n",
        "  with mlflow.start_run(run_name=f'KNN StratifiedKFold={i} Calibrated'):\n",
        "    mlflow.log_params(gabor_params)\n",
        "    mlflow.log_params(calib_params)\n",
        "    mlflow.log_params(model_params)\n",
        "    mlflow.log_params(kfold_params)\n",
        "    mlflow.log_param('train_idx', train_idx)\n",
        "    mlflow.log_param('test_idx', test_idx)\n",
        "    mlflow.log_metrics(metrics)\n",
        "    mlflow.sklearn.log_model(\n",
        "        sk_model=calib_model,\n",
        "        artifact_path='KNN Model',\n",
        "        input_example=X_train[:1]\n",
        "    )\n",
        "  i = i + 1"
      ],
      "metadata": {
        "id": "8XXABw7w8XG_",
        "outputId": "f7c0860e-6316-449c-a6c2-54954a4bfb3b",
        "colab": {
          "base_uri": "https://localhost:8080/"
        }
      },
      "execution_count": null,
      "outputs": [
        {
          "output_type": "stream",
          "name": "stdout",
          "text": [
            "Accuracy: 0.45318352059925093\n",
            "Precision: 0.40570203017162\n",
            "Recall: 0.3748225077172445\n",
            "F1 Score: 0.37176120199919416\n",
            "              precision    recall  f1-score   support\n",
            "\n",
            "           0       0.61      0.62      0.62        32\n",
            "           1       0.31      0.21      0.25        19\n",
            "           2       0.36      0.13      0.20        30\n",
            "           3       0.36      0.19      0.24        27\n",
            "           4       0.56      0.73      0.64        78\n",
            "           5       0.31      0.22      0.25        37\n",
            "           6       0.33      0.52      0.41        44\n",
            "\n",
            "    accuracy                           0.45       267\n",
            "   macro avg       0.41      0.37      0.37       267\n",
            "weighted avg       0.43      0.45      0.43       267\n",
            "\n",
            "🏃 View run KNN StratifiedKFold=5 Calibrated at: https://dagshub.com/IdjiotSandwiches/knn-fer.mlflow/#/experiments/10/runs/8a64b302e6da4b79b28ea04ab7b8ac25\n",
            "🧪 View experiment at: https://dagshub.com/IdjiotSandwiches/knn-fer.mlflow/#/experiments/10\n",
            "Accuracy: 0.46441947565543074\n",
            "Precision: 0.4146942711218889\n",
            "Recall: 0.3810721139668508\n",
            "F1 Score: 0.37045625171355223\n",
            "              precision    recall  f1-score   support\n",
            "\n",
            "           0       0.41      0.62      0.49        32\n",
            "           1       0.29      0.21      0.24        19\n",
            "           2       0.43      0.10      0.16        30\n",
            "           3       0.42      0.19      0.26        27\n",
            "           4       0.57      0.78      0.66        78\n",
            "           5       0.39      0.38      0.38        37\n",
            "           6       0.40      0.39      0.40        44\n",
            "\n",
            "    accuracy                           0.46       267\n",
            "   macro avg       0.41      0.38      0.37       267\n",
            "weighted avg       0.45      0.46      0.43       267\n",
            "\n",
            "🏃 View run KNN StratifiedKFold=6 Calibrated at: https://dagshub.com/IdjiotSandwiches/knn-fer.mlflow/#/experiments/10/runs/ad5aa36083e442fb98fa25dcd42f22c0\n",
            "🧪 View experiment at: https://dagshub.com/IdjiotSandwiches/knn-fer.mlflow/#/experiments/10\n"
          ]
        },
        {
          "output_type": "stream",
          "name": "stderr",
          "text": [
            "/usr/local/lib/python3.10/dist-packages/sklearn/metrics/_classification.py:1531: UndefinedMetricWarning: Precision is ill-defined and being set to 0.0 in labels with no predicted samples. Use `zero_division` parameter to control this behavior.\n",
            "  _warn_prf(average, modifier, f\"{metric.capitalize()} is\", len(result))\n",
            "/usr/local/lib/python3.10/dist-packages/sklearn/metrics/_classification.py:1531: UndefinedMetricWarning: Precision is ill-defined and being set to 0.0 in labels with no predicted samples. Use `zero_division` parameter to control this behavior.\n",
            "  _warn_prf(average, modifier, f\"{metric.capitalize()} is\", len(result))\n",
            "/usr/local/lib/python3.10/dist-packages/sklearn/metrics/_classification.py:1531: UndefinedMetricWarning: Precision is ill-defined and being set to 0.0 in labels with no predicted samples. Use `zero_division` parameter to control this behavior.\n",
            "  _warn_prf(average, modifier, f\"{metric.capitalize()} is\", len(result))\n",
            "/usr/local/lib/python3.10/dist-packages/sklearn/metrics/_classification.py:1531: UndefinedMetricWarning: Precision is ill-defined and being set to 0.0 in labels with no predicted samples. Use `zero_division` parameter to control this behavior.\n",
            "  _warn_prf(average, modifier, f\"{metric.capitalize()} is\", len(result))\n"
          ]
        },
        {
          "output_type": "stream",
          "name": "stdout",
          "text": [
            "Accuracy: 0.43820224719101125\n",
            "Precision: 0.33086943568636246\n",
            "Recall: 0.3521422896422896\n",
            "F1 Score: 0.3284323844572965\n",
            "              precision    recall  f1-score   support\n",
            "\n",
            "           0       0.43      0.69      0.53        32\n",
            "           1       0.00      0.00      0.00        19\n",
            "           2       0.36      0.17      0.23        30\n",
            "           3       0.31      0.19      0.23        27\n",
            "           4       0.56      0.71      0.62        78\n",
            "           5       0.25      0.24      0.25        37\n",
            "           6       0.40      0.48      0.44        44\n",
            "\n",
            "    accuracy                           0.44       267\n",
            "   macro avg       0.33      0.35      0.33       267\n",
            "weighted avg       0.39      0.44      0.40       267\n",
            "\n",
            "🏃 View run KNN StratifiedKFold=7 Calibrated at: https://dagshub.com/IdjiotSandwiches/knn-fer.mlflow/#/experiments/10/runs/4cb1a7b3d8024aa9bc8458505a21965a\n",
            "🧪 View experiment at: https://dagshub.com/IdjiotSandwiches/knn-fer.mlflow/#/experiments/10\n",
            "Accuracy: 0.3970037453183521\n",
            "Precision: 0.39318823171600276\n",
            "Recall: 0.3028877986114828\n",
            "F1 Score: 0.27329371524148477\n",
            "              precision    recall  f1-score   support\n",
            "\n",
            "           0       0.37      0.66      0.47        32\n",
            "           1       1.00      0.05      0.10        19\n",
            "           2       0.17      0.07      0.10        30\n",
            "           3       0.05      0.04      0.04        27\n",
            "           4       0.60      0.72      0.65        78\n",
            "           5       0.25      0.14      0.18        37\n",
            "           6       0.32      0.45      0.37        44\n",
            "\n",
            "    accuracy                           0.40       267\n",
            "   macro avg       0.39      0.30      0.27       267\n",
            "weighted avg       0.40      0.40      0.36       267\n",
            "\n",
            "🏃 View run KNN StratifiedKFold=8 Calibrated at: https://dagshub.com/IdjiotSandwiches/knn-fer.mlflow/#/experiments/10/runs/26ae8fe828e54c92836091dc1fe04f78\n",
            "🧪 View experiment at: https://dagshub.com/IdjiotSandwiches/knn-fer.mlflow/#/experiments/10\n"
          ]
        }
      ]
    },
    {
      "cell_type": "code",
      "source": [
        "N_NEIGHBORS = 9\n",
        "WEIGHTS = 'distance'\n",
        "METRIC = 'manhattan'\n",
        "ALGORITHM = 'ball_tree'\n",
        "\n",
        "model_params = {\n",
        "  'n_neighbors': N_NEIGHBORS,\n",
        "  'weights': WEIGHTS,\n",
        "  'metric': METRIC,\n",
        "  'algorithm': ALGORITHM\n",
        "}\n",
        "\n",
        "model = KNeighborsClassifier(**model_params)\n",
        "model.fit(X_train, y_train)\n",
        "\n",
        "calib_model = CalibratedClassifierCV(model, cv=\"prefit\")\n",
        "calib_model.fit(X_calib, y_calib)\n",
        "\n",
        "predict = calib_model.predict(X_test)\n",
        "\n",
        "metrics = {\n",
        "  'accuracy': accuracy_score(y_test, predict),\n",
        "  'precision': precision_score(y_test, predict, average='macro'),\n",
        "  'recall': recall_score(y_test, predict, average='macro'),\n",
        "  'f1': f1_score(y_test, predict, average='macro'),\n",
        "}\n",
        "\n",
        "print(f\"Accuracy: {metrics['accuracy']}\\nPrecision: {metrics['precision']}\\nRecall: {metrics['recall']}\\nF1 Score: {metrics['f1']}\")\n",
        "print(classification_report(y_test, predict))"
      ],
      "metadata": {
        "id": "kicKUxC8dKeH",
        "outputId": "d859b114-6888-449f-9d28-c9a2126b2251",
        "colab": {
          "base_uri": "https://localhost:8080/",
          "height": 497
        }
      },
      "execution_count": 11,
      "outputs": [
        {
          "output_type": "stream",
          "name": "stdout",
          "text": [
            "Accuracy: 0.41271820448877805\n",
            "Precision: 0.35505141285443115\n",
            "Recall: 0.33373441164794554\n",
            "F1 Score: 0.3324115318106068\n"
          ]
        },
        {
          "output_type": "stream",
          "name": "stderr",
          "text": [
            "2024/12/04 03:16:05 INFO mlflow.tracking.fluent: Experiment with name 'KNN_Model using calibration' does not exist. Creating a new experiment.\n"
          ]
        },
        {
          "output_type": "stream",
          "name": "stdout",
          "text": [
            "🏃 View run KNN sigma=5 at: https://dagshub.com/IdjiotSandwiches/knn-fer.mlflow/#/experiments/8/runs/c1b2dcc5917e455fa84e0b57000e5062\n",
            "🧪 View experiment at: https://dagshub.com/IdjiotSandwiches/knn-fer.mlflow/#/experiments/8\n"
          ]
        },
        {
          "output_type": "error",
          "ename": "RestException",
          "evalue": "INVALID_PARAMETER_VALUE: Response: {'error_code': 'INVALID_PARAMETER_VALUE'}",
          "traceback": [
            "\u001b[0;31m---------------------------------------------------------------------------\u001b[0m",
            "\u001b[0;31mRestException\u001b[0m                             Traceback (most recent call last)",
            "\u001b[0;32m<ipython-input-11-f8feac4abe0d>\u001b[0m in \u001b[0;36m<cell line: 34>\u001b[0;34m()\u001b[0m\n\u001b[1;32m     35\u001b[0m   \u001b[0mmlflow\u001b[0m\u001b[0;34m.\u001b[0m\u001b[0mlog_params\u001b[0m\u001b[0;34m(\u001b[0m\u001b[0mgabor_params\u001b[0m\u001b[0;34m)\u001b[0m\u001b[0;34m\u001b[0m\u001b[0;34m\u001b[0m\u001b[0m\n\u001b[1;32m     36\u001b[0m   \u001b[0mmlflow\u001b[0m\u001b[0;34m.\u001b[0m\u001b[0mlog_params\u001b[0m\u001b[0;34m(\u001b[0m\u001b[0msplit_params\u001b[0m\u001b[0;34m)\u001b[0m\u001b[0;34m\u001b[0m\u001b[0;34m\u001b[0m\u001b[0m\n\u001b[0;32m---> 37\u001b[0;31m   \u001b[0mmlflow\u001b[0m\u001b[0;34m.\u001b[0m\u001b[0mlog_params\u001b[0m\u001b[0;34m(\u001b[0m\u001b[0mcalib_params\u001b[0m\u001b[0;34m)\u001b[0m\u001b[0;34m\u001b[0m\u001b[0;34m\u001b[0m\u001b[0m\n\u001b[0m\u001b[1;32m     38\u001b[0m   \u001b[0mmlflow\u001b[0m\u001b[0;34m.\u001b[0m\u001b[0mlog_params\u001b[0m\u001b[0;34m(\u001b[0m\u001b[0mmodel_params\u001b[0m\u001b[0;34m)\u001b[0m\u001b[0;34m\u001b[0m\u001b[0;34m\u001b[0m\u001b[0m\n\u001b[1;32m     39\u001b[0m   \u001b[0mmlflow\u001b[0m\u001b[0;34m.\u001b[0m\u001b[0mlog_metrics\u001b[0m\u001b[0;34m(\u001b[0m\u001b[0mmetrics\u001b[0m\u001b[0;34m)\u001b[0m\u001b[0;34m\u001b[0m\u001b[0;34m\u001b[0m\u001b[0m\n",
            "\u001b[0;32m/usr/local/lib/python3.10/dist-packages/mlflow/tracking/fluent.py\u001b[0m in \u001b[0;36mlog_params\u001b[0;34m(params, synchronous, run_id)\u001b[0m\n\u001b[1;32m   1021\u001b[0m     \u001b[0mparams_arr\u001b[0m \u001b[0;34m=\u001b[0m \u001b[0;34m[\u001b[0m\u001b[0mParam\u001b[0m\u001b[0;34m(\u001b[0m\u001b[0mkey\u001b[0m\u001b[0;34m,\u001b[0m \u001b[0mstr\u001b[0m\u001b[0;34m(\u001b[0m\u001b[0mvalue\u001b[0m\u001b[0;34m)\u001b[0m\u001b[0;34m)\u001b[0m \u001b[0;32mfor\u001b[0m \u001b[0mkey\u001b[0m\u001b[0;34m,\u001b[0m \u001b[0mvalue\u001b[0m \u001b[0;32min\u001b[0m \u001b[0mparams\u001b[0m\u001b[0;34m.\u001b[0m\u001b[0mitems\u001b[0m\u001b[0;34m(\u001b[0m\u001b[0;34m)\u001b[0m\u001b[0;34m]\u001b[0m\u001b[0;34m\u001b[0m\u001b[0;34m\u001b[0m\u001b[0m\n\u001b[1;32m   1022\u001b[0m     \u001b[0msynchronous\u001b[0m \u001b[0;34m=\u001b[0m \u001b[0msynchronous\u001b[0m \u001b[0;32mif\u001b[0m \u001b[0msynchronous\u001b[0m \u001b[0;32mis\u001b[0m \u001b[0;32mnot\u001b[0m \u001b[0;32mNone\u001b[0m \u001b[0;32melse\u001b[0m \u001b[0;32mnot\u001b[0m \u001b[0mMLFLOW_ENABLE_ASYNC_LOGGING\u001b[0m\u001b[0;34m.\u001b[0m\u001b[0mget\u001b[0m\u001b[0;34m(\u001b[0m\u001b[0;34m)\u001b[0m\u001b[0;34m\u001b[0m\u001b[0;34m\u001b[0m\u001b[0m\n\u001b[0;32m-> 1023\u001b[0;31m     return MlflowClient().log_batch(\n\u001b[0m\u001b[1;32m   1024\u001b[0m         \u001b[0mrun_id\u001b[0m\u001b[0;34m=\u001b[0m\u001b[0mrun_id\u001b[0m\u001b[0;34m,\u001b[0m \u001b[0mmetrics\u001b[0m\u001b[0;34m=\u001b[0m\u001b[0;34m[\u001b[0m\u001b[0;34m]\u001b[0m\u001b[0;34m,\u001b[0m \u001b[0mparams\u001b[0m\u001b[0;34m=\u001b[0m\u001b[0mparams_arr\u001b[0m\u001b[0;34m,\u001b[0m \u001b[0mtags\u001b[0m\u001b[0;34m=\u001b[0m\u001b[0;34m[\u001b[0m\u001b[0;34m]\u001b[0m\u001b[0;34m,\u001b[0m \u001b[0msynchronous\u001b[0m\u001b[0;34m=\u001b[0m\u001b[0msynchronous\u001b[0m\u001b[0;34m\u001b[0m\u001b[0;34m\u001b[0m\u001b[0m\n\u001b[1;32m   1025\u001b[0m     )\n",
            "\u001b[0;32m/usr/local/lib/python3.10/dist-packages/mlflow/tracking/client.py\u001b[0m in \u001b[0;36mlog_batch\u001b[0;34m(self, run_id, metrics, params, tags, synchronous)\u001b[0m\n\u001b[1;32m   1861\u001b[0m             \u001b[0msynchronous\u001b[0m \u001b[0;32mif\u001b[0m \u001b[0msynchronous\u001b[0m \u001b[0;32mis\u001b[0m \u001b[0;32mnot\u001b[0m \u001b[0;32mNone\u001b[0m \u001b[0;32melse\u001b[0m \u001b[0;32mnot\u001b[0m \u001b[0mMLFLOW_ENABLE_ASYNC_LOGGING\u001b[0m\u001b[0;34m.\u001b[0m\u001b[0mget\u001b[0m\u001b[0;34m(\u001b[0m\u001b[0;34m)\u001b[0m\u001b[0;34m\u001b[0m\u001b[0;34m\u001b[0m\u001b[0m\n\u001b[1;32m   1862\u001b[0m         )\n\u001b[0;32m-> 1863\u001b[0;31m         return self._tracking_client.log_batch(\n\u001b[0m\u001b[1;32m   1864\u001b[0m             \u001b[0mrun_id\u001b[0m\u001b[0;34m,\u001b[0m \u001b[0mmetrics\u001b[0m\u001b[0;34m,\u001b[0m \u001b[0mparams\u001b[0m\u001b[0;34m,\u001b[0m \u001b[0mtags\u001b[0m\u001b[0;34m,\u001b[0m \u001b[0msynchronous\u001b[0m\u001b[0;34m=\u001b[0m\u001b[0msynchronous\u001b[0m\u001b[0;34m\u001b[0m\u001b[0;34m\u001b[0m\u001b[0m\n\u001b[1;32m   1865\u001b[0m         )\n",
            "\u001b[0;32m/usr/local/lib/python3.10/dist-packages/mlflow/tracking/_tracking_service/client.py\u001b[0m in \u001b[0;36mlog_batch\u001b[0;34m(self, run_id, metrics, params, tags, synchronous)\u001b[0m\n\u001b[1;32m    745\u001b[0m \u001b[0;34m\u001b[0m\u001b[0m\n\u001b[1;32m    746\u001b[0m             \u001b[0;32mif\u001b[0m \u001b[0msynchronous\u001b[0m\u001b[0;34m:\u001b[0m\u001b[0;34m\u001b[0m\u001b[0;34m\u001b[0m\u001b[0m\n\u001b[0;32m--> 747\u001b[0;31m                 self.store.log_batch(\n\u001b[0m\u001b[1;32m    748\u001b[0m                     \u001b[0mrun_id\u001b[0m\u001b[0;34m=\u001b[0m\u001b[0mrun_id\u001b[0m\u001b[0;34m,\u001b[0m \u001b[0mmetrics\u001b[0m\u001b[0;34m=\u001b[0m\u001b[0mmetrics_batch\u001b[0m\u001b[0;34m,\u001b[0m \u001b[0mparams\u001b[0m\u001b[0;34m=\u001b[0m\u001b[0mparams_batch\u001b[0m\u001b[0;34m,\u001b[0m \u001b[0mtags\u001b[0m\u001b[0;34m=\u001b[0m\u001b[0mtags_batch\u001b[0m\u001b[0;34m\u001b[0m\u001b[0;34m\u001b[0m\u001b[0m\n\u001b[1;32m    749\u001b[0m                 )\n",
            "\u001b[0;32m/usr/local/lib/python3.10/dist-packages/mlflow/store/tracking/rest_store.py\u001b[0m in \u001b[0;36mlog_batch\u001b[0;34m(self, run_id, metrics, params, tags)\u001b[0m\n\u001b[1;32m    537\u001b[0m             \u001b[0mLogBatch\u001b[0m\u001b[0;34m(\u001b[0m\u001b[0mmetrics\u001b[0m\u001b[0;34m=\u001b[0m\u001b[0mmetric_protos\u001b[0m\u001b[0;34m,\u001b[0m \u001b[0mparams\u001b[0m\u001b[0;34m=\u001b[0m\u001b[0mparam_protos\u001b[0m\u001b[0;34m,\u001b[0m \u001b[0mtags\u001b[0m\u001b[0;34m=\u001b[0m\u001b[0mtag_protos\u001b[0m\u001b[0;34m,\u001b[0m \u001b[0mrun_id\u001b[0m\u001b[0;34m=\u001b[0m\u001b[0mrun_id\u001b[0m\u001b[0;34m)\u001b[0m\u001b[0;34m\u001b[0m\u001b[0;34m\u001b[0m\u001b[0m\n\u001b[1;32m    538\u001b[0m         )\n\u001b[0;32m--> 539\u001b[0;31m         \u001b[0mself\u001b[0m\u001b[0;34m.\u001b[0m\u001b[0m_call_endpoint\u001b[0m\u001b[0;34m(\u001b[0m\u001b[0mLogBatch\u001b[0m\u001b[0;34m,\u001b[0m \u001b[0mreq_body\u001b[0m\u001b[0;34m)\u001b[0m\u001b[0;34m\u001b[0m\u001b[0;34m\u001b[0m\u001b[0m\n\u001b[0m\u001b[1;32m    540\u001b[0m \u001b[0;34m\u001b[0m\u001b[0m\n\u001b[1;32m    541\u001b[0m     \u001b[0;32mdef\u001b[0m \u001b[0mrecord_logged_model\u001b[0m\u001b[0;34m(\u001b[0m\u001b[0mself\u001b[0m\u001b[0;34m,\u001b[0m \u001b[0mrun_id\u001b[0m\u001b[0;34m,\u001b[0m \u001b[0mmlflow_model\u001b[0m\u001b[0;34m)\u001b[0m\u001b[0;34m:\u001b[0m\u001b[0;34m\u001b[0m\u001b[0;34m\u001b[0m\u001b[0m\n",
            "\u001b[0;32m/usr/local/lib/python3.10/dist-packages/mlflow/store/tracking/rest_store.py\u001b[0m in \u001b[0;36m_call_endpoint\u001b[0;34m(self, api, json_body, endpoint)\u001b[0m\n\u001b[1;32m     80\u001b[0m             \u001b[0mendpoint\u001b[0m\u001b[0;34m,\u001b[0m \u001b[0mmethod\u001b[0m \u001b[0;34m=\u001b[0m \u001b[0m_METHOD_TO_INFO\u001b[0m\u001b[0;34m[\u001b[0m\u001b[0mapi\u001b[0m\u001b[0;34m]\u001b[0m\u001b[0;34m\u001b[0m\u001b[0;34m\u001b[0m\u001b[0m\n\u001b[1;32m     81\u001b[0m         \u001b[0mresponse_proto\u001b[0m \u001b[0;34m=\u001b[0m \u001b[0mapi\u001b[0m\u001b[0;34m.\u001b[0m\u001b[0mResponse\u001b[0m\u001b[0;34m(\u001b[0m\u001b[0;34m)\u001b[0m\u001b[0;34m\u001b[0m\u001b[0;34m\u001b[0m\u001b[0m\n\u001b[0;32m---> 82\u001b[0;31m         \u001b[0;32mreturn\u001b[0m \u001b[0mcall_endpoint\u001b[0m\u001b[0;34m(\u001b[0m\u001b[0mself\u001b[0m\u001b[0;34m.\u001b[0m\u001b[0mget_host_creds\u001b[0m\u001b[0;34m(\u001b[0m\u001b[0;34m)\u001b[0m\u001b[0;34m,\u001b[0m \u001b[0mendpoint\u001b[0m\u001b[0;34m,\u001b[0m \u001b[0mmethod\u001b[0m\u001b[0;34m,\u001b[0m \u001b[0mjson_body\u001b[0m\u001b[0;34m,\u001b[0m \u001b[0mresponse_proto\u001b[0m\u001b[0;34m)\u001b[0m\u001b[0;34m\u001b[0m\u001b[0;34m\u001b[0m\u001b[0m\n\u001b[0m\u001b[1;32m     83\u001b[0m \u001b[0;34m\u001b[0m\u001b[0m\n\u001b[1;32m     84\u001b[0m     def search_experiments(\n",
            "\u001b[0;32m/usr/local/lib/python3.10/dist-packages/mlflow/utils/rest_utils.py\u001b[0m in \u001b[0;36mcall_endpoint\u001b[0;34m(host_creds, endpoint, method, json_body, response_proto, extra_headers)\u001b[0m\n\u001b[1;32m    368\u001b[0m         \u001b[0mresponse\u001b[0m \u001b[0;34m=\u001b[0m \u001b[0mhttp_request\u001b[0m\u001b[0;34m(\u001b[0m\u001b[0;34m**\u001b[0m\u001b[0mcall_kwargs\u001b[0m\u001b[0;34m)\u001b[0m\u001b[0;34m\u001b[0m\u001b[0;34m\u001b[0m\u001b[0m\n\u001b[1;32m    369\u001b[0m \u001b[0;34m\u001b[0m\u001b[0m\n\u001b[0;32m--> 370\u001b[0;31m     \u001b[0mresponse\u001b[0m \u001b[0;34m=\u001b[0m \u001b[0mverify_rest_response\u001b[0m\u001b[0;34m(\u001b[0m\u001b[0mresponse\u001b[0m\u001b[0;34m,\u001b[0m \u001b[0mendpoint\u001b[0m\u001b[0;34m)\u001b[0m\u001b[0;34m\u001b[0m\u001b[0;34m\u001b[0m\u001b[0m\n\u001b[0m\u001b[1;32m    371\u001b[0m     \u001b[0mresponse_to_parse\u001b[0m \u001b[0;34m=\u001b[0m \u001b[0mresponse\u001b[0m\u001b[0;34m.\u001b[0m\u001b[0mtext\u001b[0m\u001b[0;34m\u001b[0m\u001b[0;34m\u001b[0m\u001b[0m\n\u001b[1;32m    372\u001b[0m     \u001b[0mjs_dict\u001b[0m \u001b[0;34m=\u001b[0m \u001b[0mjson\u001b[0m\u001b[0;34m.\u001b[0m\u001b[0mloads\u001b[0m\u001b[0;34m(\u001b[0m\u001b[0mresponse_to_parse\u001b[0m\u001b[0;34m)\u001b[0m\u001b[0;34m\u001b[0m\u001b[0;34m\u001b[0m\u001b[0m\n",
            "\u001b[0;32m/usr/local/lib/python3.10/dist-packages/mlflow/utils/rest_utils.py\u001b[0m in \u001b[0;36mverify_rest_response\u001b[0;34m(response, endpoint)\u001b[0m\n\u001b[1;32m    238\u001b[0m     \u001b[0;32mif\u001b[0m \u001b[0mresponse\u001b[0m\u001b[0;34m.\u001b[0m\u001b[0mstatus_code\u001b[0m \u001b[0;34m!=\u001b[0m \u001b[0;36m200\u001b[0m\u001b[0;34m:\u001b[0m\u001b[0;34m\u001b[0m\u001b[0;34m\u001b[0m\u001b[0m\n\u001b[1;32m    239\u001b[0m         \u001b[0;32mif\u001b[0m \u001b[0m_can_parse_as_json_object\u001b[0m\u001b[0;34m(\u001b[0m\u001b[0mresponse\u001b[0m\u001b[0;34m.\u001b[0m\u001b[0mtext\u001b[0m\u001b[0;34m)\u001b[0m\u001b[0;34m:\u001b[0m\u001b[0;34m\u001b[0m\u001b[0;34m\u001b[0m\u001b[0m\n\u001b[0;32m--> 240\u001b[0;31m             \u001b[0;32mraise\u001b[0m \u001b[0mRestException\u001b[0m\u001b[0;34m(\u001b[0m\u001b[0mjson\u001b[0m\u001b[0;34m.\u001b[0m\u001b[0mloads\u001b[0m\u001b[0;34m(\u001b[0m\u001b[0mresponse\u001b[0m\u001b[0;34m.\u001b[0m\u001b[0mtext\u001b[0m\u001b[0;34m)\u001b[0m\u001b[0;34m)\u001b[0m\u001b[0;34m\u001b[0m\u001b[0;34m\u001b[0m\u001b[0m\n\u001b[0m\u001b[1;32m    241\u001b[0m         \u001b[0;32melse\u001b[0m\u001b[0;34m:\u001b[0m\u001b[0;34m\u001b[0m\u001b[0;34m\u001b[0m\u001b[0m\n\u001b[1;32m    242\u001b[0m             base_msg = (\n",
            "\u001b[0;31mRestException\u001b[0m: INVALID_PARAMETER_VALUE: Response: {'error_code': 'INVALID_PARAMETER_VALUE'}"
          ]
        }
      ]
    },
    {
      "cell_type": "code",
      "source": [
        "mlflow.set_experiment(\"KNN_Model using calibration\")\n",
        "mlflow.set_tracking_uri(\"https://dagshub.com/IdjiotSandwiches/knn-fer.mlflow\")\n",
        "\n",
        "with mlflow.start_run(run_name=f'KNN sigma=5'):\n",
        "  mlflow.log_params(gabor_params)\n",
        "  mlflow.log_params(split_params)\n",
        "  mlflow.log_param('calib_test_size', calib_params['test_size'])\n",
        "  mlflow.log_param('calib_random_state', calib_params['random_state'])\n",
        "  mlflow.log_params(model_params)\n",
        "  mlflow.log_metrics(metrics)\n",
        "  mlflow.sklearn.log_model(\n",
        "      sk_model=calib_model,\n",
        "      artifact_path='KNN Model',\n",
        "      input_example=X_train[:1]\n",
        "  )"
      ],
      "metadata": {
        "id": "8bmdaQwjrDxB",
        "outputId": "22199efa-339f-4b4b-f22a-9da75dc432ae",
        "colab": {
          "base_uri": "https://localhost:8080/"
        }
      },
      "execution_count": 14,
      "outputs": [
        {
          "output_type": "stream",
          "name": "stdout",
          "text": [
            "🏃 View run KNN sigma=5 at: https://dagshub.com/IdjiotSandwiches/knn-fer.mlflow/#/experiments/8/runs/ce454a371af4424b87baacc1c7c55bf9\n",
            "🧪 View experiment at: https://dagshub.com/IdjiotSandwiches/knn-fer.mlflow/#/experiments/8\n"
          ]
        }
      ]
    },
    {
      "cell_type": "code",
      "source": [
        "for p, y in zip(predict[:20], y_test[:20]):\n",
        "  print(f'Predict: {LABELS[p]} | Real: {LABELS[y]}')"
      ],
      "metadata": {
        "id": "jdWcylVFCQBp",
        "outputId": "0f735825-cbda-4bd5-8bcb-379d20b9cb35",
        "colab": {
          "base_uri": "https://localhost:8080/"
        }
      },
      "execution_count": 16,
      "outputs": [
        {
          "output_type": "stream",
          "name": "stdout",
          "text": [
            "Predict: happy | Real: surprise\n",
            "Predict: surprise | Real: surprise\n",
            "Predict: surprise | Real: fear\n",
            "Predict: happy | Real: happy\n",
            "Predict: happy | Real: sad\n",
            "Predict: surprise | Real: neutral\n",
            "Predict: neutral | Real: sad\n",
            "Predict: happy | Real: happy\n",
            "Predict: angry | Real: neutral\n",
            "Predict: sad | Real: happy\n",
            "Predict: happy | Real: angry\n",
            "Predict: sad | Real: sad\n",
            "Predict: happy | Real: angry\n",
            "Predict: sad | Real: angry\n",
            "Predict: happy | Real: angry\n",
            "Predict: disgust | Real: angry\n",
            "Predict: angry | Real: angry\n",
            "Predict: surprise | Real: fear\n",
            "Predict: surprise | Real: surprise\n",
            "Predict: angry | Real: fear\n"
          ]
        }
      ]
    },
    {
      "cell_type": "code",
      "source": [
        "# N_NEIGHBORS = [3,5]\n",
        "# WEIGHTS = ['uniform', 'distance']\n",
        "# METRIC = ['minkowski', 'euclidean', 'manhattan']\n",
        "# ALGORITHM = ['auto', 'ball_tree', 'kd_tree', 'brute']\n",
        "\n",
        "# for n in N_NEIGHBORS:\n",
        "#   for w in WEIGHTS:\n",
        "#     for m in METRIC:\n",
        "#       for a in ALGORITHM:\n",
        "#         model_params = {\n",
        "#             'n_neighbors': n,\n",
        "#             'weights': w,\n",
        "#             'metric': m,\n",
        "#             'algorithm': a\n",
        "#         }\n",
        "\n",
        "#         model = KNeighborsClassifier(**model_params)\n",
        "#         model.fit(X_train, y_train)\n",
        "\n",
        "#         predict = model.predict(X_test)\n",
        "\n",
        "#         metrics = {\n",
        "#           'accuracy': accuracy_score(y_test, predict),\n",
        "#           'precision': precision_score(y_test, predict, average='macro'),\n",
        "#           'recall': recall_score(y_test, predict, average='macro'),\n",
        "#           'f1': f1_score(y_test, predict, average='macro')\n",
        "#         }\n",
        "\n",
        "#         print(f\"Accuracy: {metrics['accuracy']}\\nPrecision: {metrics['precision']}\\nRecall: {metrics['recall']}\\nF1 Score: {metrics['f1']}\")\n",
        "\n",
        "#         mlflow.set_experiment(\"KNN_Model Theta=32\")\n",
        "#         mlflow.set_tracking_uri(\"https://dagshub.com/IdjiotSandwiches/knn-fer.mlflow\")\n",
        "\n",
        "#         with mlflow.start_run(run_name=f'KNN n_neighbors={n}, weights={w}, metric={m}, algorithm={a}'):\n",
        "#           mlflow.log_params(gabor_params)\n",
        "#           mlflow.log_params(split_params)\n",
        "#           mlflow.log_params(model_params)\n",
        "#           mlflow.log_metrics(metrics)\n",
        "#           mlflow.sklearn.log_model(\n",
        "#               sk_model=model,\n",
        "#               artifact_path='KNN Model',\n",
        "#               input_example=X_train[:1]\n",
        "#           )"
      ],
      "metadata": {
        "id": "rinxD5ml1ALw",
        "outputId": "19adf5df-000e-4ac1-b7cb-4f1784af296b",
        "colab": {
          "base_uri": "https://localhost:8080/"
        }
      },
      "execution_count": null,
      "outputs": [
        {
          "metadata": {
            "tags": null
          },
          "name": "stdout",
          "output_type": "stream",
          "text": [
            "Accuracy: 0.3074766355140187\n",
            "Precision: 0.3050938501361262\n",
            "Recall: 0.29387967874509396\n",
            "F1 Score: 0.2783373964588805\n"
          ]
        },
        {
          "metadata": {
            "tags": null
          },
          "name": "stderr",
          "output_type": "stream",
          "text": [
            "2024/11/30 10:59:14 INFO mlflow.tracking.fluent: Experiment with name 'KNN_Model Theta=32' does not exist. Creating a new experiment.\n",
            "WARNING:urllib3.connectionpool:Retrying (Retry(total=4, connect=5, read=5, redirect=5, status=5)) after connection broken by 'SSLEOFError(8, 'EOF occurred in violation of protocol (_ssl.c:2426)')': /IdjiotSandwiches/knn-fer.mlflow/api/2.0/mlflow-artifacts/artifacts/abe48ccf65564288adf7624e9ef9cb3e/b02f353aaeb3491cb74358282af9a0b4/artifacts/KNN%20Model/model.pkl\n"
          ]
        },
        {
          "metadata": {
            "tags": null
          },
          "name": "stdout",
          "output_type": "stream",
          "text": [
            "🏃 View run KNN n_neighbors=3, weights=uniform, metric=minkowski, algorithm=auto at: https://dagshub.com/IdjiotSandwiches/knn-fer.mlflow/#/experiments/4/runs/b02f353aaeb3491cb74358282af9a0b4\n",
            "🧪 View experiment at: https://dagshub.com/IdjiotSandwiches/knn-fer.mlflow/#/experiments/4\n",
            "Accuracy: 0.308411214953271\n",
            "Precision: 0.30554388973180335\n",
            "Recall: 0.2947200148795478\n",
            "F1 Score: 0.27900485072077663\n"
          ]
        },
        {
          "metadata": {
            "tags": null
          },
          "name": "stderr",
          "output_type": "stream",
          "text": [
            "WARNING:urllib3.connectionpool:Retrying (Retry(total=4, connect=5, read=5, redirect=5, status=5)) after connection broken by 'SSLEOFError(8, 'EOF occurred in violation of protocol (_ssl.c:2426)')': /IdjiotSandwiches/knn-fer.mlflow/api/2.0/mlflow-artifacts/artifacts/abe48ccf65564288adf7624e9ef9cb3e/923932c2679642a08150dd7eb2980d57/artifacts/KNN%20Model/model.pkl\n"
          ]
        },
        {
          "metadata": {
            "tags": null
          },
          "name": "stdout",
          "output_type": "stream",
          "text": [
            "🏃 View run KNN n_neighbors=3, weights=uniform, metric=minkowski, algorithm=ball_tree at: https://dagshub.com/IdjiotSandwiches/knn-fer.mlflow/#/experiments/4/runs/923932c2679642a08150dd7eb2980d57\n",
            "🧪 View experiment at: https://dagshub.com/IdjiotSandwiches/knn-fer.mlflow/#/experiments/4\n",
            "Accuracy: 0.308411214953271\n",
            "Precision: 0.30564408809920407\n",
            "Recall: 0.2947200148795478\n",
            "F1 Score: 0.2790072898045715\n",
            "🏃 View run KNN n_neighbors=3, weights=uniform, metric=minkowski, algorithm=kd_tree at: https://dagshub.com/IdjiotSandwiches/knn-fer.mlflow/#/experiments/4/runs/aa15c822146048458410e873536155a7\n",
            "🧪 View experiment at: https://dagshub.com/IdjiotSandwiches/knn-fer.mlflow/#/experiments/4\n",
            "Accuracy: 0.3074766355140187\n",
            "Precision: 0.3050938501361262\n",
            "Recall: 0.29387967874509396\n",
            "F1 Score: 0.2783373964588805\n",
            "🏃 View run KNN n_neighbors=3, weights=uniform, metric=minkowski, algorithm=brute at: https://dagshub.com/IdjiotSandwiches/knn-fer.mlflow/#/experiments/4/runs/df424c2fee9e46bd9b4a31f40bc56106\n",
            "🧪 View experiment at: https://dagshub.com/IdjiotSandwiches/knn-fer.mlflow/#/experiments/4\n",
            "Accuracy: 0.3074766355140187\n",
            "Precision: 0.3050938501361262\n",
            "Recall: 0.29387967874509396\n",
            "F1 Score: 0.2783373964588805\n",
            "🏃 View run KNN n_neighbors=3, weights=uniform, metric=euclidean, algorithm=auto at: https://dagshub.com/IdjiotSandwiches/knn-fer.mlflow/#/experiments/4/runs/2f79df49278f43c893227ddb55800674\n",
            "🧪 View experiment at: https://dagshub.com/IdjiotSandwiches/knn-fer.mlflow/#/experiments/4\n"
          ]
        },
        {
          "metadata": {
            "tags": null
          },
          "name": "stderr",
          "output_type": "stream",
          "text": [
            "WARNING:urllib3.connectionpool:Retrying (Retry(total=4, connect=5, read=4, redirect=5, status=5)) after connection broken by 'RemoteDisconnected('Remote end closed connection without response')': /IdjiotSandwiches/knn-fer.mlflow/api/2.0/mlflow/experiments/get-by-name?experiment_name=KNN_Model+Theta%3D32\n"
          ]
        },
        {
          "metadata": {
            "tags": null
          },
          "name": "stdout",
          "output_type": "stream",
          "text": [
            "Accuracy: 0.308411214953271\n",
            "Precision: 0.30554388973180335\n",
            "Recall: 0.2947200148795478\n",
            "F1 Score: 0.27900485072077663\n"
          ]
        },
        {
          "metadata": {
            "tags": null
          },
          "name": "stderr",
          "output_type": "stream",
          "text": [
            "WARNING:urllib3.connectionpool:Retrying (Retry(total=4, connect=5, read=5, redirect=5, status=5)) after connection broken by 'SSLEOFError(8, 'EOF occurred in violation of protocol (_ssl.c:2426)')': /IdjiotSandwiches/knn-fer.mlflow/api/2.0/mlflow-artifacts/artifacts/abe48ccf65564288adf7624e9ef9cb3e/eec782be7df14b27a88a49477edf3286/artifacts/KNN%20Model/model.pkl\n"
          ]
        },
        {
          "metadata": {
            "tags": null
          },
          "name": "stdout",
          "output_type": "stream",
          "text": [
            "🏃 View run KNN n_neighbors=3, weights=uniform, metric=euclidean, algorithm=ball_tree at: https://dagshub.com/IdjiotSandwiches/knn-fer.mlflow/#/experiments/4/runs/eec782be7df14b27a88a49477edf3286\n",
            "🧪 View experiment at: https://dagshub.com/IdjiotSandwiches/knn-fer.mlflow/#/experiments/4\n",
            "Accuracy: 0.308411214953271\n",
            "Precision: 0.30564408809920407\n",
            "Recall: 0.2947200148795478\n",
            "F1 Score: 0.2790072898045715\n",
            "🏃 View run KNN n_neighbors=3, weights=uniform, metric=euclidean, algorithm=kd_tree at: https://dagshub.com/IdjiotSandwiches/knn-fer.mlflow/#/experiments/4/runs/f6a2dd52f9ad4de7928c6899918adb7c\n",
            "🧪 View experiment at: https://dagshub.com/IdjiotSandwiches/knn-fer.mlflow/#/experiments/4\n",
            "Accuracy: 0.3074766355140187\n",
            "Precision: 0.3050938501361262\n",
            "Recall: 0.29387967874509396\n",
            "F1 Score: 0.2783373964588805\n"
          ]
        },
        {
          "metadata": {
            "tags": null
          },
          "name": "stderr",
          "output_type": "stream",
          "text": [
            "WARNING:urllib3.connectionpool:Retrying (Retry(total=4, connect=5, read=5, redirect=5, status=5)) after connection broken by 'SSLEOFError(8, 'EOF occurred in violation of protocol (_ssl.c:2426)')': /IdjiotSandwiches/knn-fer.mlflow/api/2.0/mlflow-artifacts/artifacts/abe48ccf65564288adf7624e9ef9cb3e/7da638b7f90b4ffc924ca1bba56e99b3/artifacts/KNN%20Model/model.pkl\n"
          ]
        },
        {
          "metadata": {
            "tags": null
          },
          "name": "stdout",
          "output_type": "stream",
          "text": [
            "🏃 View run KNN n_neighbors=3, weights=uniform, metric=euclidean, algorithm=brute at: https://dagshub.com/IdjiotSandwiches/knn-fer.mlflow/#/experiments/4/runs/7da638b7f90b4ffc924ca1bba56e99b3\n",
            "🧪 View experiment at: https://dagshub.com/IdjiotSandwiches/knn-fer.mlflow/#/experiments/4\n",
            "Accuracy: 0.3233644859813084\n",
            "Precision: 0.31787422780360425\n",
            "Recall: 0.30837462993039805\n",
            "F1 Score: 0.2955184378198163\n",
            "🏃 View run KNN n_neighbors=3, weights=uniform, metric=manhattan, algorithm=auto at: https://dagshub.com/IdjiotSandwiches/knn-fer.mlflow/#/experiments/4/runs/c0fe6cc1f71b4d0890cca4f4d474bb7d\n",
            "🧪 View experiment at: https://dagshub.com/IdjiotSandwiches/knn-fer.mlflow/#/experiments/4\n",
            "Accuracy: 0.3233644859813084\n",
            "Precision: 0.3177394374501707\n",
            "Recall: 0.30837462993039805\n",
            "F1 Score: 0.2954523945289038\n",
            "🏃 View run KNN n_neighbors=3, weights=uniform, metric=manhattan, algorithm=ball_tree at: https://dagshub.com/IdjiotSandwiches/knn-fer.mlflow/#/experiments/4/runs/3b8d1d02eaf148a78fbb3c667b6a18ba\n",
            "🧪 View experiment at: https://dagshub.com/IdjiotSandwiches/knn-fer.mlflow/#/experiments/4\n",
            "Accuracy: 0.3233644859813084\n",
            "Precision: 0.31789386738325554\n",
            "Recall: 0.30837462993039805\n",
            "F1 Score: 0.2955186129882777\n",
            "🏃 View run KNN n_neighbors=3, weights=uniform, metric=manhattan, algorithm=kd_tree at: https://dagshub.com/IdjiotSandwiches/knn-fer.mlflow/#/experiments/4/runs/3fe2f0693f6e4ddc914dc99a5c36f475\n",
            "🧪 View experiment at: https://dagshub.com/IdjiotSandwiches/knn-fer.mlflow/#/experiments/4\n",
            "Accuracy: 0.3233644859813084\n",
            "Precision: 0.31787422780360425\n",
            "Recall: 0.30837462993039805\n",
            "F1 Score: 0.2955184378198163\n",
            "🏃 View run KNN n_neighbors=3, weights=uniform, metric=manhattan, algorithm=brute at: https://dagshub.com/IdjiotSandwiches/knn-fer.mlflow/#/experiments/4/runs/8fbe5fd7680d48b5a5ecbbb7dc3ab649\n",
            "🧪 View experiment at: https://dagshub.com/IdjiotSandwiches/knn-fer.mlflow/#/experiments/4\n",
            "Accuracy: 0.34579439252336447\n",
            "Precision: 0.3263228137046797\n",
            "Recall: 0.3106175282484117\n",
            "F1 Score: 0.3123337182888574\n",
            "🏃 View run KNN n_neighbors=3, weights=distance, metric=minkowski, algorithm=auto at: https://dagshub.com/IdjiotSandwiches/knn-fer.mlflow/#/experiments/4/runs/285126e0488e41138872f9055643fb33\n",
            "🧪 View experiment at: https://dagshub.com/IdjiotSandwiches/knn-fer.mlflow/#/experiments/4\n",
            "Accuracy: 0.34766355140186916\n",
            "Precision: 0.3286418668785575\n",
            "Recall: 0.3130277230955814\n",
            "F1 Score: 0.3147611975894672\n"
          ]
        },
        {
          "metadata": {
            "tags": null
          },
          "name": "stderr",
          "output_type": "stream",
          "text": [
            "WARNING:urllib3.connectionpool:Retrying (Retry(total=4, connect=5, read=5, redirect=5, status=5)) after connection broken by 'SSLEOFError(8, 'EOF occurred in violation of protocol (_ssl.c:2426)')': /IdjiotSandwiches/knn-fer.mlflow/api/2.0/mlflow-artifacts/artifacts/abe48ccf65564288adf7624e9ef9cb3e/f055b28fb9714f9fb135bc5babb520f8/artifacts/KNN%20Model/model.pkl\n"
          ]
        },
        {
          "metadata": {
            "tags": null
          },
          "name": "stdout",
          "output_type": "stream",
          "text": [
            "🏃 View run KNN n_neighbors=3, weights=distance, metric=minkowski, algorithm=ball_tree at: https://dagshub.com/IdjiotSandwiches/knn-fer.mlflow/#/experiments/4/runs/f055b28fb9714f9fb135bc5babb520f8\n",
            "🧪 View experiment at: https://dagshub.com/IdjiotSandwiches/knn-fer.mlflow/#/experiments/4\n",
            "Accuracy: 0.34766355140186916\n",
            "Precision: 0.3287131082820621\n",
            "Recall: 0.3130277230955814\n",
            "F1 Score: 0.31473980038813476\n",
            "🏃 View run KNN n_neighbors=3, weights=distance, metric=minkowski, algorithm=kd_tree at: https://dagshub.com/IdjiotSandwiches/knn-fer.mlflow/#/experiments/4/runs/149874b20f7a402a9ec2acd812da0472\n",
            "🧪 View experiment at: https://dagshub.com/IdjiotSandwiches/knn-fer.mlflow/#/experiments/4\n",
            "Accuracy: 0.34579439252336447\n",
            "Precision: 0.3263228137046797\n",
            "Recall: 0.3106175282484117\n",
            "F1 Score: 0.3123337182888574\n",
            "🏃 View run KNN n_neighbors=3, weights=distance, metric=minkowski, algorithm=brute at: https://dagshub.com/IdjiotSandwiches/knn-fer.mlflow/#/experiments/4/runs/dfff4fde858b47119d34d5c534636329\n",
            "🧪 View experiment at: https://dagshub.com/IdjiotSandwiches/knn-fer.mlflow/#/experiments/4\n",
            "Accuracy: 0.34579439252336447\n",
            "Precision: 0.3263228137046797\n",
            "Recall: 0.3106175282484117\n",
            "F1 Score: 0.3123337182888574\n",
            "🏃 View run KNN n_neighbors=3, weights=distance, metric=euclidean, algorithm=auto at: https://dagshub.com/IdjiotSandwiches/knn-fer.mlflow/#/experiments/4/runs/7a9de47b7b074b1eaa9fe41894780820\n",
            "🧪 View experiment at: https://dagshub.com/IdjiotSandwiches/knn-fer.mlflow/#/experiments/4\n"
          ]
        },
        {
          "metadata": {
            "tags": null
          },
          "name": "stderr",
          "output_type": "stream",
          "text": [
            "WARNING:urllib3.connectionpool:Retrying (Retry(total=4, connect=5, read=4, redirect=5, status=5)) after connection broken by 'RemoteDisconnected('Remote end closed connection without response')': /IdjiotSandwiches/knn-fer.mlflow/api/2.0/mlflow/experiments/get-by-name?experiment_name=KNN_Model+Theta%3D32\n"
          ]
        },
        {
          "metadata": {
            "tags": null
          },
          "name": "stdout",
          "output_type": "stream",
          "text": [
            "Accuracy: 0.34766355140186916\n",
            "Precision: 0.3286418668785575\n",
            "Recall: 0.3130277230955814\n",
            "F1 Score: 0.3147611975894672\n",
            "🏃 View run KNN n_neighbors=3, weights=distance, metric=euclidean, algorithm=ball_tree at: https://dagshub.com/IdjiotSandwiches/knn-fer.mlflow/#/experiments/4/runs/42485c29c4e0471089b6564a796b58d6\n",
            "🧪 View experiment at: https://dagshub.com/IdjiotSandwiches/knn-fer.mlflow/#/experiments/4\n"
          ]
        },
        {
          "metadata": {
            "tags": null
          },
          "name": "stderr",
          "output_type": "stream",
          "text": [
            "WARNING:urllib3.connectionpool:Retrying (Retry(total=4, connect=5, read=4, redirect=5, status=5)) after connection broken by 'RemoteDisconnected('Remote end closed connection without response')': /IdjiotSandwiches/knn-fer.mlflow/api/2.0/mlflow/experiments/get-by-name?experiment_name=KNN_Model+Theta%3D32\n"
          ]
        },
        {
          "output_type": "stream",
          "name": "stdout",
          "text": [
            "Accuracy: 0.34766355140186916\n",
            "Precision: 0.3287131082820621\n",
            "Recall: 0.3130277230955814\n",
            "F1 Score: 0.31473980038813476\n",
            "🏃 View run KNN n_neighbors=3, weights=distance, metric=euclidean, algorithm=kd_tree at: https://dagshub.com/IdjiotSandwiches/knn-fer.mlflow/#/experiments/4/runs/344be1df03114619a9efdab34917c339\n",
            "🧪 View experiment at: https://dagshub.com/IdjiotSandwiches/knn-fer.mlflow/#/experiments/4\n",
            "Accuracy: 0.34579439252336447\n",
            "Precision: 0.3263228137046797\n",
            "Recall: 0.3106175282484117\n",
            "F1 Score: 0.3123337182888574\n",
            "🏃 View run KNN n_neighbors=3, weights=distance, metric=euclidean, algorithm=brute at: https://dagshub.com/IdjiotSandwiches/knn-fer.mlflow/#/experiments/4/runs/32696a22a213424999b7f229720bcf01\n",
            "🧪 View experiment at: https://dagshub.com/IdjiotSandwiches/knn-fer.mlflow/#/experiments/4\n",
            "Accuracy: 0.3663551401869159\n",
            "Precision: 0.3502625307532238\n",
            "Recall: 0.3333851627875379\n",
            "F1 Score: 0.33528941745796753\n",
            "🏃 View run KNN n_neighbors=3, weights=distance, metric=manhattan, algorithm=auto at: https://dagshub.com/IdjiotSandwiches/knn-fer.mlflow/#/experiments/4/runs/73e839217e7a41fda438ce6cf6255ab9\n",
            "🧪 View experiment at: https://dagshub.com/IdjiotSandwiches/knn-fer.mlflow/#/experiments/4\n",
            "Accuracy: 0.3663551401869159\n",
            "Precision: 0.3502625307532238\n",
            "Recall: 0.3333851627875379\n",
            "F1 Score: 0.33528941745796753\n",
            "🏃 View run KNN n_neighbors=3, weights=distance, metric=manhattan, algorithm=ball_tree at: https://dagshub.com/IdjiotSandwiches/knn-fer.mlflow/#/experiments/4/runs/eb85904cd922468aae7cc8ff958d2981\n",
            "🧪 View experiment at: https://dagshub.com/IdjiotSandwiches/knn-fer.mlflow/#/experiments/4\n",
            "Accuracy: 0.3663551401869159\n",
            "Precision: 0.3502625307532238\n",
            "Recall: 0.3333851627875379\n",
            "F1 Score: 0.33528941745796753\n",
            "🏃 View run KNN n_neighbors=3, weights=distance, metric=manhattan, algorithm=kd_tree at: https://dagshub.com/IdjiotSandwiches/knn-fer.mlflow/#/experiments/4/runs/63a9cdf905ea4d46bb69f00b14d072b8\n",
            "🧪 View experiment at: https://dagshub.com/IdjiotSandwiches/knn-fer.mlflow/#/experiments/4\n",
            "Accuracy: 0.3663551401869159\n",
            "Precision: 0.3502625307532238\n",
            "Recall: 0.3333851627875379\n",
            "F1 Score: 0.33528941745796753\n",
            "🏃 View run KNN n_neighbors=3, weights=distance, metric=manhattan, algorithm=brute at: https://dagshub.com/IdjiotSandwiches/knn-fer.mlflow/#/experiments/4/runs/edaf731ea2624da0b9e7c5be3b61e5c6\n",
            "🧪 View experiment at: https://dagshub.com/IdjiotSandwiches/knn-fer.mlflow/#/experiments/4\n",
            "Accuracy: 0.32149532710280376\n",
            "Precision: 0.2974186861475799\n",
            "Recall: 0.28356633397364855\n",
            "F1 Score: 0.28050439677949995\n",
            "🏃 View run KNN n_neighbors=5, weights=uniform, metric=minkowski, algorithm=auto at: https://dagshub.com/IdjiotSandwiches/knn-fer.mlflow/#/experiments/4/runs/d4d86dde08584266aef252c40cb2c9bc\n",
            "🧪 View experiment at: https://dagshub.com/IdjiotSandwiches/knn-fer.mlflow/#/experiments/4\n"
          ]
        }
      ]
    }
  ]
}