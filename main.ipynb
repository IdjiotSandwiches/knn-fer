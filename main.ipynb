{
  "nbformat": 4,
  "nbformat_minor": 0,
  "metadata": {
    "colab": {
      "provenance": [],
      "authorship_tag": "ABX9TyOifu8vmBlotwjW4ZvFZctN",
      "include_colab_link": true
    },
    "kernelspec": {
      "name": "python3",
      "display_name": "Python 3"
    },
    "language_info": {
      "name": "python"
    }
  },
  "cells": [
    {
      "cell_type": "markdown",
      "metadata": {
        "id": "view-in-github",
        "colab_type": "text"
      },
      "source": [
        "<a href=\"https://colab.research.google.com/github/IdjiotSandwiches/knn-fer/blob/create-model/main.ipynb\" target=\"_parent\"><img src=\"https://colab.research.google.com/assets/colab-badge.svg\" alt=\"Open In Colab\"/></a>"
      ]
    },
    {
      "cell_type": "code",
      "source": [
        "!pip install dagshub --quiet\n",
        "!pip install mlflow --quiet"
      ],
      "metadata": {
        "id": "W6hUfuo0aRiN",
        "outputId": "6685bbce-ea8e-49ea-a218-83691104cb44",
        "colab": {
          "base_uri": "https://localhost:8080/"
        }
      },
      "execution_count": 1,
      "outputs": [
        {
          "output_type": "stream",
          "name": "stdout",
          "text": [
            "\u001b[?25l   \u001b[90m━━━━━━━━━━━━━━━━━━━━━━━━━━━━━━━━━━━━━━━━\u001b[0m \u001b[32m0.0/252.2 kB\u001b[0m \u001b[31m?\u001b[0m eta \u001b[36m-:--:--\u001b[0m\r\u001b[2K   \u001b[91m━━━━━━━━━━━━━━━━━━━━━━━━━━━━━━━━━━━━━━\u001b[0m\u001b[91m╸\u001b[0m\u001b[90m━\u001b[0m \u001b[32m245.8/252.2 kB\u001b[0m \u001b[31m9.5 MB/s\u001b[0m eta \u001b[36m0:00:01\u001b[0m\r\u001b[2K   \u001b[90m━━━━━━━━━━━━━━━━━━━━━━━━━━━━━━━━━━━━━━━━\u001b[0m \u001b[32m252.2/252.2 kB\u001b[0m \u001b[31m6.5 MB/s\u001b[0m eta \u001b[36m0:00:00\u001b[0m\n",
            "\u001b[2K   \u001b[90m━━━━━━━━━━━━━━━━━━━━━━━━━━━━━━━━━━━━━━━━\u001b[0m \u001b[32m139.2/139.2 kB\u001b[0m \u001b[31m11.2 MB/s\u001b[0m eta \u001b[36m0:00:00\u001b[0m\n",
            "\u001b[2K   \u001b[90m━━━━━━━━━━━━━━━━━━━━━━━━━━━━━━━━━━━━━━━━\u001b[0m \u001b[32m13.0/13.0 MB\u001b[0m \u001b[31m77.8 MB/s\u001b[0m eta \u001b[36m0:00:00\u001b[0m\n",
            "\u001b[2K   \u001b[90m━━━━━━━━━━━━━━━━━━━━━━━━━━━━━━━━━━━━━━━━\u001b[0m \u001b[32m203.2/203.2 kB\u001b[0m \u001b[31m15.4 MB/s\u001b[0m eta \u001b[36m0:00:00\u001b[0m\n",
            "\u001b[2K   \u001b[90m━━━━━━━━━━━━━━━━━━━━━━━━━━━━━━━━━━━━━━━━\u001b[0m \u001b[32m49.5/49.5 kB\u001b[0m \u001b[31m3.8 MB/s\u001b[0m eta \u001b[36m0:00:00\u001b[0m\n",
            "\u001b[2K   \u001b[90m━━━━━━━━━━━━━━━━━━━━━━━━━━━━━━━━━━━━━━━━\u001b[0m \u001b[32m83.2/83.2 kB\u001b[0m \u001b[31m6.4 MB/s\u001b[0m eta \u001b[36m0:00:00\u001b[0m\n",
            "\u001b[2K   \u001b[90m━━━━━━━━━━━━━━━━━━━━━━━━━━━━━━━━━━━━━━━━\u001b[0m \u001b[32m74.0/74.0 kB\u001b[0m \u001b[31m4.8 MB/s\u001b[0m eta \u001b[36m0:00:00\u001b[0m\n",
            "\u001b[2K   \u001b[90m━━━━━━━━━━━━━━━━━━━━━━━━━━━━━━━━━━━━━━━━\u001b[0m \u001b[32m27.3/27.3 MB\u001b[0m \u001b[31m65.8 MB/s\u001b[0m eta \u001b[36m0:00:00\u001b[0m\n",
            "\u001b[2K   \u001b[90m━━━━━━━━━━━━━━━━━━━━━━━━━━━━━━━━━━━━━━━━\u001b[0m \u001b[32m5.8/5.8 MB\u001b[0m \u001b[31m90.4 MB/s\u001b[0m eta \u001b[36m0:00:00\u001b[0m\n",
            "\u001b[2K   \u001b[90m━━━━━━━━━━━━━━━━━━━━━━━━━━━━━━━━━━━━━━━━\u001b[0m \u001b[32m233.5/233.5 kB\u001b[0m \u001b[31m17.4 MB/s\u001b[0m eta \u001b[36m0:00:00\u001b[0m\n",
            "\u001b[2K   \u001b[90m━━━━━━━━━━━━━━━━━━━━━━━━━━━━━━━━━━━━━━━━\u001b[0m \u001b[32m147.8/147.8 kB\u001b[0m \u001b[31m10.6 MB/s\u001b[0m eta \u001b[36m0:00:00\u001b[0m\n",
            "\u001b[2K   \u001b[90m━━━━━━━━━━━━━━━━━━━━━━━━━━━━━━━━━━━━━━━━\u001b[0m \u001b[32m114.9/114.9 kB\u001b[0m \u001b[31m9.0 MB/s\u001b[0m eta \u001b[36m0:00:00\u001b[0m\n",
            "\u001b[2K   \u001b[90m━━━━━━━━━━━━━━━━━━━━━━━━━━━━━━━━━━━━━━━━\u001b[0m \u001b[32m85.0/85.0 kB\u001b[0m \u001b[31m6.9 MB/s\u001b[0m eta \u001b[36m0:00:00\u001b[0m\n",
            "\u001b[2K   \u001b[90m━━━━━━━━━━━━━━━━━━━━━━━━━━━━━━━━━━━━━━━━\u001b[0m \u001b[32m575.1/575.1 kB\u001b[0m \u001b[31m36.0 MB/s\u001b[0m eta \u001b[36m0:00:00\u001b[0m\n",
            "\u001b[2K   \u001b[90m━━━━━━━━━━━━━━━━━━━━━━━━━━━━━━━━━━━━━━━━\u001b[0m \u001b[32m78.6/78.6 kB\u001b[0m \u001b[31m6.2 MB/s\u001b[0m eta \u001b[36m0:00:00\u001b[0m\n",
            "\u001b[?25h"
          ]
        }
      ]
    },
    {
      "cell_type": "code",
      "execution_count": 1,
      "metadata": {
        "id": "-qnEnkZZokh9"
      },
      "outputs": [],
      "source": [
        "import cv2 as cv\n",
        "import numpy as np\n",
        "import matplotlib.pyplot as plt\n",
        "import pandas as pd\n",
        "import mlflow\n",
        "import dagshub\n",
        "import os\n",
        "import pathlib\n",
        "from sklearn.neighbors import KNeighborsClassifier\n",
        "from sklearn.model_selection import train_test_split\n",
        "from sklearn.metrics import accuracy_score, precision_score, recall_score, f1_score, roc_auc_score"
      ]
    },
    {
      "cell_type": "code",
      "source": [
        "from google.colab import drive\n",
        "drive.mount('/content/drive')\n",
        "\n",
        "%cd \"/content/drive/MyDrive/\""
      ],
      "metadata": {
        "id": "Vu_0Zvd7Uf8S",
        "outputId": "ac2f55ed-b233-48e4-9f26-24974e4c6792",
        "colab": {
          "base_uri": "https://localhost:8080/"
        }
      },
      "execution_count": 2,
      "outputs": [
        {
          "output_type": "stream",
          "name": "stdout",
          "text": [
            "Drive already mounted at /content/drive; to attempt to forcibly remount, call drive.mount(\"/content/drive\", force_remount=True).\n",
            "/content/drive/MyDrive\n"
          ]
        }
      ]
    },
    {
      "cell_type": "code",
      "source": [
        "PATH = pathlib.Path('facial-emotion-recognition')\n",
        "LABELS = os.listdir(PATH)"
      ],
      "metadata": {
        "id": "w7tVMC6k2d_C"
      },
      "execution_count": 3,
      "outputs": []
    },
    {
      "cell_type": "code",
      "source": [
        "dagshub.init(repo_owner='IdjiotSandwiches', repo_name='knn-fer', mlflow=True)"
      ],
      "metadata": {
        "id": "0_ZIM-8six15",
        "outputId": "3c4bd222-97fd-43e0-c049-cac6f5f3b2ee",
        "colab": {
          "base_uri": "https://localhost:8080/",
          "height": 68
        }
      },
      "execution_count": 3,
      "outputs": [
        {
          "output_type": "display_data",
          "data": {
            "text/plain": [
              "Accessing as IdjiotSandwiches\n"
            ],
            "text/html": [
              "<pre style=\"white-space:pre;overflow-x:auto;line-height:normal;font-family:Menlo,'DejaVu Sans Mono',consolas,'Courier New',monospace\">Accessing as IdjiotSandwiches\n",
              "</pre>\n"
            ]
          },
          "metadata": {}
        },
        {
          "output_type": "display_data",
          "data": {
            "text/plain": [
              "Initialized MLflow to track repo \u001b[32m\"IdjiotSandwiches/knn-fer\"\u001b[0m\n"
            ],
            "text/html": [
              "<pre style=\"white-space:pre;overflow-x:auto;line-height:normal;font-family:Menlo,'DejaVu Sans Mono',consolas,'Courier New',monospace\">Initialized MLflow to track repo <span style=\"color: #008000; text-decoration-color: #008000\">\"IdjiotSandwiches/knn-fer\"</span>\n",
              "</pre>\n"
            ]
          },
          "metadata": {}
        },
        {
          "output_type": "display_data",
          "data": {
            "text/plain": [
              "Repository IdjiotSandwiches/knn-fer initialized!\n"
            ],
            "text/html": [
              "<pre style=\"white-space:pre;overflow-x:auto;line-height:normal;font-family:Menlo,'DejaVu Sans Mono',consolas,'Courier New',monospace\">Repository IdjiotSandwiches/knn-fer initialized!\n",
              "</pre>\n"
            ]
          },
          "metadata": {}
        }
      ]
    },
    {
      "cell_type": "code",
      "source": [
        "K_SIZE = (31,31)\n",
        "SIGMA = 4\n",
        "THETA_RANGE = np.arange(0, np.pi, np.pi/32)\n",
        "LAMBD = 10.0\n",
        "GAMMA = 0.5\n",
        "PSI = 0\n",
        "\n",
        "gabor_params = {\n",
        "    'ksize': K_SIZE,\n",
        "    'sigma': SIGMA,\n",
        "    'lambd': LAMBD,\n",
        "    'gamma': GAMMA,\n",
        "    'psi': PSI\n",
        "}"
      ],
      "metadata": {
        "id": "dkTt8IV6c82R"
      },
      "execution_count": 4,
      "outputs": []
    },
    {
      "cell_type": "code",
      "source": [
        "def gabor_filter(img):\n",
        "  features = []\n",
        "  for theta in THETA_RANGE:\n",
        "    kernel = cv.getGaborKernel(**gabor_params, theta=theta)\n",
        "    filter = cv.filter2D(img, cv.CV_64F, kernel)\n",
        "    features.append(filter)\n",
        "\n",
        "  return features"
      ],
      "metadata": {
        "id": "PsHCDjtqckSM"
      },
      "execution_count": 6,
      "outputs": []
    },
    {
      "cell_type": "code",
      "source": [
        "def open_dataset(dir):\n",
        "  images, labels = [], []\n",
        "\n",
        "  for i, label in enumerate(LABELS):\n",
        "    path = f'{dir}/{label}'\n",
        "    for j, img_path in enumerate(os.listdir(path)):\n",
        "      img = cv.imread(f'{path}/{img_path}')\n",
        "      img = cv.resize(img, (48,48))\n",
        "      img = cv.cvtColor(img, cv.COLOR_BGR2GRAY)\n",
        "      img = img / 255.0\n",
        "      img = gabor_filter(img)\n",
        "      images.append(img)\n",
        "      labels.append(i)\n",
        "\n",
        "  return np.array(images), np.array(labels)"
      ],
      "metadata": {
        "id": "nwlypq2AZ0kB"
      },
      "execution_count": 7,
      "outputs": []
    },
    {
      "cell_type": "code",
      "source": [
        "def save_filtered_img(images, labels):\n",
        "  folder_path = f'/content/drive/MyDrive/gabor-filtered-imgs'\n",
        "  os.makedirs(folder_path, exist_ok=True)\n",
        "\n",
        "  np.save(f'{folder_path}/images.npy', images)\n",
        "  np.save(f'{folder_path}/labels.npy', labels)\n",
        "\n",
        "  print('Ok!')"
      ],
      "metadata": {
        "id": "np5MQV1Spe5A"
      },
      "execution_count": 8,
      "outputs": []
    },
    {
      "cell_type": "code",
      "source": [
        "images, labels = open_dataset(PATH)\n",
        "images = images.reshape(images.shape[0], -1)\n",
        "save_filtered_img(images, labels)"
      ],
      "metadata": {
        "id": "tg7Y6GAw2X73",
        "colab": {
          "base_uri": "https://localhost:8080/"
        },
        "outputId": "2b10e27c-3870-4064-88f5-88e702fe1b1b"
      },
      "execution_count": 9,
      "outputs": [
        {
          "output_type": "stream",
          "name": "stdout",
          "text": [
            "Ok!\n"
          ]
        }
      ]
    },
    {
      "cell_type": "code",
      "source": [
        "images = np.load('/content/drive/MyDrive/gabor-filtered-imgs/images.npy')\n",
        "labels = np.load('/content/drive/MyDrive/gabor-filtered-imgs/labels.npy')"
      ],
      "metadata": {
        "id": "_dBjAGo7qxA2"
      },
      "execution_count": 5,
      "outputs": []
    },
    {
      "cell_type": "code",
      "source": [
        "TEST_SIZE = 0.2\n",
        "RANDOM_STATE = 42\n",
        "\n",
        "split_params = {\n",
        "    'test_size': TEST_SIZE,\n",
        "    'random_state': RANDOM_STATE\n",
        "}\n",
        "\n",
        "X_train, X_test, y_train, y_test = train_test_split(images, labels, **split_params)"
      ],
      "metadata": {
        "id": "gUcAAva_DQjO"
      },
      "execution_count": 6,
      "outputs": []
    },
    {
      "cell_type": "code",
      "source": [
        "N_NEIGHBORS = [3,5]\n",
        "WEIGHTS = ['uniform', 'distance']\n",
        "METRIC = ['minkowski', 'euclidean', 'manhattan']\n",
        "ALGORITHM = ['auto', 'ball_tree', 'kd_tree', 'brute']\n",
        "\n",
        "for n in N_NEIGHBORS:\n",
        "  for w in WEIGHTS:\n",
        "    for m in METRIC:\n",
        "      for a in ALGORITHM:\n",
        "        model_params = {\n",
        "            'n_neighbors': n,\n",
        "            'weights': w,\n",
        "            'metric': m,\n",
        "            'algorithm': a\n",
        "        }\n",
        "\n",
        "        model = KNeighborsClassifier(**model_params)\n",
        "        model.fit(X_train, y_train)\n",
        "\n",
        "        predict = model.predict(X_test)\n",
        "\n",
        "        metrics = {\n",
        "          'accuracy': accuracy_score(y_test, predict),\n",
        "          'precision': precision_score(y_test, predict, average='macro'),\n",
        "          'recall': recall_score(y_test, predict, average='macro'),\n",
        "          'f1': f1_score(y_test, predict, average='macro')\n",
        "        }\n",
        "\n",
        "        print(f\"Accuracy: {metrics['accuracy']}\\nPrecision: {metrics['precision']}\\nRecall: {metrics['recall']}\\nF1 Score: {metrics['f1']}\")\n",
        "\n",
        "        mlflow.set_experiment(\"KNN_Model Theta=32\")\n",
        "        mlflow.set_tracking_uri(\"https://dagshub.com/IdjiotSandwiches/knn-fer.mlflow\")\n",
        "\n",
        "        with mlflow.start_run(run_name=f'KNN n_neighbors={n}, weights={w}, metric={m}, algorithm={a}'):\n",
        "          mlflow.log_params(gabor_params)\n",
        "          mlflow.log_params(split_params)\n",
        "          mlflow.log_params(model_params)\n",
        "          mlflow.log_metrics(metrics)\n",
        "          mlflow.sklearn.log_model(\n",
        "              sk_model=model,\n",
        "              artifact_path='KNN Model',\n",
        "              input_example=X_train[:1]\n",
        "          )"
      ],
      "metadata": {
        "id": "rinxD5ml1ALw",
        "outputId": "19adf5df-000e-4ac1-b7cb-4f1784af296b",
        "colab": {
          "base_uri": "https://localhost:8080/"
        }
      },
      "execution_count": null,
      "outputs": [
        {
          "metadata": {
            "tags": null
          },
          "name": "stdout",
          "output_type": "stream",
          "text": [
            "Accuracy: 0.3074766355140187\n",
            "Precision: 0.3050938501361262\n",
            "Recall: 0.29387967874509396\n",
            "F1 Score: 0.2783373964588805\n"
          ]
        },
        {
          "metadata": {
            "tags": null
          },
          "name": "stderr",
          "output_type": "stream",
          "text": [
            "2024/11/30 10:59:14 INFO mlflow.tracking.fluent: Experiment with name 'KNN_Model Theta=32' does not exist. Creating a new experiment.\n",
            "WARNING:urllib3.connectionpool:Retrying (Retry(total=4, connect=5, read=5, redirect=5, status=5)) after connection broken by 'SSLEOFError(8, 'EOF occurred in violation of protocol (_ssl.c:2426)')': /IdjiotSandwiches/knn-fer.mlflow/api/2.0/mlflow-artifacts/artifacts/abe48ccf65564288adf7624e9ef9cb3e/b02f353aaeb3491cb74358282af9a0b4/artifacts/KNN%20Model/model.pkl\n"
          ]
        },
        {
          "metadata": {
            "tags": null
          },
          "name": "stdout",
          "output_type": "stream",
          "text": [
            "🏃 View run KNN n_neighbors=3, weights=uniform, metric=minkowski, algorithm=auto at: https://dagshub.com/IdjiotSandwiches/knn-fer.mlflow/#/experiments/4/runs/b02f353aaeb3491cb74358282af9a0b4\n",
            "🧪 View experiment at: https://dagshub.com/IdjiotSandwiches/knn-fer.mlflow/#/experiments/4\n",
            "Accuracy: 0.308411214953271\n",
            "Precision: 0.30554388973180335\n",
            "Recall: 0.2947200148795478\n",
            "F1 Score: 0.27900485072077663\n"
          ]
        },
        {
          "metadata": {
            "tags": null
          },
          "name": "stderr",
          "output_type": "stream",
          "text": [
            "WARNING:urllib3.connectionpool:Retrying (Retry(total=4, connect=5, read=5, redirect=5, status=5)) after connection broken by 'SSLEOFError(8, 'EOF occurred in violation of protocol (_ssl.c:2426)')': /IdjiotSandwiches/knn-fer.mlflow/api/2.0/mlflow-artifacts/artifacts/abe48ccf65564288adf7624e9ef9cb3e/923932c2679642a08150dd7eb2980d57/artifacts/KNN%20Model/model.pkl\n"
          ]
        },
        {
          "metadata": {
            "tags": null
          },
          "name": "stdout",
          "output_type": "stream",
          "text": [
            "🏃 View run KNN n_neighbors=3, weights=uniform, metric=minkowski, algorithm=ball_tree at: https://dagshub.com/IdjiotSandwiches/knn-fer.mlflow/#/experiments/4/runs/923932c2679642a08150dd7eb2980d57\n",
            "🧪 View experiment at: https://dagshub.com/IdjiotSandwiches/knn-fer.mlflow/#/experiments/4\n",
            "Accuracy: 0.308411214953271\n",
            "Precision: 0.30564408809920407\n",
            "Recall: 0.2947200148795478\n",
            "F1 Score: 0.2790072898045715\n",
            "🏃 View run KNN n_neighbors=3, weights=uniform, metric=minkowski, algorithm=kd_tree at: https://dagshub.com/IdjiotSandwiches/knn-fer.mlflow/#/experiments/4/runs/aa15c822146048458410e873536155a7\n",
            "🧪 View experiment at: https://dagshub.com/IdjiotSandwiches/knn-fer.mlflow/#/experiments/4\n",
            "Accuracy: 0.3074766355140187\n",
            "Precision: 0.3050938501361262\n",
            "Recall: 0.29387967874509396\n",
            "F1 Score: 0.2783373964588805\n",
            "🏃 View run KNN n_neighbors=3, weights=uniform, metric=minkowski, algorithm=brute at: https://dagshub.com/IdjiotSandwiches/knn-fer.mlflow/#/experiments/4/runs/df424c2fee9e46bd9b4a31f40bc56106\n",
            "🧪 View experiment at: https://dagshub.com/IdjiotSandwiches/knn-fer.mlflow/#/experiments/4\n",
            "Accuracy: 0.3074766355140187\n",
            "Precision: 0.3050938501361262\n",
            "Recall: 0.29387967874509396\n",
            "F1 Score: 0.2783373964588805\n",
            "🏃 View run KNN n_neighbors=3, weights=uniform, metric=euclidean, algorithm=auto at: https://dagshub.com/IdjiotSandwiches/knn-fer.mlflow/#/experiments/4/runs/2f79df49278f43c893227ddb55800674\n",
            "🧪 View experiment at: https://dagshub.com/IdjiotSandwiches/knn-fer.mlflow/#/experiments/4\n"
          ]
        },
        {
          "metadata": {
            "tags": null
          },
          "name": "stderr",
          "output_type": "stream",
          "text": [
            "WARNING:urllib3.connectionpool:Retrying (Retry(total=4, connect=5, read=4, redirect=5, status=5)) after connection broken by 'RemoteDisconnected('Remote end closed connection without response')': /IdjiotSandwiches/knn-fer.mlflow/api/2.0/mlflow/experiments/get-by-name?experiment_name=KNN_Model+Theta%3D32\n"
          ]
        },
        {
          "metadata": {
            "tags": null
          },
          "name": "stdout",
          "output_type": "stream",
          "text": [
            "Accuracy: 0.308411214953271\n",
            "Precision: 0.30554388973180335\n",
            "Recall: 0.2947200148795478\n",
            "F1 Score: 0.27900485072077663\n"
          ]
        },
        {
          "metadata": {
            "tags": null
          },
          "name": "stderr",
          "output_type": "stream",
          "text": [
            "WARNING:urllib3.connectionpool:Retrying (Retry(total=4, connect=5, read=5, redirect=5, status=5)) after connection broken by 'SSLEOFError(8, 'EOF occurred in violation of protocol (_ssl.c:2426)')': /IdjiotSandwiches/knn-fer.mlflow/api/2.0/mlflow-artifacts/artifacts/abe48ccf65564288adf7624e9ef9cb3e/eec782be7df14b27a88a49477edf3286/artifacts/KNN%20Model/model.pkl\n"
          ]
        },
        {
          "metadata": {
            "tags": null
          },
          "name": "stdout",
          "output_type": "stream",
          "text": [
            "🏃 View run KNN n_neighbors=3, weights=uniform, metric=euclidean, algorithm=ball_tree at: https://dagshub.com/IdjiotSandwiches/knn-fer.mlflow/#/experiments/4/runs/eec782be7df14b27a88a49477edf3286\n",
            "🧪 View experiment at: https://dagshub.com/IdjiotSandwiches/knn-fer.mlflow/#/experiments/4\n",
            "Accuracy: 0.308411214953271\n",
            "Precision: 0.30564408809920407\n",
            "Recall: 0.2947200148795478\n",
            "F1 Score: 0.2790072898045715\n",
            "🏃 View run KNN n_neighbors=3, weights=uniform, metric=euclidean, algorithm=kd_tree at: https://dagshub.com/IdjiotSandwiches/knn-fer.mlflow/#/experiments/4/runs/f6a2dd52f9ad4de7928c6899918adb7c\n",
            "🧪 View experiment at: https://dagshub.com/IdjiotSandwiches/knn-fer.mlflow/#/experiments/4\n",
            "Accuracy: 0.3074766355140187\n",
            "Precision: 0.3050938501361262\n",
            "Recall: 0.29387967874509396\n",
            "F1 Score: 0.2783373964588805\n"
          ]
        },
        {
          "metadata": {
            "tags": null
          },
          "name": "stderr",
          "output_type": "stream",
          "text": [
            "WARNING:urllib3.connectionpool:Retrying (Retry(total=4, connect=5, read=5, redirect=5, status=5)) after connection broken by 'SSLEOFError(8, 'EOF occurred in violation of protocol (_ssl.c:2426)')': /IdjiotSandwiches/knn-fer.mlflow/api/2.0/mlflow-artifacts/artifacts/abe48ccf65564288adf7624e9ef9cb3e/7da638b7f90b4ffc924ca1bba56e99b3/artifacts/KNN%20Model/model.pkl\n"
          ]
        },
        {
          "metadata": {
            "tags": null
          },
          "name": "stdout",
          "output_type": "stream",
          "text": [
            "🏃 View run KNN n_neighbors=3, weights=uniform, metric=euclidean, algorithm=brute at: https://dagshub.com/IdjiotSandwiches/knn-fer.mlflow/#/experiments/4/runs/7da638b7f90b4ffc924ca1bba56e99b3\n",
            "🧪 View experiment at: https://dagshub.com/IdjiotSandwiches/knn-fer.mlflow/#/experiments/4\n",
            "Accuracy: 0.3233644859813084\n",
            "Precision: 0.31787422780360425\n",
            "Recall: 0.30837462993039805\n",
            "F1 Score: 0.2955184378198163\n",
            "🏃 View run KNN n_neighbors=3, weights=uniform, metric=manhattan, algorithm=auto at: https://dagshub.com/IdjiotSandwiches/knn-fer.mlflow/#/experiments/4/runs/c0fe6cc1f71b4d0890cca4f4d474bb7d\n",
            "🧪 View experiment at: https://dagshub.com/IdjiotSandwiches/knn-fer.mlflow/#/experiments/4\n",
            "Accuracy: 0.3233644859813084\n",
            "Precision: 0.3177394374501707\n",
            "Recall: 0.30837462993039805\n",
            "F1 Score: 0.2954523945289038\n",
            "🏃 View run KNN n_neighbors=3, weights=uniform, metric=manhattan, algorithm=ball_tree at: https://dagshub.com/IdjiotSandwiches/knn-fer.mlflow/#/experiments/4/runs/3b8d1d02eaf148a78fbb3c667b6a18ba\n",
            "🧪 View experiment at: https://dagshub.com/IdjiotSandwiches/knn-fer.mlflow/#/experiments/4\n",
            "Accuracy: 0.3233644859813084\n",
            "Precision: 0.31789386738325554\n",
            "Recall: 0.30837462993039805\n",
            "F1 Score: 0.2955186129882777\n",
            "🏃 View run KNN n_neighbors=3, weights=uniform, metric=manhattan, algorithm=kd_tree at: https://dagshub.com/IdjiotSandwiches/knn-fer.mlflow/#/experiments/4/runs/3fe2f0693f6e4ddc914dc99a5c36f475\n",
            "🧪 View experiment at: https://dagshub.com/IdjiotSandwiches/knn-fer.mlflow/#/experiments/4\n",
            "Accuracy: 0.3233644859813084\n",
            "Precision: 0.31787422780360425\n",
            "Recall: 0.30837462993039805\n",
            "F1 Score: 0.2955184378198163\n",
            "🏃 View run KNN n_neighbors=3, weights=uniform, metric=manhattan, algorithm=brute at: https://dagshub.com/IdjiotSandwiches/knn-fer.mlflow/#/experiments/4/runs/8fbe5fd7680d48b5a5ecbbb7dc3ab649\n",
            "🧪 View experiment at: https://dagshub.com/IdjiotSandwiches/knn-fer.mlflow/#/experiments/4\n",
            "Accuracy: 0.34579439252336447\n",
            "Precision: 0.3263228137046797\n",
            "Recall: 0.3106175282484117\n",
            "F1 Score: 0.3123337182888574\n",
            "🏃 View run KNN n_neighbors=3, weights=distance, metric=minkowski, algorithm=auto at: https://dagshub.com/IdjiotSandwiches/knn-fer.mlflow/#/experiments/4/runs/285126e0488e41138872f9055643fb33\n",
            "🧪 View experiment at: https://dagshub.com/IdjiotSandwiches/knn-fer.mlflow/#/experiments/4\n",
            "Accuracy: 0.34766355140186916\n",
            "Precision: 0.3286418668785575\n",
            "Recall: 0.3130277230955814\n",
            "F1 Score: 0.3147611975894672\n"
          ]
        },
        {
          "metadata": {
            "tags": null
          },
          "name": "stderr",
          "output_type": "stream",
          "text": [
            "WARNING:urllib3.connectionpool:Retrying (Retry(total=4, connect=5, read=5, redirect=5, status=5)) after connection broken by 'SSLEOFError(8, 'EOF occurred in violation of protocol (_ssl.c:2426)')': /IdjiotSandwiches/knn-fer.mlflow/api/2.0/mlflow-artifacts/artifacts/abe48ccf65564288adf7624e9ef9cb3e/f055b28fb9714f9fb135bc5babb520f8/artifacts/KNN%20Model/model.pkl\n"
          ]
        },
        {
          "metadata": {
            "tags": null
          },
          "name": "stdout",
          "output_type": "stream",
          "text": [
            "🏃 View run KNN n_neighbors=3, weights=distance, metric=minkowski, algorithm=ball_tree at: https://dagshub.com/IdjiotSandwiches/knn-fer.mlflow/#/experiments/4/runs/f055b28fb9714f9fb135bc5babb520f8\n",
            "🧪 View experiment at: https://dagshub.com/IdjiotSandwiches/knn-fer.mlflow/#/experiments/4\n",
            "Accuracy: 0.34766355140186916\n",
            "Precision: 0.3287131082820621\n",
            "Recall: 0.3130277230955814\n",
            "F1 Score: 0.31473980038813476\n",
            "🏃 View run KNN n_neighbors=3, weights=distance, metric=minkowski, algorithm=kd_tree at: https://dagshub.com/IdjiotSandwiches/knn-fer.mlflow/#/experiments/4/runs/149874b20f7a402a9ec2acd812da0472\n",
            "🧪 View experiment at: https://dagshub.com/IdjiotSandwiches/knn-fer.mlflow/#/experiments/4\n",
            "Accuracy: 0.34579439252336447\n",
            "Precision: 0.3263228137046797\n",
            "Recall: 0.3106175282484117\n",
            "F1 Score: 0.3123337182888574\n",
            "🏃 View run KNN n_neighbors=3, weights=distance, metric=minkowski, algorithm=brute at: https://dagshub.com/IdjiotSandwiches/knn-fer.mlflow/#/experiments/4/runs/dfff4fde858b47119d34d5c534636329\n",
            "🧪 View experiment at: https://dagshub.com/IdjiotSandwiches/knn-fer.mlflow/#/experiments/4\n",
            "Accuracy: 0.34579439252336447\n",
            "Precision: 0.3263228137046797\n",
            "Recall: 0.3106175282484117\n",
            "F1 Score: 0.3123337182888574\n",
            "🏃 View run KNN n_neighbors=3, weights=distance, metric=euclidean, algorithm=auto at: https://dagshub.com/IdjiotSandwiches/knn-fer.mlflow/#/experiments/4/runs/7a9de47b7b074b1eaa9fe41894780820\n",
            "🧪 View experiment at: https://dagshub.com/IdjiotSandwiches/knn-fer.mlflow/#/experiments/4\n"
          ]
        },
        {
          "metadata": {
            "tags": null
          },
          "name": "stderr",
          "output_type": "stream",
          "text": [
            "WARNING:urllib3.connectionpool:Retrying (Retry(total=4, connect=5, read=4, redirect=5, status=5)) after connection broken by 'RemoteDisconnected('Remote end closed connection without response')': /IdjiotSandwiches/knn-fer.mlflow/api/2.0/mlflow/experiments/get-by-name?experiment_name=KNN_Model+Theta%3D32\n"
          ]
        },
        {
          "metadata": {
            "tags": null
          },
          "name": "stdout",
          "output_type": "stream",
          "text": [
            "Accuracy: 0.34766355140186916\n",
            "Precision: 0.3286418668785575\n",
            "Recall: 0.3130277230955814\n",
            "F1 Score: 0.3147611975894672\n",
            "🏃 View run KNN n_neighbors=3, weights=distance, metric=euclidean, algorithm=ball_tree at: https://dagshub.com/IdjiotSandwiches/knn-fer.mlflow/#/experiments/4/runs/42485c29c4e0471089b6564a796b58d6\n",
            "🧪 View experiment at: https://dagshub.com/IdjiotSandwiches/knn-fer.mlflow/#/experiments/4\n"
          ]
        },
        {
          "metadata": {
            "tags": null
          },
          "name": "stderr",
          "output_type": "stream",
          "text": [
            "WARNING:urllib3.connectionpool:Retrying (Retry(total=4, connect=5, read=4, redirect=5, status=5)) after connection broken by 'RemoteDisconnected('Remote end closed connection without response')': /IdjiotSandwiches/knn-fer.mlflow/api/2.0/mlflow/experiments/get-by-name?experiment_name=KNN_Model+Theta%3D32\n"
          ]
        },
        {
          "output_type": "stream",
          "name": "stdout",
          "text": [
            "Accuracy: 0.34766355140186916\n",
            "Precision: 0.3287131082820621\n",
            "Recall: 0.3130277230955814\n",
            "F1 Score: 0.31473980038813476\n",
            "🏃 View run KNN n_neighbors=3, weights=distance, metric=euclidean, algorithm=kd_tree at: https://dagshub.com/IdjiotSandwiches/knn-fer.mlflow/#/experiments/4/runs/344be1df03114619a9efdab34917c339\n",
            "🧪 View experiment at: https://dagshub.com/IdjiotSandwiches/knn-fer.mlflow/#/experiments/4\n",
            "Accuracy: 0.34579439252336447\n",
            "Precision: 0.3263228137046797\n",
            "Recall: 0.3106175282484117\n",
            "F1 Score: 0.3123337182888574\n",
            "🏃 View run KNN n_neighbors=3, weights=distance, metric=euclidean, algorithm=brute at: https://dagshub.com/IdjiotSandwiches/knn-fer.mlflow/#/experiments/4/runs/32696a22a213424999b7f229720bcf01\n",
            "🧪 View experiment at: https://dagshub.com/IdjiotSandwiches/knn-fer.mlflow/#/experiments/4\n",
            "Accuracy: 0.3663551401869159\n",
            "Precision: 0.3502625307532238\n",
            "Recall: 0.3333851627875379\n",
            "F1 Score: 0.33528941745796753\n",
            "🏃 View run KNN n_neighbors=3, weights=distance, metric=manhattan, algorithm=auto at: https://dagshub.com/IdjiotSandwiches/knn-fer.mlflow/#/experiments/4/runs/73e839217e7a41fda438ce6cf6255ab9\n",
            "🧪 View experiment at: https://dagshub.com/IdjiotSandwiches/knn-fer.mlflow/#/experiments/4\n",
            "Accuracy: 0.3663551401869159\n",
            "Precision: 0.3502625307532238\n",
            "Recall: 0.3333851627875379\n",
            "F1 Score: 0.33528941745796753\n",
            "🏃 View run KNN n_neighbors=3, weights=distance, metric=manhattan, algorithm=ball_tree at: https://dagshub.com/IdjiotSandwiches/knn-fer.mlflow/#/experiments/4/runs/eb85904cd922468aae7cc8ff958d2981\n",
            "🧪 View experiment at: https://dagshub.com/IdjiotSandwiches/knn-fer.mlflow/#/experiments/4\n",
            "Accuracy: 0.3663551401869159\n",
            "Precision: 0.3502625307532238\n",
            "Recall: 0.3333851627875379\n",
            "F1 Score: 0.33528941745796753\n",
            "🏃 View run KNN n_neighbors=3, weights=distance, metric=manhattan, algorithm=kd_tree at: https://dagshub.com/IdjiotSandwiches/knn-fer.mlflow/#/experiments/4/runs/63a9cdf905ea4d46bb69f00b14d072b8\n",
            "🧪 View experiment at: https://dagshub.com/IdjiotSandwiches/knn-fer.mlflow/#/experiments/4\n",
            "Accuracy: 0.3663551401869159\n",
            "Precision: 0.3502625307532238\n",
            "Recall: 0.3333851627875379\n",
            "F1 Score: 0.33528941745796753\n",
            "🏃 View run KNN n_neighbors=3, weights=distance, metric=manhattan, algorithm=brute at: https://dagshub.com/IdjiotSandwiches/knn-fer.mlflow/#/experiments/4/runs/edaf731ea2624da0b9e7c5be3b61e5c6\n",
            "🧪 View experiment at: https://dagshub.com/IdjiotSandwiches/knn-fer.mlflow/#/experiments/4\n",
            "Accuracy: 0.32149532710280376\n",
            "Precision: 0.2974186861475799\n",
            "Recall: 0.28356633397364855\n",
            "F1 Score: 0.28050439677949995\n",
            "🏃 View run KNN n_neighbors=5, weights=uniform, metric=minkowski, algorithm=auto at: https://dagshub.com/IdjiotSandwiches/knn-fer.mlflow/#/experiments/4/runs/d4d86dde08584266aef252c40cb2c9bc\n",
            "🧪 View experiment at: https://dagshub.com/IdjiotSandwiches/knn-fer.mlflow/#/experiments/4\n"
          ]
        }
      ]
    },
    {
      "cell_type": "code",
      "source": [
        "for p, y in zip(predict[:20], y_test[:20]):\n",
        "  print(f'Predict: {LABELS[p]} | Real: {LABELS[y]}')"
      ],
      "metadata": {
        "id": "jdWcylVFCQBp",
        "outputId": "f8ca1822-a97f-4725-b1b9-0b1191f3d594",
        "colab": {
          "base_uri": "https://localhost:8080/"
        }
      },
      "execution_count": 25,
      "outputs": [
        {
          "output_type": "stream",
          "name": "stdout",
          "text": [
            "Predict: happy | Real: happy\n",
            "Predict: sad | Real: fear\n",
            "Predict: surprise | Real: surprise\n",
            "Predict: angry | Real: sad\n",
            "Predict: angry | Real: fear\n",
            "Predict: surprise | Real: surprise\n",
            "Predict: fear | Real: surprise\n",
            "Predict: happy | Real: happy\n",
            "Predict: fear | Real: fear\n",
            "Predict: angry | Real: sad\n",
            "Predict: sad | Real: sad\n",
            "Predict: neutral | Real: angry\n",
            "Predict: sad | Real: angry\n",
            "Predict: happy | Real: angry\n",
            "Predict: fear | Real: disgust\n",
            "Predict: fear | Real: disgust\n",
            "Predict: happy | Real: happy\n",
            "Predict: happy | Real: happy\n",
            "Predict: happy | Real: happy\n",
            "Predict: happy | Real: happy\n"
          ]
        }
      ]
    }
  ]
}