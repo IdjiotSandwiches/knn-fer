{
  "nbformat": 4,
  "nbformat_minor": 0,
  "metadata": {
    "colab": {
      "provenance": [],
      "authorship_tag": "ABX9TyPsysFYWZhSVISQMWkRBVI1",
      "include_colab_link": true
    },
    "kernelspec": {
      "name": "python3",
      "display_name": "Python 3"
    },
    "language_info": {
      "name": "python"
    }
  },
  "cells": [
    {
      "cell_type": "markdown",
      "metadata": {
        "id": "view-in-github",
        "colab_type": "text"
      },
      "source": [
        "<a href=\"https://colab.research.google.com/github/IdjiotSandwiches/knn-fer/blob/download-dataset/data_augmentation.ipynb\" target=\"_parent\"><img src=\"https://colab.research.google.com/assets/colab-badge.svg\" alt=\"Open In Colab\"/></a>"
      ]
    },
    {
      "cell_type": "code",
      "execution_count": null,
      "metadata": {
        "id": "-qnEnkZZokh9"
      },
      "outputs": [],
      "source": [
        "import cv2 as cv\n",
        "import os\n",
        "import pathlib\n",
        "import random"
      ]
    },
    {
      "cell_type": "code",
      "source": [
        "from google.colab import drive\n",
        "drive.mount('/content/drive')\n",
        "\n",
        "%cd \"/content/drive/MyDrive/\""
      ],
      "metadata": {
        "id": "TW8vKjlABf0D"
      },
      "execution_count": null,
      "outputs": []
    },
    {
      "cell_type": "code",
      "source": [
        "PATH = pathlib.Path('facial-emotion-recognition')\n",
        "LABELS = os.listdir(PATH)"
      ],
      "metadata": {
        "id": "T9v4lL4HBhPz"
      },
      "execution_count": null,
      "outputs": []
    },
    {
      "cell_type": "code",
      "source": [
        "count = []\n",
        "for label in LABELS:\n",
        "  dir = f'{PATH}/{label}'\n",
        "  folder_item_count = len(os.listdir(dir))\n",
        "  count.append(folder_item_count)\n",
        "  print(f'{label}: {folder_item_count}')\n",
        "\n",
        "HIGHEST_COUNT = max(count)\n",
        "print(f'Highest count: {HIGHEST_COUNT}')"
      ],
      "metadata": {
        "id": "09nWPzP_nB2k",
        "outputId": "b93f515c-2336-42dd-b6a0-f3ea56b5483f",
        "colab": {
          "base_uri": "https://localhost:8080/"
        }
      },
      "execution_count": null,
      "outputs": [
        {
          "output_type": "stream",
          "name": "stdout",
          "text": [
            "surprise: 775\n",
            "disgust: 439\n",
            "fear: 570\n",
            "neutral: 524\n",
            "happy: 1406\n",
            "sad: 746\n",
            "angry: 890\n",
            "Highest count: 1406\n"
          ]
        }
      ]
    },
    {
      "cell_type": "code",
      "source": [
        "def rotate(img):\n",
        "  Cx, Cy = img.shape[:2]\n",
        "  rand_angle = random.randint(-180,180)\n",
        "  M = cv.getRotationMatrix2D((Cy//2, Cx//2),rand_angle ,1)\n",
        "  img = cv.warpAffine(img, M, (Cx, Cy))\n",
        "  return img\n",
        "\n",
        "def flip(img):\n",
        "  num = [0, 1, -1]\n",
        "  img = cv.flip(img, random.choice(num))\n",
        "  return img\n",
        "\n",
        "def noise(img):\n",
        "  row, col = img.shape[:2]\n",
        "  number_of_pixels = random.randint(300, 1000)\n",
        "  for i in range(number_of_pixels):\n",
        "    y_coord=random.randint(0, row - 1)\n",
        "    x_coord=random.randint(0, col - 1)\n",
        "    img[y_coord][x_coord] = 255\n",
        "\n",
        "  number_of_pixels = random.randint(300 , 1000)\n",
        "  for i in range(number_of_pixels):\n",
        "      y_coord=random.randint(0, row - 1)\n",
        "      x_coord=random.randint(0, col - 1)\n",
        "      img[y_coord][x_coord] = 0\n",
        "  return img"
      ],
      "metadata": {
        "id": "DrnZP-IrxxTZ"
      },
      "execution_count": null,
      "outputs": []
    },
    {
      "cell_type": "code",
      "source": [
        "data = {}\n",
        "\n",
        "for i, label in enumerate(LABELS):\n",
        "  path = f'{PATH}/{label}'\n",
        "  data[label] = []\n",
        "  for j, img_path in enumerate(os.listdir(path)):\n",
        "    img = cv.imread(f'{path}/{img_path}')\n",
        "    data[label].append(img)"
      ],
      "metadata": {
        "id": "BkBMgrDHohXx"
      },
      "execution_count": null,
      "outputs": []
    },
    {
      "cell_type": "code",
      "source": [
        "for label in LABELS:\n",
        "  images = data[label]\n",
        "  for img in images:\n",
        "    if(len(data[label]) == HIGHEST_COUNT):\n",
        "      break\n",
        "\n",
        "    num = [1,2,3]\n",
        "    rand = random.choice(num)\n",
        "\n",
        "    if(rand == 1):\n",
        "      img = rotate(img)\n",
        "    elif(rand == 2):\n",
        "      img = flip(img)\n",
        "    elif(rand == 3):\n",
        "      img = noise(img)\n",
        "\n",
        "    data[label].append(img)"
      ],
      "metadata": {
        "id": "KkD3gLF8qjrU"
      },
      "execution_count": null,
      "outputs": []
    },
    {
      "cell_type": "code",
      "source": [
        "for label in LABELS:\n",
        "  print(label)\n",
        "  for i, img in enumerate(data[label]):\n",
        "    path = f'/content/drive/MyDrive/facial-emotion-recognition-augmented/{label}'\n",
        "    os.makedirs(path, exist_ok=True)\n",
        "\n",
        "    img_name = f'{path}/{label}_{i}.png'\n",
        "    cv.imwrite(img_name, img)"
      ],
      "metadata": {
        "id": "La_cMjQT7Uz6",
        "outputId": "13f1807d-ddaf-4bd8-9b53-eae351528b8b",
        "colab": {
          "base_uri": "https://localhost:8080/"
        }
      },
      "execution_count": null,
      "outputs": [
        {
          "output_type": "stream",
          "name": "stdout",
          "text": [
            "surprise\n",
            "disgust\n",
            "fear\n",
            "neutral\n",
            "happy\n",
            "sad\n",
            "angry\n"
          ]
        }
      ]
    }
  ]
}